{
  "cells": [
    {
      "cell_type": "code",
      "execution_count": null,
      "metadata": {
        "id": "xHE41CJkRgKd"
      },
      "outputs": [],
      "source": [
        "import torch"
      ]
    },
    {
      "cell_type": "code",
      "execution_count": null,
      "metadata": {
        "id": "QkAPOmFrRhlE"
      },
      "outputs": [],
      "source": [
        "torch.cuda.is_available()"
      ]
    },
    {
      "cell_type": "markdown",
      "metadata": {
        "id": "vq2i97EkXKX0"
      },
      "source": [
        "Google Collab - what it is"
      ]
    },
    {
      "cell_type": "markdown",
      "metadata": {
        "id": "FyD0wZQDXP2c"
      },
      "source": [
        "---\n",
        "## EXECUTING YOUR FIRST PYTHON CODE\n",
        "\n",
        "execute command by pressing \"play\" button on the left    \n",
        "Ctl + C will execute the cell   \n",
        "Ctl + Shift will execute the cell and move to the next one   \n"
      ]
    },
    {
      "cell_type": "code",
      "execution_count": null,
      "metadata": {
        "colab": {
          "base_uri": "https://localhost:8080/"
        },
        "id": "7_ABpLWFXm11",
        "outputId": "469dc880-cfc4-43c8-dd74-8d1828a92a60"
      },
      "outputs": [
        {
          "data": {
            "text/plain": [
              "5"
            ]
          },
          "execution_count": 1,
          "metadata": {},
          "output_type": "execute_result"
        }
      ],
      "source": [
        "5"
      ]
    },
    {
      "cell_type": "markdown",
      "metadata": {
        "id": "8hiJhbSSY-KM"
      },
      "source": [
        "💡 lines starting with **#** are not executed - comments \n",
        "``` python\n",
        "# print('something') - comment line  \n",
        "print('something')   - code line  \n",
        "```"
      ]
    },
    {
      "cell_type": "code",
      "execution_count": null,
      "metadata": {
        "colab": {
          "base_uri": "https://localhost:8080/"
        },
        "id": "l5tWJZ_tXonr",
        "outputId": "cdd5066e-4c7e-40eb-d8eb-a9a4f0c08072"
      },
      "outputs": [
        {
          "data": {
            "text/plain": [
              "12"
            ]
          },
          "execution_count": 12,
          "metadata": {},
          "output_type": "execute_result"
        }
      ],
      "source": [
        "5 + 7"
      ]
    },
    {
      "cell_type": "code",
      "execution_count": 2,
      "metadata": {
        "colab": {
          "base_uri": "https://localhost:8080/"
        },
        "id": "Zfe_52TrX4yS",
        "outputId": "0dd507eb-4064-430b-af60-dcc83185d086"
      },
      "outputs": [
        {
          "name": "stdout",
          "output_type": "stream",
          "text": [
            "Hello World!\n"
          ]
        }
      ],
      "source": [
        "print('Hello World!')"
      ]
    },
    {
      "cell_type": "markdown",
      "metadata": {
        "id": "OV7CIhumXvg8"
      },
      "source": [
        "\n",
        "\n",
        "---\n",
        "## VARIABLES\n",
        "We did not store any data in previous examples. However, often we need to store it.\n",
        "\n",
        "**Variable** is the container storing some value. It is created when we assign the value:\n",
        "Most common **types** are:     \n",
        "\n",
        "<pre>\n",
        "*   integer  (int):    0, 17, 3456\n",
        "*   float    (float):  0.1, 16.7\n",
        "*   string   (str):    'five', 'string'\n",
        "*   boolean  (bool):   True, False\n",
        "*   none     (None):   None\n",
        "</pre>\n",
        "\n",
        "```\n",
        "a = 5    \n",
        "b = 7\n",
        "```\n",
        "🚫 do not name your variables as built-in types - this will overwrite deafault types!\n",
        "```python\n",
        "str = 5 #bad naming, str() is built-in conversion to string\n",
        "````\n",
        "💡 ALWAYS name variables carefully and meaningfully  \n",
        "💡 you can print variable immediately after assigning it in the interactive mode:"
      ]
    },
    {
      "cell_type": "code",
      "execution_count": 3,
      "metadata": {
        "colab": {
          "base_uri": "https://localhost:8080/"
        },
        "id": "CH4y1dKndjkV",
        "outputId": "f6cfe471-cc79-40f8-e222-24c7388795b0"
      },
      "outputs": [
        {
          "data": {
            "text/plain": [
              "7"
            ]
          },
          "execution_count": 3,
          "metadata": {},
          "output_type": "execute_result"
        }
      ],
      "source": [
        "a = 5\n",
        "b = 7\n",
        "a\n",
        "b\n",
        "# print function was not necessary but you can print only ONE LAST var this way"
      ]
    },
    {
      "cell_type": "code",
      "execution_count": null,
      "metadata": {
        "colab": {
          "base_uri": "https://localhost:8080/"
        },
        "id": "6rt0rRomyEre",
        "outputId": "7930f3b7-c54e-41a3-b8e2-56617c19a9f3"
      },
      "outputs": [
        {
          "name": "stdout",
          "output_type": "stream",
          "text": [
            "a = 5\n",
            "b = 7\n"
          ]
        }
      ],
      "source": [
        "# to print all variables, use print statements\n",
        "print('a =', a)\n",
        "print('b =', b)"
      ]
    },
    {
      "cell_type": "markdown",
      "metadata": {},
      "source": [
        "💡 vars could be converted to another type"
      ]
    },
    {
      "cell_type": "code",
      "execution_count": 7,
      "metadata": {},
      "outputs": [
        {
          "data": {
            "text/plain": [
              "'6'"
            ]
          },
          "execution_count": 7,
          "metadata": {},
          "output_type": "execute_result"
        }
      ],
      "source": [
        "a = 6      # note that we reassigned var a \n",
        "a = str(a) # a is a string now\n",
        "a"
      ]
    },
    {
      "cell_type": "code",
      "execution_count": 9,
      "metadata": {},
      "outputs": [
        {
          "ename": "TypeError",
          "evalue": "can only concatenate str (not \"int\") to str",
          "output_type": "error",
          "traceback": [
            "\u001b[0;31m---------------------------------------------------------------------------\u001b[0m",
            "\u001b[0;31mTypeError\u001b[0m                                 Traceback (most recent call last)",
            "Cell \u001b[0;32mIn[9], line 2\u001b[0m\n\u001b[1;32m      1\u001b[0m b \u001b[39m=\u001b[39m \u001b[39m'\u001b[39m\u001b[39m245\u001b[39m\u001b[39m'\u001b[39m  \u001b[39m# b is now string\u001b[39;00m\n\u001b[0;32m----> 2\u001b[0m b \u001b[39m+\u001b[39;49m \u001b[39m5\u001b[39;49m\n",
            "\u001b[0;31mTypeError\u001b[0m: can only concatenate str (not \"int\") to str"
          ]
        }
      ],
      "source": [
        "b = '245'  # b is now string\n",
        "b + 5      # we cannot sum up them anymore"
      ]
    },
    {
      "cell_type": "code",
      "execution_count": 92,
      "metadata": {},
      "outputs": [],
      "source": [
        "index = 1"
      ]
    },
    {
      "cell_type": "markdown",
      "metadata": {},
      "source": [
        "### ❔ *assignment 1.1* \n",
        "use already defined `b = '245'` and add 5 "
      ]
    },
    {
      "cell_type": "code",
      "execution_count": 10,
      "metadata": {},
      "outputs": [],
      "source": [
        "# your code\n",
        "\n",
        "\n"
      ]
    },
    {
      "cell_type": "markdown",
      "metadata": {
        "id": "yR76TahpdCVN"
      },
      "source": [
        "### ❔ *assignment 1.2*\n",
        "\n",
        "```python\n",
        "a = 100\n",
        "b = 221\n",
        "```\n",
        "1. create new variable `c` which stores the sum of `a` and `b`\n",
        "2. `print` its name and value\n",
        "\n"
      ]
    },
    {
      "cell_type": "code",
      "execution_count": null,
      "metadata": {
        "id": "O9L75R5tb-F2"
      },
      "outputs": [],
      "source": [
        "# your code\n"
      ]
    },
    {
      "cell_type": "markdown",
      "metadata": {
        "id": "MBMCkbcIYGCs"
      },
      "source": [
        "---\n",
        "# COMMON OPERATIONS\n",
        "\n",
        "Python natively supports all common arithemtic operations.\n",
        "\n",
        "# arithmetic operators\n",
        "\n",
        "\n",
        "| Operator         | Description                | Example                |\n",
        "|------------------|----------------------------|------------------------|\n",
        "| `+`              | Addition                   | `x + y`                |\n",
        "| `-`              | Subtraction                | `x - y`                |\n",
        "| `*`              | Multiplication             | `x * y`                |\n",
        "| `/`              | Division                   | `x / y`                |\n",
        "| `%`              | Modulus (remainder)        | `x % y`                |\n",
        "| `**`             | Exponentiation             | `x ** y`               |\n",
        "\n"
      ]
    },
    {
      "cell_type": "code",
      "execution_count": 19,
      "metadata": {
        "id": "kPhIDAW48L0G"
      },
      "outputs": [],
      "source": [
        "# assign variables x,y\n",
        "x = 12\n",
        "y = 5"
      ]
    },
    {
      "cell_type": "code",
      "execution_count": 14,
      "metadata": {
        "colab": {
          "base_uri": "https://localhost:8080/"
        },
        "id": "xRMMnjS-_ATp",
        "outputId": "5d10a454-ea0e-4668-cbdb-dc1369619cf1"
      },
      "outputs": [
        {
          "name": "stdout",
          "output_type": "stream",
          "text": [
            "result of addition =  17\n"
          ]
        }
      ],
      "source": [
        "addition = x + y\n",
        "print('result of addition = ', addition)"
      ]
    },
    {
      "cell_type": "code",
      "execution_count": 93,
      "metadata": {
        "id": "azZ9t7lR-7Cs"
      },
      "outputs": [
        {
          "name": "stdout",
          "output_type": "stream",
          "text": [
            "result of multiplication =  60\n"
          ]
        }
      ],
      "source": [
        "multiplication = x * y\n",
        "print('result of multiplication = ', multiplication)"
      ]
    },
    {
      "cell_type": "code",
      "execution_count": 18,
      "metadata": {},
      "outputs": [
        {
          "name": "stdout",
          "output_type": "stream",
          "text": [
            "result of modulus =  2.5\n"
          ]
        }
      ],
      "source": [
        "modulus = x % y\n",
        "print('result of modulus = ', modulus)"
      ]
    },
    {
      "cell_type": "markdown",
      "metadata": {},
      "source": [
        "In practive, numerical data is more often represented by **floats**.    \n",
        "💡 Be aware, that floats are prone to rounding errors when comparing them directly. "
      ]
    },
    {
      "cell_type": "markdown",
      "metadata": {},
      "source": [
        "### Comparison Operators\n",
        "\n",
        "Python comparison operators, well, allows you to compare values on either sides of the expression.   \n",
        "They return Boolean values only: `True`, `False`\n",
        "\n",
        "| Operator         | Description                | Example                |\n",
        "|------------------|----------------------------|------------------------|\n",
        "| `==`             | Equal to                   | `a == b`               |\n",
        "| `!=`             | Not equal to               | `a != b`               |\n",
        "| `>`              | Greater than               | `a > b`                |\n",
        "| `<`              | Less than                  | `a < b`                |\n",
        "| `>=`             | Greater than or equal to   | `a >= b`               |\n",
        "| `<=`             | Less than or equal to      | `a <= b`               |"
      ]
    },
    {
      "cell_type": "code",
      "execution_count": 94,
      "metadata": {},
      "outputs": [
        {
          "data": {
            "text/plain": [
              "True"
            ]
          },
          "execution_count": 94,
          "metadata": {},
          "output_type": "execute_result"
        }
      ],
      "source": [
        "# let's check equality operator\n",
        "a = 36\n",
        "b = 12 * 3 \n",
        "a == b"
      ]
    },
    {
      "cell_type": "code",
      "execution_count": 97,
      "metadata": {},
      "outputs": [
        {
          "data": {
            "text/plain": [
              "False"
            ]
          },
          "execution_count": 97,
          "metadata": {},
          "output_type": "execute_result"
        }
      ],
      "source": [
        "# is a greater than b?\n",
        "a > b"
      ]
    },
    {
      "cell_type": "code",
      "execution_count": 98,
      "metadata": {},
      "outputs": [
        {
          "data": {
            "text/plain": [
              "True"
            ]
          },
          "execution_count": 98,
          "metadata": {},
          "output_type": "execute_result"
        }
      ],
      "source": [
        "# is a greater or equal to b?\n",
        "a >= b"
      ]
    },
    {
      "cell_type": "code",
      "execution_count": 26,
      "metadata": {},
      "outputs": [
        {
          "data": {
            "text/plain": [
              "False"
            ]
          },
          "execution_count": 26,
          "metadata": {},
          "output_type": "execute_result"
        }
      ],
      "source": [
        "a = 85\n",
        "b = '85'\n",
        "a == b # why is it false?"
      ]
    },
    {
      "cell_type": "code",
      "execution_count": 27,
      "metadata": {},
      "outputs": [
        {
          "data": {
            "text/plain": [
              "True"
            ]
          },
          "execution_count": 27,
          "metadata": {},
          "output_type": "execute_result"
        }
      ],
      "source": [
        "a != b "
      ]
    },
    {
      "cell_type": "markdown",
      "metadata": {},
      "source": [
        "### ❔  *assignment 2.1*\n",
        "\n",
        "recreate `greeting` using `str1` and `str2`   \n",
        "you are allowed to modify strings and use all other string methods"
      ]
    },
    {
      "cell_type": "code",
      "execution_count": 104,
      "metadata": {},
      "outputs": [],
      "source": [
        "greeting = 'Hello World!'\n",
        "\n",
        "str1 = 'Hello' \n",
        "str2 = 'world'"
      ]
    },
    {
      "cell_type": "code",
      "execution_count": 106,
      "metadata": {},
      "outputs": [
        {
          "data": {
            "text/plain": [
              "'Hello World!'"
            ]
          },
          "execution_count": 106,
          "metadata": {},
          "output_type": "execute_result"
        }
      ],
      "source": [
        "str1 + ' ' + str2"
      ]
    },
    {
      "cell_type": "markdown",
      "metadata": {
        "id": "BUSApgFXTu78"
      },
      "source": [
        "---\n",
        "# DATA STRUCTURES\n",
        "\n",
        "Python has great arsenal of data structures to hold collection of values. \n",
        "\n",
        "| Data Structure   | Description                                       | Example                   |\n",
        "|------------------|---------------------------------------------------|---------------------------|\n",
        "| List             | Ordered collection of elements, mutable           | `[1, 2, 3]`               |\n",
        "| Tuple            | Ordered collection of elements, immutable         | `(1, 2, 3)`               |\n",
        "| Set              | Unordered collection of unique elements           | `{1, 2, 3}`               |\n",
        "| Dictionary       | Collection of key-value pairs                    | `{'name': 'John', 'age': 30}` |\n",
        "\n",
        "📢 Python index elements of data starting from **0**. So called zero-based indexing.   \n",
        "In contrast, Fortran starts indexing at 1.  \n",
        "\n",
        "**Mutable object** - can be changed after creation - we can delete, or add new values to `[list]`   \n",
        "**Immutable object** - cannot be modified after creation (we cannot delete or add objects to `(tuple)`\n",
        "\n",
        "🚫 DO NOT name your data structure with standard names:\n",
        "\n",
        "```python\n",
        "list     = [1,2,3] # wrong\n",
        "my_list  = [1,2,3] # correct\n",
        "int_list = [1,2,3]\n",
        "\n",
        "list() is a reserved conversion operation\n",
        "int_tuple = (1,2,3)         # immutable\n",
        "int_list  = list(int_tuple) # now mutable\n",
        "```\n",
        "\n"
      ]
    },
    {
      "cell_type": "markdown",
      "metadata": {
        "id": "ggLesFHgXySE"
      },
      "source": [
        "## LISTS\n",
        "\n",
        "💡 Lists are ordered and mutable. They are very useful for colleting data which should be dynamically modified.    \n",
        "\n",
        "```python\n",
        "my_list  = [1,2,3] \n",
        "```\n",
        "\n",
        "\n",
        "| Python Operation               | Description                                        | Result                          |\n",
        "|--------------------------------|----------------------------------------------------|---------------------------------| \n",
        "| `my_list.append(4)`            | Append an Element                                  | `[1, 2, 3, 4]`                  |\n",
        "| `my_list.insert(1, 5)`         | Insert an Element at position 2                    | `[1, 5, 2, 3]`                  |\n",
        "| `my_list.remove(3)`            | Remove an Element by Value                         | `[1,2]`                         |\n",
        "| `index = my_list.index(2)`     | Find the Index of an Element                       | `index is now 3`                |\n",
        "| `my_list.sort()`               | Sort the List in Ascending Order                   | `[1, 2, 3]`                     |\n",
        "| `my_list.reverse()`            | Reverse the List                                   | `[3, 2, 1]`                     |\n",
        "| `len(my_list)`                 | Length of list                                     | `3`                            |\n",
        "\n",
        "📢 In this tutorial, almost all tables contain only most common and important operations.   \n",
        "For more information, consult official Python docs, books or online tutorials.\n"
      ]
    },
    {
      "cell_type": "code",
      "execution_count": 124,
      "metadata": {},
      "outputs": [
        {
          "data": {
            "text/plain": [
              "['audi', 'bmw', 'toyota', 'subaru', 'kia']"
            ]
          },
          "execution_count": 124,
          "metadata": {},
          "output_type": "execute_result"
        }
      ],
      "source": [
        "makes = ['audi', 'bmw', 'toyota', 'subaru']\n",
        "makes.append('kia') # append modifies list in-place: no = assignment operator\n",
        "makes "
      ]
    },
    {
      "cell_type": "code",
      "execution_count": 125,
      "metadata": {},
      "outputs": [
        {
          "data": {
            "text/plain": [
              "['audi', 'bmw', 'toyota', 'subaru', 'kia']"
            ]
          },
          "execution_count": 125,
          "metadata": {},
          "output_type": "execute_result"
        }
      ],
      "source": [
        "#alternatively\n",
        "makes = ['audi', 'bmw', 'toyota', 'subaru']\n",
        "makes = makes + ['kia'] # the same as append, but not in-place\n",
        "makes"
      ]
    },
    {
      "cell_type": "code",
      "execution_count": 123,
      "metadata": {},
      "outputs": [
        {
          "data": {
            "text/plain": [
              "['kia', 'subaru', 'toyota', 'bmw', 'audi']"
            ]
          },
          "execution_count": 123,
          "metadata": {},
          "output_type": "execute_result"
        }
      ],
      "source": [
        "makes.reverse() # another in-place method\n",
        "makes "
      ]
    },
    {
      "cell_type": "markdown",
      "metadata": {},
      "source": [
        "## INDEXING and SLICING\n",
        "\n",
        "**Indexing** and **slicing** allows to check, extract and modify common data structures.   \n",
        "📢 Those are **very common** operations. Practice to master them!\n",
        "\n",
        "```python\n",
        "my_list = [10, 20, 30, 40, 50]\n",
        "```\n",
        "\n",
        "| Concept                      | Description                                       | Example                                      |\n",
        "|------------------------------|---------------------------------------------------|----------------------------------------------|\n",
        "| Indexing                     | Accessing a single element by its position        | `element = my_list[1]`<br>`# element is now 20`                        |\n",
        "| Negative Indexing            | Accessing elements from the end with negative indices | `element = my_list[-1]`<br>`# element is now 50`                        |\n",
        "| Slicing                      | Extracting a portion of a sequence    | `subset = my_list[1:4]`<br>`# subset is [20, 30, 40]`                 |\n",
        "| Slicing with Steps           | Extracting elements with a step (stride)           | `subset = my_list[1:-1:2]`<br>`# subset is [20, 40]`                    |\n",
        "| Omitting Start or End Index  | Using default start or end indices in slicing     | `subset = my_list[:3]`<br>`# subset is [10, 20, 30]`                 |\n",
        "| Slicing to the End           | Slicing from a specific index to the end          | `subset = my_list[2:]`<br>`# subset is [30, 40, 50]`                 |\n",
        "| Slicing with Negative Index  | Using negative indices in slicing                  | `subset = my_list[-3:-1]`<br>`# subset is [30, 40]`                   |\n",
        "| Reversing a Sequence         | Reversing a list or string using slicing           | `reversed_list = my_list[::-1]`<br>`# reversed_list is [50, 40, 30, 20, 10]` |\n"
      ]
    },
    {
      "cell_type": "code",
      "execution_count": 46,
      "metadata": {},
      "outputs": [
        {
          "name": "stdout",
          "output_type": "stream",
          "text": [
            "first element of the list = audi\n",
            "last element of the list = kia\n"
          ]
        }
      ],
      "source": [
        "# access the first element of the list\n",
        "makes = ['audi', 'bmw', 'toyota', 'subaru', 'kia']\n",
        "\n",
        "print('first element of the list =',makes[0])\n",
        "print('last element of the list =',makes[-1])"
      ]
    },
    {
      "cell_type": "code",
      "execution_count": 108,
      "metadata": {},
      "outputs": [
        {
          "name": "stdout",
          "output_type": "stream",
          "text": [
            "every other element of the list = ['audi', 'toyota', 'kia']\n"
          ]
        }
      ],
      "source": [
        "# let's select every other make\n",
        "print('every other element of the list =',makes[::2])"
      ]
    },
    {
      "cell_type": "code",
      "execution_count": 111,
      "metadata": {},
      "outputs": [
        {
          "data": {
            "text/plain": [
              "['ford', 'audi', 'bmw', 'toyota', 'subaru', 'kia']"
            ]
          },
          "execution_count": 111,
          "metadata": {},
          "output_type": "execute_result"
        }
      ],
      "source": [
        "# let's now insert new make at the begginig of the list\n",
        "makes.insert(0, 'ford')\n",
        "makes"
      ]
    },
    {
      "cell_type": "code",
      "execution_count": 113,
      "metadata": {},
      "outputs": [
        {
          "data": {
            "text/plain": [
              "['mazda', 'audi', 'bmw', 'toyota', 'subaru', 'kia']"
            ]
          },
          "execution_count": 113,
          "metadata": {},
          "output_type": "execute_result"
        }
      ],
      "source": [
        "# INDEXING ALLOWS to REASSIGN VALUES\n",
        "\n",
        "makes[0] = 'mazda' \n",
        "makes"
      ]
    },
    {
      "cell_type": "markdown",
      "metadata": {},
      "source": [
        "### ❔  *assignment 3.1*\n",
        "\n",
        "create a list named `my_list` and containing numbers 10, 20, 30, 40, 50 and perform the following tasks:\n",
        "\n",
        "a.   append the number 60 to the list.  \n",
        "b.   insert the number 0 at the beginning of the list.  \n",
        "c.   remove the number 30 from the list.  \n",
        "d.   print the modified list.  "
      ]
    },
    {
      "cell_type": "code",
      "execution_count": null,
      "metadata": {},
      "outputs": [],
      "source": [
        "# your code\n",
        "\n",
        "\n"
      ]
    },
    {
      "cell_type": "markdown",
      "metadata": {},
      "source": [
        "### ❔  *assignment 3.2*\n",
        "\n",
        "You are preparing a fruit plate for the party. Your friend gave a shopping list in form of a tuple (well, he is a weirdo).    \n",
        "`fruits = ('apples', 'bananas', 'kiwis', 'peaches')`  \n",
        "\n",
        "a. You recall that one of the guests is allergic to kiwi.   \n",
        "b. You also want to add grapes.   \n",
        "c. Produce section is organized in alphabetical order.   \n",
        "\n",
        "Create a perfect grocery list!\n"
      ]
    },
    {
      "cell_type": "code",
      "execution_count": null,
      "metadata": {},
      "outputs": [],
      "source": [
        "# your code"
      ]
    },
    {
      "cell_type": "markdown",
      "metadata": {},
      "source": [
        "---\n",
        "### LOOPS and EXECUTION FLOW\n",
        "\n",
        "\"if statements\" are the staple of programming. They control how the code is executed based on whether a condition is met:\n",
        "\n",
        "Typical sontruction is:\n",
        "\n",
        "```python\n",
        "if <something>:        \n",
        "    execute code \n",
        "elif <something 2>:     # elif is optional\n",
        "    execute another code\n",
        "else:                 \n",
        "    pass \n",
        "\n",
        "```\n",
        "📢 Indentation is superimportant in Python. It contols what will be executed. \n",
        "Note how expression under `if` etc are indented. "
      ]
    },
    {
      "cell_type": "code",
      "execution_count": 126,
      "metadata": {},
      "outputs": [
        {
          "name": "stdout",
          "output_type": "stream",
          "text": [
            "a is smaller than b!\n"
          ]
        }
      ],
      "source": [
        "a = 5\n",
        "b = 10\n",
        "\n",
        "if a > b: \n",
        "    print('a is greater than b!')\n",
        "else:\n",
        "    print('a is smaller than b!')"
      ]
    },
    {
      "cell_type": "markdown",
      "metadata": {},
      "source": [
        "#### LOGICAl OPERATORS\n",
        "\n",
        "Logical operators often augment control over the workflow.\n",
        "\n",
        "| Operator         | Description                | Example                |\n",
        "|------------------|----------------------------|------------------------|\n",
        "| `and`            | Logical AND                | `p and q`              |\n",
        "| `or`             | Logical OR                 | `p or q`               |\n",
        "| `not`            | Logical NOT                | `not p`                |"
      ]
    },
    {
      "cell_type": "code",
      "execution_count": 128,
      "metadata": {},
      "outputs": [
        {
          "name": "stdout",
          "output_type": "stream",
          "text": [
            "a or b is greater than 7\n"
          ]
        }
      ],
      "source": [
        "# let's make sure that at least either a or b is greater than 7\n",
        "a = 5\n",
        "b = 10\n",
        "if a > 7 or b > 7: #  NOTE that we need to use logical operators for each variable! if a or b > 7 will always be true\n",
        "    print('a or b is greater than 7')\n",
        "else:\n",
        "    print('a or b is smaller than 7')"
      ]
    },
    {
      "cell_type": "markdown",
      "metadata": {},
      "source": [
        "### ❔  *assignment 4.1*"
      ]
    },
    {
      "cell_type": "code",
      "execution_count": null,
      "metadata": {},
      "outputs": [],
      "source": [
        "# a = 4\n",
        "# b = 6\n",
        "\n"
      ]
    },
    {
      "cell_type": "markdown",
      "metadata": {},
      "source": [
        "#### FOR LOOPS\n",
        "\n",
        "In Python, a **for loop** is a control structure that allows you to iterate (loop) over a sequence of items, such as a list, tuple, string, or range.    \n",
        "It's a fundamental construct used for repetitive tasks like processing elements in a collection, performing calculations, or executing something a specific number of times.\n",
        "\n",
        "```python\n",
        "for x in range(start, end, step):  # range creates sequence\n",
        "    do something\n",
        "```\n",
        "\n",
        "\n",
        "\n",
        "\n",
        "```\n",
        "\n"
      ]
    },
    {
      "cell_type": "code",
      "execution_count": 130,
      "metadata": {},
      "outputs": [
        {
          "name": "stdout",
          "output_type": "stream",
          "text": [
            "0\n",
            "1\n",
            "2\n",
            "3\n",
            "4\n"
          ]
        }
      ],
      "source": [
        "for x in range(5):  # range creates sequence\n",
        "    print(x)"
      ]
    },
    {
      "cell_type": "markdown",
      "metadata": {},
      "source": [
        "💡 for loops are often combined with the conditional logic:"
      ]
    },
    {
      "cell_type": "code",
      "execution_count": 131,
      "metadata": {},
      "outputs": [
        {
          "name": "stdout",
          "output_type": "stream",
          "text": [
            "3\n"
          ]
        }
      ],
      "source": [
        "for x in range(5):  # range creates sequence\n",
        "    if x == 3:\n",
        "        print(x)    \n"
      ]
    },
    {
      "cell_type": "markdown",
      "metadata": {},
      "source": [
        "💡 `in` and `not in` are membership operators meaning: **for every x that is in data** or (is not)"
      ]
    },
    {
      "cell_type": "code",
      "execution_count": 136,
      "metadata": {},
      "outputs": [
        {
          "name": "stdout",
          "output_type": "stream",
          "text": [
            "new fruit = grapes\n"
          ]
        }
      ],
      "source": [
        "# say you want to check if a fruit in one list is in another list\n",
        "\n",
        "fruits1 = ['apples', 'bananas', 'kiwis', 'peaches']\n",
        "fruits2 = ['grapes', 'apples']\n",
        "\n",
        "for f in fruits2:\n",
        "    if f not in fruits1:\n",
        "        print('new fruit =', f)\n"
      ]
    },
    {
      "cell_type": "markdown",
      "metadata": {},
      "source": [
        "💡 # while loop"
      ]
    },
    {
      "cell_type": "code",
      "execution_count": null,
      "metadata": {},
      "outputs": [],
      "source": []
    },
    {
      "cell_type": "markdown",
      "metadata": {},
      "source": [
        "## DICTONARIES\n",
        "\n",
        "💡 Dictionaries are **mutable**. Starting from Python 3.7 they are also ordered.    \n",
        "\n",
        "Dictionaries to store data values in *key* : *value* pairs.\n",
        "\n",
        "``` prices = {\n",
        "\n",
        "}```\n",
        "\n",
        "| Python Syntax              | Description                        | Result for a Specified Dictionary  |\n",
        "|----------------------------|------------------------------------|-----------------------------------|\n",
        "| `{}`                       | Create an empty dictionary         | `{}`                              |\n",
        "| `{'key': 'value'}`         | Create a dictionary with a key-value pair | `{'key': 'value'}`          |\n",
        "| `my_dict['key']`           | Access a value by key              | `my_dict['key']`                  |\n",
        "| `my_dict['new_key'] = 'new_value'` | Add a new key-value pair     | `{'key': 'value', 'new_key': 'new_value'}` |\n",
        "| `del my_dict['key']`       | Remove a key-value pair            | `{'new_key': 'new_value'}`        |\n",
        "| `'key' in my_dict`         | Check if a key exists              | `True` or `False`                 |\n",
        "| `my_dict.keys()`           | Get a list of keys                 | `['key', 'new_key']`              |\n",
        "| `my_dict.values()`         | Get a list of values               | `['value', 'new_value']`          |\n",
        "| `my_dict.items()`          | Get a list of key-value pairs     | `[('key', 'value'), ('new_key', 'new_value')]` |\n",
        "| `len(my_dict)`             | Get the number of key-value pairs  | `2`                               |\n",
        "| `my_dict.clear()`          | Clear all key-value pairs         | `{}`                              |\n",
        "| `new_dict = my_dict.copy()`| Create a shallow copy              | A copy of the original dictionary  |\n",
        "\n"
      ]
    },
    {
      "cell_type": "code",
      "execution_count": null,
      "metadata": {},
      "outputs": [],
      "source": []
    },
    {
      "cell_type": "code",
      "execution_count": 109,
      "metadata": {},
      "outputs": [],
      "source": [
        "### ❔*assignment 4*"
      ]
    },
    {
      "cell_type": "code",
      "execution_count": 88,
      "metadata": {},
      "outputs": [
        {
          "data": {
            "text/plain": [
              "[50, 40, 30, 20, 10]"
            ]
          },
          "execution_count": 88,
          "metadata": {},
          "output_type": "execute_result"
        }
      ],
      "source": [
        "my_list[None:None:-1]"
      ]
    },
    {
      "cell_type": "code",
      "execution_count": 107,
      "metadata": {},
      "outputs": [],
      "source": [
        "# string concatenation inb the beggining, string methods\n",
        "# numpy, cclib, ase"
      ]
    },
    {
      "cell_type": "code",
      "execution_count": null,
      "metadata": {},
      "outputs": [],
      "source": []
    },
    {
      "cell_type": "code",
      "execution_count": null,
      "metadata": {},
      "outputs": [],
      "source": [
        "# TUPLES\n"
      ]
    },
    {
      "cell_type": "code",
      "execution_count": null,
      "metadata": {},
      "outputs": [],
      "source": [
        "#SET "
      ]
    },
    {
      "cell_type": "markdown",
      "metadata": {
        "id": "rfv36G4MXzMa"
      },
      "source": [
        "# DICTIONARIES"
      ]
    },
    {
      "cell_type": "code",
      "execution_count": null,
      "metadata": {},
      "outputs": [],
      "source": [
        "# FUNCTIONS\n",
        "# identation \n",
        "# no end if"
      ]
    },
    {
      "cell_type": "code",
      "execution_count": null,
      "metadata": {},
      "outputs": [],
      "source": [
        "#CLASSES"
      ]
    },
    {
      "cell_type": "markdown",
      "metadata": {
        "id": "cAhBVSpKV_jm"
      },
      "source": [
        "data types"
      ]
    },
    {
      "cell_type": "markdown",
      "metadata": {
        "id": "dGcY747JU5SB"
      },
      "source": [
        "integer"
      ]
    },
    {
      "cell_type": "code",
      "execution_count": null,
      "metadata": {
        "colab": {
          "base_uri": "https://localhost:8080/"
        },
        "id": "jEXsBjLTT2iu",
        "outputId": "af3130a7-232c-4b0c-e5ad-e8545deb3133"
      },
      "outputs": [
        {
          "data": {
            "text/plain": [
              "5"
            ]
          },
          "execution_count": 3,
          "metadata": {},
          "output_type": "execute_result"
        }
      ],
      "source": [
        "5"
      ]
    },
    {
      "cell_type": "code",
      "execution_count": null,
      "metadata": {
        "colab": {
          "base_uri": "https://localhost:8080/"
        },
        "id": "kkClFU5xT8dq",
        "outputId": "2aecafef-8238-4c02-cb00-7fc48b204855"
      },
      "outputs": [
        {
          "data": {
            "text/plain": [
              "12"
            ]
          },
          "execution_count": 4,
          "metadata": {},
          "output_type": "execute_result"
        }
      ],
      "source": [
        "5 + 7"
      ]
    },
    {
      "cell_type": "code",
      "execution_count": null,
      "metadata": {
        "id": "EFrQslVlT-dz"
      },
      "outputs": [],
      "source": [
        "a = 5 + 7"
      ]
    },
    {
      "cell_type": "code",
      "execution_count": null,
      "metadata": {
        "colab": {
          "base_uri": "https://localhost:8080/"
        },
        "id": "nAdnCCzaUxtB",
        "outputId": "25c16dfb-1cb0-4581-9958-335a825c1b15"
      },
      "outputs": [
        {
          "name": "stdout",
          "output_type": "stream",
          "text": [
            "12\n"
          ]
        }
      ],
      "source": [
        "print(a)"
      ]
    },
    {
      "cell_type": "markdown",
      "metadata": {
        "id": "wRRISfIHVAro"
      },
      "source": [
        "float"
      ]
    },
    {
      "cell_type": "markdown",
      "metadata": {
        "id": "7_6xsWEUU027"
      },
      "source": [
        "string"
      ]
    },
    {
      "cell_type": "code",
      "execution_count": null,
      "metadata": {
        "id": "n1cGqNsNVoPz"
      },
      "outputs": [],
      "source": []
    },
    {
      "cell_type": "code",
      "execution_count": null,
      "metadata": {
        "id": "TSfsQRvKV0fy"
      },
      "outputs": [],
      "source": []
    },
    {
      "cell_type": "markdown",
      "metadata": {
        "id": "j_f4oBm4V1LT"
      },
      "source": [
        "Classes"
      ]
    },
    {
      "cell_type": "markdown",
      "metadata": {
        "id": "qeCndvhIWDfn"
      },
      "source": [
        "numpy arrays"
      ]
    }
  ],
  "metadata": {
    "colab": {
      "gpuType": "T4",
      "provenance": [],
      "toc_visible": true
    },
    "kernelspec": {
      "display_name": "Python 3 (ipykernel)",
      "language": "python",
      "name": "python3"
    },
    "language_info": {
      "codemirror_mode": {
        "name": "ipython",
        "version": 3
      },
      "file_extension": ".py",
      "mimetype": "text/x-python",
      "name": "python",
      "nbconvert_exporter": "python",
      "pygments_lexer": "ipython3",
      "version": "3.10.10"
    }
  },
  "nbformat": 4,
  "nbformat_minor": 0
}
