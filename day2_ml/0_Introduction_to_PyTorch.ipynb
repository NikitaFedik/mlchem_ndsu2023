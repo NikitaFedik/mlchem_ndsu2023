{
  "cells": [
    {
      "cell_type": "markdown",
      "metadata": {
        "id": "saUSysiyuUMW"
      },
      "source": [
        "# Tutorial 2: Introduction to PyTorch\n",
        "\n",
        "![Status](https://img.shields.io/static/v1.svg?label=Status&message=Finished&color=green)\n",
        "\n",
        "**Filled notebook:**\n",
        "[![View filled on Github](https://img.shields.io/static/v1.svg?logo=github&label=Repo&message=View%20On%20Github&color=lightgrey)](https://github.com/phlippe/uvadlc_notebooks/blob/master/docs/tutorial_notebooks/tutorial2/Introduction_to_PyTorch.ipynb)\n",
        "[![Open filled In Collab](https://colab.research.google.com/assets/colab-badge.svg)](https://colab.research.google.com/github/phlippe/uvadlc_notebooks/blob/master/docs/tutorial_notebooks/tutorial2/Introduction_to_PyTorch.ipynb)   \n",
        "**Recordings:**\n",
        "[![YouTube - Part 1](https://img.shields.io/static/v1.svg?logo=youtube&label=YouTube&message=Part%201&color=red)](https://youtu.be/wnKZZgFQY-E)\n",
        "[![YouTube - Part 2](https://img.shields.io/static/v1.svg?logo=youtube&label=YouTube&message=Part%202&color=red)](https://youtu.be/schbjeU5X2g)    \n",
        "**Author:** Phillip Lippe   \n",
        "**Modified by:** Nikita Fedik"
      ]
    },
    {
      "cell_type": "markdown",
      "metadata": {
        "id": "3NNlUwpfuUMY"
      },
      "source": [
        "Welcome to our PyTorch tutorial for the Deep Learning course 2022 at the University of Amsterdam! The following notebook is meant to give a short introduction to PyTorch basics, and get you setup for writing your own neural networks. PyTorch is an open source machine learning framework that allows you to write your own neural networks and optimize them efficiently. However, PyTorch is not the only framework of its kind. Alternatives to PyTorch include [TensorFlow](https://www.tensorflow.org/), [JAX](https://github.com/google/jax#quickstart-colab-in-the-cloud) and [Caffe](http://caffe.berkeleyvision.org/). We choose to teach PyTorch at the University of Amsterdam because it is well established, has a huge developer community (originally developed by Facebook), is very flexible and especially used in research. Many current papers publish their code in PyTorch, and thus it is good to be familiar with PyTorch as well.\n",
        "Meanwhile, TensorFlow (developed by Google) is usually known for being a production-grade deep learning library. Still, if you know one machine learning framework in depth, it is very easy to learn another one because many of them use the same concepts and ideas. For instance, TensorFlow's version 2 was heavily inspired by the most popular features of PyTorch, making the frameworks even more similar.\n",
        "If you are already familiar with PyTorch and have created your own neural network projects, feel free to just skim this notebook.\n",
        "\n",
        "We are of course not the first ones to create a PyTorch tutorial. There are many great tutorials online, including the [\"60-min blitz\"](https://pytorch.org/tutorials/beginner/deep_learning_60min_blitz.html) on the official [PyTorch website](https://pytorch.org/tutorials/). Yet, we choose to create our own tutorial which is designed to give you the basics particularly necessary for the practicals, but still understand how PyTorch works under the hood. Over the next few weeks, we will also keep exploring new PyTorch features in the series of Jupyter notebook tutorials about deep learning.\n",
        "\n",
        "We will use a set of standard libraries that are often used in machine learning projects. If you are running this notebook on Google Colab, all libraries should be pre-installed. If you are running this notebook locally, make sure you have installed our `dl2022` environment and have activated it."
      ]
    },
    {
      "cell_type": "code",
      "execution_count": null,
      "metadata": {
        "id": "-xQ-ruTCuUMZ",
        "outputId": "45591470-060f-4be8-d987-ce7b4e232888",
        "colab": {
          "base_uri": "https://localhost:8080/"
        }
      },
      "outputs": [
        {
          "output_type": "stream",
          "name": "stderr",
          "text": [
            "<ipython-input-1-ef889392170e>:11: DeprecationWarning: `set_matplotlib_formats` is deprecated since IPython 7.23, directly use `matplotlib_inline.backend_inline.set_matplotlib_formats()`\n",
            "  set_matplotlib_formats('svg', 'pdf') # For export\n"
          ]
        }
      ],
      "source": [
        "## Standard libraries\n",
        "import os\n",
        "import math\n",
        "import numpy as np\n",
        "import time\n",
        "\n",
        "## Imports for plotting\n",
        "import matplotlib.pyplot as plt\n",
        "%matplotlib inline\n",
        "from IPython.display import set_matplotlib_formats\n",
        "set_matplotlib_formats('svg', 'pdf') # For export\n",
        "from matplotlib.colors import to_rgba\n",
        "import seaborn as sns\n",
        "sns.set()\n",
        "\n",
        "## Progress bar\n",
        "from tqdm.notebook import tqdm"
      ]
    },
    {
      "cell_type": "markdown",
      "metadata": {
        "id": "dAXeVA6YuUMZ"
      },
      "source": [
        "## The Basics of PyTorch\n",
        "\n",
        "We will start with reviewing the very basic concepts of PyTorch. As a prerequisite, we recommend to be familiar with the `numpy` package as most machine learning frameworks are based on very similar concepts. If you are not familiar with numpy yet, don't worry: here is a [tutorial](https://numpy.org/devdocs/user/quickstart.html) to go through.\n",
        "\n",
        "So, let's start with importing PyTorch. The package is called `torch`, based on its original framework [Torch](http://torch.ch/). As a first step, we can check its version:"
      ]
    },
    {
      "cell_type": "code",
      "execution_count": null,
      "metadata": {
        "id": "5dOPKdCEuUMa",
        "outputId": "e86503cc-9410-446e-a250-a3a7e9a8c848",
        "colab": {
          "base_uri": "https://localhost:8080/"
        }
      },
      "outputs": [
        {
          "output_type": "stream",
          "name": "stdout",
          "text": [
            "Using torch 2.0.1+cu118\n"
          ]
        }
      ],
      "source": [
        "import torch\n",
        "print(\"Using torch\", torch.__version__) # torch version is important"
      ]
    },
    {
      "cell_type": "markdown",
      "metadata": {
        "id": "AV2jVrfHuUMb"
      },
      "source": [
        "Torch 2.0.1 is the most recent one. Usually GPU execution would require matching combination of GPU model, CUDA toolkit and Pytorch version.    \n",
        "💡 Unless you are working in Collab, setup `conda environment` and check avaialble `modules` for CUDA on your HPC.\n",
        "\n",
        "\n",
        "As in every machine learning framework, PyTorch provides functions that are stochastic like generating random numbers. However, a very good practice is to setup your code to be reproducible with the exact same random numbers. This is why we set a seed below."
      ]
    },
    {
      "cell_type": "code",
      "execution_count": null,
      "metadata": {
        "id": "3rGKAa16uUMc",
        "outputId": "74826a0a-b54c-4ecb-db60-7b6afa8da0a8",
        "colab": {
          "base_uri": "https://localhost:8080/"
        }
      },
      "outputs": [
        {
          "output_type": "execute_result",
          "data": {
            "text/plain": [
              "<torch._C.Generator at 0x78284caa9330>"
            ]
          },
          "metadata": {},
          "execution_count": 3
        }
      ],
      "source": [
        "torch.manual_seed(42) # Setting the seed for reproducibility"
      ]
    },
    {
      "cell_type": "markdown",
      "metadata": {
        "id": "qOjDv3g_uUMc"
      },
      "source": [
        "### Tensors\n",
        "\n",
        "Tensors are the PyTorch equivalent to Numpy arrays, with the addition to also have support for GPU acceleration (more on that later).\n",
        "The name \"tensor\" is a generalization of concepts you already know. For instance, a vector is a 1-D tensor, and a matrix a 2-D tensor. When working with neural networks, we will use tensors of various shapes and number of dimensions.\n",
        "\n",
        "Most common functions you know from numpy can be used on tensors as well. Actually, since numpy arrays are so similar to tensors, we can convert most tensors to numpy arrays (and back) but we don't need it too often.\n",
        "\n",
        "#### Initialization\n",
        "\n",
        "Let's first start by looking at different ways of creating a tensor. There are many possible options, the simplest one is to call `torch.Tensor` passing the desired shape as input argument:"
      ]
    },
    {
      "cell_type": "code",
      "execution_count": null,
      "metadata": {
        "id": "3mO9H2ETuUMd",
        "outputId": "2e82c1b5-57eb-4013-f28b-74fad59bc804",
        "colab": {
          "base_uri": "https://localhost:8080/"
        }
      },
      "outputs": [
        {
          "output_type": "stream",
          "name": "stdout",
          "text": [
            "tensor([[[2.1715e-18, 1.3120e-08, 4.2961e-05, 1.0811e-05],\n",
            "         [2.6371e-09, 1.6971e-07, 2.0825e+23, 5.2897e-08],\n",
            "         [4.3122e-08, 4.2766e-05, 2.1707e-18, 1.6678e+19]],\n",
            "\n",
            "        [[7.0976e+22, 2.1715e-18, 4.2330e+21, 1.6534e+19],\n",
            "         [1.1625e+27, 1.4580e-19, 7.1856e+22, 4.3605e+27],\n",
            "         [1.5766e-19, 7.1856e+22, 4.3605e+27, 1.4580e-19]]])\n"
          ]
        }
      ],
      "source": [
        "x = torch.Tensor(2, 3, 4)\n",
        "\n",
        "print(x)\n",
        "\n",
        "# ❓ take a moment to understand the dimensions of tensor\n",
        "# how many entries does it have? how many rows and columns?"
      ]
    },
    {
      "cell_type": "markdown",
      "metadata": {
        "id": "jfnKEAuVuUMe"
      },
      "source": [
        "The function `torch.Tensor` allocates memory for the desired tensor, but reuses any values that have already been in the memory. To directly assign values to the tensor during initialization, there are many alternatives including:\n",
        "\n",
        "* `torch.zeros`: Creates a tensor filled with zeros\n",
        "* `torch.ones`: Creates a tensor filled with ones\n",
        "* `torch.rand`: Creates a tensor with random values uniformly sampled between 0 and 1\n",
        "* `torch.randn`: Creates a tensor with random values sampled from a normal distribution with mean 0 and variance 1\n",
        "* `torch.arange`: Creates a tensor containing the values $N,N+1,N+2,...,M$\n",
        "* `torch.Tensor` (input list): Creates a tensor from the list elements you provide"
      ]
    },
    {
      "cell_type": "code",
      "execution_count": null,
      "metadata": {
        "id": "89fEP1OXuUMf",
        "outputId": "f2c5e464-6d9c-47bd-c5ff-5d7c2140d9e6",
        "colab": {
          "base_uri": "https://localhost:8080/"
        }
      },
      "outputs": [
        {
          "output_type": "stream",
          "name": "stdout",
          "text": [
            "tensor([[1., 2.],\n",
            "        [3., 4.]])\n"
          ]
        }
      ],
      "source": [
        "# Create a tensor from a (nested) list\n",
        "x = torch.Tensor([[1, 2], [3, 4]])\n",
        "print(x)"
      ]
    },
    {
      "cell_type": "code",
      "execution_count": null,
      "metadata": {
        "id": "0t1MrCI7uUMf",
        "outputId": "c7e7403e-912c-46a1-8ed3-1f109fafa14b",
        "colab": {
          "base_uri": "https://localhost:8080/"
        }
      },
      "outputs": [
        {
          "output_type": "stream",
          "name": "stdout",
          "text": [
            "tensor([[[0.8823, 0.9150, 0.3829, 0.9593],\n",
            "         [0.3904, 0.6009, 0.2566, 0.7936],\n",
            "         [0.9408, 0.1332, 0.9346, 0.5936]],\n",
            "\n",
            "        [[0.8694, 0.5677, 0.7411, 0.4294],\n",
            "         [0.8854, 0.5739, 0.2666, 0.6274],\n",
            "         [0.2696, 0.4414, 0.2969, 0.8317]]])\n"
          ]
        }
      ],
      "source": [
        "# Create a tensor with random values between 0 and 1 with the shape [2, 3, 4]\n",
        "x = torch.rand(2, 3, 4)\n",
        "print(x)\n",
        "\n",
        "# ❓ Rerun cell multiple times. Does the output change? Why?"
      ]
    },
    {
      "cell_type": "markdown",
      "metadata": {
        "id": "STImCOppuUMg"
      },
      "source": [
        "You can obtain the shape of a tensor in the same way as in numpy (`x.shape`), or using the `.size` method:"
      ]
    },
    {
      "cell_type": "code",
      "execution_count": null,
      "metadata": {
        "id": "zyoDHrdluUMg",
        "outputId": "8e9dd7ec-a2ea-4cdb-a566-36909960ec63",
        "colab": {
          "base_uri": "https://localhost:8080/"
        }
      },
      "outputs": [
        {
          "output_type": "stream",
          "name": "stdout",
          "text": [
            "Shape: torch.Size([2, 3, 4])\n",
            "Size: torch.Size([2, 3, 4])\n",
            "Size: 2 3 4\n"
          ]
        }
      ],
      "source": [
        "shape = x.shape\n",
        "print(\"Shape:\", x.shape)\n",
        "\n",
        "size = x.size()\n",
        "print(\"Size:\", size)\n",
        "\n",
        "dim1, dim2, dim3 = x.size()\n",
        "print(\"Size:\", dim1, dim2, dim3)"
      ]
    },
    {
      "cell_type": "markdown",
      "metadata": {
        "id": "cGZ4lTshuUMg"
      },
      "source": [
        "#### Tensor to Numpy, and Numpy to Tensor\n",
        "\n",
        "Tensors can be converted to numpy arrays, and numpy arrays back to tensors. To transform a numpy array into a tensor, we can use the function `torch.from_numpy`:"
      ]
    },
    {
      "cell_type": "code",
      "execution_count": null,
      "metadata": {
        "id": "e5nDLuQXuUMg",
        "outputId": "648e28d8-3aae-4f07-e866-cacbbb509095",
        "colab": {
          "base_uri": "https://localhost:8080/"
        }
      },
      "outputs": [
        {
          "output_type": "stream",
          "name": "stdout",
          "text": [
            "Numpy array:\n",
            " [[1 2]\n",
            " [3 4]]\n",
            "PyTorch tensor:\n",
            " tensor([[1, 2],\n",
            "        [3, 4]])\n"
          ]
        }
      ],
      "source": [
        "np_arr = np.array([[1, 2], [3, 4]])\n",
        "tensor = torch.from_numpy(np_arr)\n",
        "\n",
        "print(\"Numpy array:\\n\", np_arr)\n",
        "print(\"PyTorch tensor:\\n\", tensor)"
      ]
    },
    {
      "cell_type": "code",
      "source": [
        "# Or even simplier\n",
        "np_arr = np.array([[1, 2], [3, 4]])\n",
        "tensor2 = torch.Tensor(np_arr)"
      ],
      "metadata": {
        "id": "z3RPhG0Dw6kI"
      },
      "execution_count": null,
      "outputs": []
    },
    {
      "cell_type": "markdown",
      "metadata": {
        "id": "EMBP6dfbuUMh"
      },
      "source": [
        "To transform a PyTorch tensor back to a numpy array, we can use the function `.numpy()` on tensors:"
      ]
    },
    {
      "cell_type": "code",
      "execution_count": null,
      "metadata": {
        "id": "N3pbT99YuUMh",
        "outputId": "cc085993-9e09-473f-ff72-622b845d9e15",
        "colab": {
          "base_uri": "https://localhost:8080/"
        }
      },
      "outputs": [
        {
          "output_type": "stream",
          "name": "stdout",
          "text": [
            "PyTorch tensor: tensor([0, 1, 2, 3])\n",
            "Numpy array: [0 1 2 3]\n"
          ]
        }
      ],
      "source": [
        "tensor = torch.arange(4)\n",
        "np_arr = tensor.numpy()\n",
        "\n",
        "print(\"PyTorch tensor:\", tensor)\n",
        "print(\"Numpy array:\", np_arr)"
      ]
    },
    {
      "cell_type": "markdown",
      "metadata": {
        "id": "ZwicW_yfuUMh"
      },
      "source": [
        "The conversion of tensors to numpy require the tensor to be on the CPU, and not the GPU (more on GPU support in a later section). In case you have a tensor on GPU, you need to call `.cpu()` on the tensor beforehand. Hence, you get a line like `np_arr = tensor.cpu().numpy()`."
      ]
    },
    {
      "cell_type": "markdown",
      "metadata": {
        "id": "cCE8tjgmuUMh"
      },
      "source": [
        "### Operations\n",
        "\n",
        "Most operations that exist in numpy, also exist in PyTorch. A full list of operations can be found in the [PyTorch documentation](https://pytorch.org/docs/stable/tensors.html#), but we will review the most important ones here.\n",
        "\n",
        "#### ADDITION:"
      ]
    },
    {
      "cell_type": "code",
      "execution_count": null,
      "metadata": {
        "id": "jgEIzt7AuUMh",
        "outputId": "2c7b0811-a7e8-4e97-fa57-04923e8903c8",
        "colab": {
          "base_uri": "https://localhost:8080/"
        }
      },
      "outputs": [
        {
          "output_type": "stream",
          "name": "stdout",
          "text": [
            "X1\n",
            " tensor([[0.1053, 0.2695, 0.3588],\n",
            "        [0.1994, 0.5472, 0.0062]])\n",
            "X2\n",
            " tensor([[0.9516, 0.0753, 0.8860],\n",
            "        [0.5832, 0.3376, 0.8090]])\n",
            "Y\n",
            " tensor([[1.0569, 0.3448, 1.2448],\n",
            "        [0.7826, 0.8848, 0.8151]])\n"
          ]
        }
      ],
      "source": [
        "x1 = torch.rand(2, 3)\n",
        "x2 = torch.rand(2, 3)\n",
        "y = x1 + x2\n",
        "\n",
        "print(\"X1\\n\", x1)\n",
        "print(\"X2\\n\", x2)\n",
        "print(\"Y\\n\", y)"
      ]
    },
    {
      "cell_type": "markdown",
      "metadata": {
        "id": "xKpSIkEXuUMi"
      },
      "source": [
        "Calling `x1 + x2` creates a new tensor containing the sum of the two inputs. However, we can also use in-place operations that are applied directly on the memory of a tensor. We therefore change the values of `x2` without the chance to re-accessing the values of `x2` before the operation. An example is shown below:"
      ]
    },
    {
      "cell_type": "code",
      "execution_count": null,
      "metadata": {
        "id": "KoO0-yKvuUMi",
        "outputId": "bc340b78-2f75-4576-bc79-e107afcab249",
        "colab": {
          "base_uri": "https://localhost:8080/"
        }
      },
      "outputs": [
        {
          "output_type": "stream",
          "name": "stdout",
          "text": [
            "X1 (before)\n",
            " tensor([[0.5779, 0.9040, 0.5547],\n",
            "        [0.3423, 0.6343, 0.3644]])\n",
            "X2 (before)\n",
            " tensor([[0.7104, 0.9464, 0.7890],\n",
            "        [0.2814, 0.7886, 0.5895]])\n",
            "X1 (after)\n",
            " tensor([[0.5779, 0.9040, 0.5547],\n",
            "        [0.3423, 0.6343, 0.3644]])\n",
            "X2 (after)\n",
            " tensor([[1.2884, 1.8504, 1.3437],\n",
            "        [0.6237, 1.4230, 0.9539]])\n"
          ]
        }
      ],
      "source": [
        "x1 = torch.rand(2, 3)\n",
        "x2 = torch.rand(2, 3)\n",
        "print(\"X1 (before)\\n\", x1)\n",
        "print(\"X2 (before)\\n\", x2)\n",
        "\n",
        "x2.add_(x1) # add in place\n",
        "print(\"X1 (after)\\n\", x1)\n",
        "print(\"X2 (after)\\n\", x2)\n",
        "\n",
        "# ❓ Why we need in-place operations?"
      ]
    },
    {
      "cell_type": "markdown",
      "metadata": {
        "id": "LaWO45DNuUMi"
      },
      "source": [
        "In-place operations are usually marked with a underscore postfix (e.g. \"add_\" instead of \"add\").\n",
        "\n",
        "Another common operation aims at changing the shape of a tensor. A tensor of size (2,3) can be re-organized to any other shape with the same number of elements (e.g. a tensor of size (6), or (3,2), ...). In PyTorch, this operation is called `view`:"
      ]
    },
    {
      "cell_type": "code",
      "execution_count": null,
      "metadata": {
        "id": "Uh5B7MsQuUMi",
        "outputId": "86f2a82b-503e-45c2-a53a-4c8005bbc959",
        "colab": {
          "base_uri": "https://localhost:8080/"
        }
      },
      "outputs": [
        {
          "output_type": "stream",
          "name": "stdout",
          "text": [
            "X tensor([0, 1, 2, 3, 4, 5])\n"
          ]
        }
      ],
      "source": [
        "x = torch.arange(6)\n",
        "print(\"X\", x)"
      ]
    },
    {
      "cell_type": "code",
      "execution_count": null,
      "metadata": {
        "id": "_D2Hm-QSuUMj",
        "outputId": "c81aad6d-693f-4818-ec6f-100a8e42c0a6",
        "colab": {
          "base_uri": "https://localhost:8080/"
        }
      },
      "outputs": [
        {
          "output_type": "stream",
          "name": "stdout",
          "text": [
            "X\n",
            " tensor([[0, 1, 2],\n",
            "        [3, 4, 5]])\n"
          ]
        }
      ],
      "source": [
        "x = x.view(2, 3)\n",
        "print(\"X\\n\", x)"
      ]
    },
    {
      "cell_type": "code",
      "execution_count": null,
      "metadata": {
        "id": "ig9vOnhvuUMj",
        "outputId": "1c68a649-58f8-460b-ce02-957aac13b7e5",
        "colab": {
          "base_uri": "https://localhost:8080/"
        }
      },
      "outputs": [
        {
          "output_type": "stream",
          "name": "stdout",
          "text": [
            "X\n",
            " tensor([[0, 3],\n",
            "        [1, 4],\n",
            "        [2, 5]])\n"
          ]
        }
      ],
      "source": [
        "x = x.permute(1, 0) # Swapping dimension 0 and 1\n",
        "print(\"X\\n\", x)"
      ]
    },
    {
      "cell_type": "markdown",
      "metadata": {
        "id": "7OpH3q7tuUMk"
      },
      "source": [
        "Other commonly used operations include matrix multiplications, which are essential for neural networks. Quite often, we have an input vector $\\mathbf{x}$, which is transformed using a learned weight matrix $\\mathbf{W}$. There are multiple ways and functions to perform matrix multiplication, some of which we list below:\n",
        "\n",
        "* `torch.matmul`: Performs the matrix product over two tensors, where the specific behavior depends on the dimensions. If both inputs are matrices (2-dimensional tensors), it performs the standard matrix product. For higher dimensional inputs, the function supports broadcasting (for details see the [documentation](https://pytorch.org/docs/stable/generated/torch.matmul.html?highlight=matmul#torch.matmul)). Can also be written as `a @ b`, similar to numpy.\n",
        "* `torch.mm`: Performs the matrix product over two matrices, but doesn't support broadcasting (see [documentation](https://pytorch.org/docs/stable/generated/torch.mm.html?highlight=torch%20mm#torch.mm))\n"
      ]
    },
    {
      "cell_type": "code",
      "execution_count": null,
      "metadata": {
        "id": "uz6OjlPUuUMk",
        "outputId": "9ed2f9d0-5714-4782-96d3-96205d8d3fe7",
        "colab": {
          "base_uri": "https://localhost:8080/"
        }
      },
      "outputs": [
        {
          "output_type": "stream",
          "name": "stdout",
          "text": [
            "X\n",
            " tensor([[0, 1, 2],\n",
            "        [3, 4, 5]])\n"
          ]
        }
      ],
      "source": [
        "x = torch.arange(6)\n",
        "x = x.view(2, 3)\n",
        "print(\"X\\n\", x)"
      ]
    },
    {
      "cell_type": "code",
      "execution_count": null,
      "metadata": {
        "id": "E4uKXJSQuUMk",
        "outputId": "b9258f47-75e6-4b55-c086-c0c782c0e397",
        "colab": {
          "base_uri": "https://localhost:8080/"
        }
      },
      "outputs": [
        {
          "output_type": "stream",
          "name": "stdout",
          "text": [
            "W\n",
            " tensor([0, 1, 2, 3, 4, 5, 6, 7, 8])\n"
          ]
        }
      ],
      "source": [
        "W = torch.arange(9)\n",
        "print(\"W\\n\", W)"
      ]
    },
    {
      "cell_type": "code",
      "execution_count": null,
      "metadata": {
        "id": "rjMTD6WluUMk",
        "outputId": "6fd3286c-8fbc-4ced-d7d8-0fd60f6fb7e4",
        "colab": {
          "base_uri": "https://localhost:8080/",
          "height": 215
        }
      },
      "outputs": [
        {
          "output_type": "error",
          "ename": "RuntimeError",
          "evalue": "ignored",
          "traceback": [
            "\u001b[0;31m---------------------------------------------------------------------------\u001b[0m",
            "\u001b[0;31mRuntimeError\u001b[0m                              Traceback (most recent call last)",
            "\u001b[0;32m<ipython-input-18-221fdf900f18>\u001b[0m in \u001b[0;36m<cell line: 2>\u001b[0;34m()\u001b[0m\n\u001b[1;32m      1\u001b[0m \u001b[0;31m# ❓ Make this operation valid\u001b[0m\u001b[0;34m\u001b[0m\u001b[0;34m\u001b[0m\u001b[0m\n\u001b[0;32m----> 2\u001b[0;31m \u001b[0mh\u001b[0m \u001b[0;34m=\u001b[0m \u001b[0mtorch\u001b[0m\u001b[0;34m.\u001b[0m\u001b[0mmatmul\u001b[0m\u001b[0;34m(\u001b[0m\u001b[0mx\u001b[0m\u001b[0;34m,\u001b[0m \u001b[0mW\u001b[0m\u001b[0;34m)\u001b[0m\u001b[0;34m\u001b[0m\u001b[0;34m\u001b[0m\u001b[0m\n\u001b[0m\u001b[1;32m      3\u001b[0m \u001b[0mprint\u001b[0m\u001b[0;34m(\u001b[0m\u001b[0;34m\"h\\n\"\u001b[0m\u001b[0;34m,\u001b[0m \u001b[0mh\u001b[0m\u001b[0;34m)\u001b[0m\u001b[0;34m\u001b[0m\u001b[0;34m\u001b[0m\u001b[0m\n",
            "\u001b[0;31mRuntimeError\u001b[0m: size mismatch, got 2, 2x3,9"
          ]
        }
      ],
      "source": [
        "# ❓ Make this operation valid\n",
        "h = torch.matmul(x, W)\n",
        "print(\"h\\n\", h)"
      ]
    },
    {
      "cell_type": "code",
      "source": [
        "matrix = torch.arange(9).view(3,3)\n",
        "print(\"matrix\\n\", matrix)"
      ],
      "metadata": {
        "id": "-1m-3x_R1-Tm"
      },
      "execution_count": null,
      "outputs": []
    },
    {
      "cell_type": "code",
      "source": [
        "# ❓ Often in scientific computations and ML, we need to diagonalize matrices - find eigenvalues and eigenvectors\n",
        "# 1. diagonalize matrix conating 0, 1, ...8 numbers\n",
        "# 2. print its second eigenvector\n",
        "\n",
        "# your code\n",
        "\n"
      ],
      "metadata": {
        "id": "4QExAs1i1nBo"
      },
      "execution_count": null,
      "outputs": []
    },
    {
      "cell_type": "markdown",
      "metadata": {
        "id": "SJYkJoaNuUMl"
      },
      "source": [
        "#### Indexing\n",
        "\n",
        "We often have the situation where we need to select a part of a tensor. Indexing works just like in numpy, so let's try it:"
      ]
    },
    {
      "cell_type": "code",
      "execution_count": null,
      "metadata": {
        "id": "6yehrXh6uUMl",
        "outputId": "201d6e9d-099c-45db-969c-bcdf3b54fcfe",
        "colab": {
          "base_uri": "https://localhost:8080/"
        }
      },
      "outputs": [
        {
          "output_type": "stream",
          "name": "stdout",
          "text": [
            "X tensor([[ 0,  1,  2,  3],\n",
            "        [ 4,  5,  6,  7],\n",
            "        [ 8,  9, 10, 11]])\n"
          ]
        }
      ],
      "source": [
        "x = torch.arange(12).view(3, 4)\n",
        "print(\"X\", x)"
      ]
    },
    {
      "cell_type": "code",
      "execution_count": null,
      "metadata": {
        "id": "HVjdc0VIuUMl",
        "outputId": "63848b25-f97d-4a42-ca62-9c21bf5ee984",
        "colab": {
          "base_uri": "https://localhost:8080/"
        }
      },
      "outputs": [
        {
          "output_type": "stream",
          "name": "stdout",
          "text": [
            "tensor([1, 5, 9])\n"
          ]
        }
      ],
      "source": [
        "print(x[:, 1])   # Second column"
      ]
    },
    {
      "cell_type": "code",
      "execution_count": null,
      "metadata": {
        "id": "ZZQgd6I0uUMl",
        "outputId": "e74fb4e9-dc5d-492d-b74c-8adc5a0156c6",
        "colab": {
          "base_uri": "https://localhost:8080/"
        }
      },
      "outputs": [
        {
          "output_type": "stream",
          "name": "stdout",
          "text": [
            "tensor([0, 1, 2, 3])\n"
          ]
        }
      ],
      "source": [
        "print(x[0])      # First row"
      ]
    },
    {
      "cell_type": "code",
      "execution_count": null,
      "metadata": {
        "id": "Z2G7PYjTuUMm",
        "outputId": "925324ed-a032-46b6-861a-caf3db602309",
        "colab": {
          "base_uri": "https://localhost:8080/"
        }
      },
      "outputs": [
        {
          "output_type": "stream",
          "name": "stdout",
          "text": [
            "tensor([3, 7])\n"
          ]
        }
      ],
      "source": [
        "print(x[:2, -1]) # First two rows, last column"
      ]
    },
    {
      "cell_type": "code",
      "execution_count": null,
      "metadata": {
        "id": "GJZ-xCLJuUMm",
        "outputId": "e835fedd-835b-4eca-8a1e-3475b2317899",
        "colab": {
          "base_uri": "https://localhost:8080/"
        }
      },
      "outputs": [
        {
          "output_type": "stream",
          "name": "stdout",
          "text": [
            "tensor([[ 4,  5,  6,  7],\n",
            "        [ 8,  9, 10, 11]])\n"
          ]
        }
      ],
      "source": [
        "print(x[1:3, :]) # Middle two rows"
      ]
    },
    {
      "cell_type": "markdown",
      "metadata": {
        "id": "d_U_DQKJuUMm"
      },
      "source": [
        "### Dynamic Computation Graph and Backpropagation\n",
        "\n",
        "One of the main reasons for using PyTorch in Deep Learning projects is that we can automatically get **gradients/derivatives** of functions that we define. We will mainly use PyTorch for implementing neural networks, and they are just fancy functions. If we use weight matrices in our function that we want to learn, then those are called the **parameters** or simply the **weights**.\n",
        "\n",
        "If our neural network would output a single scalar value, we would talk about taking the **derivative**, but you will see that quite often we will have **multiple** output variables (\"values\"); in that case we talk about **gradients**. It's a more general term.\n",
        "\n",
        "Given an input $\\mathbf{x}$, we define our function by **manipulating** that input, usually by matrix-multiplications with weight matrices and additions with so-called bias vectors. As we manipulate our input, we are automatically creating a **computational graph**. This graph shows how to arrive at our output from our input.\n",
        "PyTorch is a **define-by-run** framework; this means that we can just do our manipulations, and PyTorch will keep track of that graph for us. Thus, we create a dynamic computation graph along the way.\n",
        "\n",
        "So, to recap: the only thing we have to do is to compute the **output**, and then we can ask PyTorch to automatically get the **gradients**.\n",
        "\n",
        "> **Note:  Why do we want gradients?** Consider that we have defined a function, a neural net, that is supposed to compute a certain output $y$ for an input vector $\\mathbf{x}$. We then define an **error measure** that tells us how wrong our network is; how bad it is in predicting output $y$ from input $\\mathbf{x}$. Based on this error measure, we can use the gradients to **update** the weights $\\mathbf{W}$ that were responsible for the output, so that the next time we present input $\\mathbf{x}$ to our network, the output will be closer to what we want.\n",
        "\n",
        "The first thing we have to do is to specify which tensors require gradients. By default, when we create a tensor, it does not require gradients."
      ]
    },
    {
      "cell_type": "code",
      "execution_count": null,
      "metadata": {
        "id": "565LEslRuUMm",
        "outputId": "1b7922ad-2768-4ff3-9fa8-1a8cde9de933",
        "colab": {
          "base_uri": "https://localhost:8080/"
        }
      },
      "outputs": [
        {
          "output_type": "stream",
          "name": "stdout",
          "text": [
            "False\n"
          ]
        }
      ],
      "source": [
        "x = torch.ones((3,))\n",
        "print(x.requires_grad)"
      ]
    },
    {
      "cell_type": "markdown",
      "metadata": {
        "id": "-Z0SehMLuUMn"
      },
      "source": [
        "We can change this for an existing tensor using the function `requires_grad_()` (underscore indicating that this is a in-place operation). Alternatively, when creating a tensor, you can pass the argument `requires_grad=True` to most initializers we have seen above."
      ]
    },
    {
      "cell_type": "code",
      "execution_count": null,
      "metadata": {
        "id": "hf6aWUyYuUMn",
        "outputId": "1c569761-fd53-4ea6-e917-c40cb93b426a",
        "colab": {
          "base_uri": "https://localhost:8080/"
        }
      },
      "outputs": [
        {
          "output_type": "stream",
          "name": "stdout",
          "text": [
            "True\n"
          ]
        }
      ],
      "source": [
        "x.requires_grad_(True)\n",
        "print(x.requires_grad)"
      ]
    },
    {
      "cell_type": "markdown",
      "metadata": {
        "id": "KOH_SCWbuUMn"
      },
      "source": [
        "In order to get familiar with the concept of a computation graph, we will create one for the following function:\n",
        "\n",
        "$$y = \\frac{1}{|x|}\\sum_i \\left[(x_i + 2)^2 + 3\\right]$$\n",
        "\n",
        "You could imagine that $x$ are our parameters, and we want to optimize (either maximize or minimize) the output $y$. For this, we want to obtain the gradients $\\partial y / \\partial \\mathbf{x}$. For our example, we'll use $\\mathbf{x}=[0,1,2]$ as our input."
      ]
    },
    {
      "cell_type": "code",
      "execution_count": null,
      "metadata": {
        "id": "AJzbI_DbuUMn",
        "outputId": "4f0933ae-bd79-4b83-9bd2-ae8e4a01b6c0",
        "colab": {
          "base_uri": "https://localhost:8080/"
        }
      },
      "outputs": [
        {
          "output_type": "stream",
          "name": "stdout",
          "text": [
            "X tensor([0., 1., 2.], requires_grad=True)\n"
          ]
        }
      ],
      "source": [
        "x = torch.arange(3, dtype=torch.float32, requires_grad=True) # Only float tensors can have gradients\n",
        "print(\"X\", x)"
      ]
    },
    {
      "cell_type": "markdown",
      "metadata": {
        "id": "6_-CmWX1uUMo"
      },
      "source": [
        "Now let's build the computation graph step by step. You can combine multiple operations in a single line, but we will separate them here to get a better understanding of how each operation is added to the computation graph."
      ]
    },
    {
      "cell_type": "code",
      "execution_count": null,
      "metadata": {
        "id": "LoWjB0houUMo",
        "outputId": "8452774f-c49c-47bb-c9b8-715dfb80c357",
        "colab": {
          "base_uri": "https://localhost:8080/"
        }
      },
      "outputs": [
        {
          "output_type": "stream",
          "name": "stdout",
          "text": [
            "Y tensor(12.6667, grad_fn=<MeanBackward0>)\n"
          ]
        }
      ],
      "source": [
        "a = x + 2\n",
        "b = a ** 2\n",
        "c = b + 3\n",
        "y = c.mean()\n",
        "print(\"Y\", y)"
      ]
    },
    {
      "cell_type": "markdown",
      "metadata": {
        "id": "yT82CPQ9uUMo"
      },
      "source": [
        "Using the statements above, we have created a computation graph that looks similar to the figure below:\n",
        "\n",
        "<center style=\"width: 100%\"><img src=\"https://github.com/phlippe/uvadlc_notebooks/blob/master/docs/tutorial_notebooks/tutorial2/pytorch_computation_graph.svg?raw=1\" width=\"200px\"></center>\n",
        "\n",
        "We calculate $a$ based on the inputs $x$ and the constant $2$, $b$ is $a$ squared, and so on. The visualization is an abstraction of the dependencies between inputs and outputs of the operations we have applied.\n",
        "Each node of the computation graph has automatically defined a function for calculating the gradients with respect to its inputs, `grad_fn`. You can see this when we printed the output tensor $y$. This is why the computation graph is usually visualized in the reverse direction (arrows point from the result to the inputs). We can perform backpropagation on the computation graph by calling the function `backward()` on the last output, which effectively calculates the gradients for each tensor that has the property `requires_grad=True`:"
      ]
    },
    {
      "cell_type": "code",
      "execution_count": null,
      "metadata": {
        "id": "2gLpX-vquUMo"
      },
      "outputs": [],
      "source": [
        "y.backward()"
      ]
    },
    {
      "cell_type": "markdown",
      "metadata": {
        "id": "55C1vYBruUMo"
      },
      "source": [
        "`x.grad` will now contain the gradient $\\partial y/ \\partial \\mathcal{x}$, and this gradient indicates how a change in $\\mathbf{x}$ will affect output $y$ given the current input $\\mathbf{x}=[0,1,2]$:"
      ]
    },
    {
      "cell_type": "code",
      "execution_count": null,
      "metadata": {
        "id": "EtKWjMcduUMp",
        "outputId": "71412fa7-cf76-4052-9567-4cf766920028",
        "colab": {
          "base_uri": "https://localhost:8080/"
        }
      },
      "outputs": [
        {
          "output_type": "stream",
          "name": "stdout",
          "text": [
            "tensor([1.3333, 2.0000, 2.6667])\n"
          ]
        }
      ],
      "source": [
        "print(x.grad)"
      ]
    },
    {
      "cell_type": "markdown",
      "metadata": {
        "id": "w6dlTWCfuUMp"
      },
      "source": [
        "We can also verify these gradients by hand. We will calculate the gradients using the chain rule, in the same way as PyTorch did it:\n",
        "\n",
        "$$\\frac{\\partial y}{\\partial x_i} = \\frac{\\partial y}{\\partial c_i}\\frac{\\partial c_i}{\\partial b_i}\\frac{\\partial b_i}{\\partial a_i}\\frac{\\partial a_i}{\\partial x_i}$$\n",
        "\n",
        "Note that we have simplified this equation to index notation, and by using the fact that all operation besides the mean do not combine the elements in the tensor. The partial derivatives are:\n",
        "\n",
        "$$\n",
        "\\frac{\\partial a_i}{\\partial x_i} = 1,\\hspace{1cm}\n",
        "\\frac{\\partial b_i}{\\partial a_i} = 2\\cdot a_i\\hspace{1cm}\n",
        "\\frac{\\partial c_i}{\\partial b_i} = 1\\hspace{1cm}\n",
        "\\frac{\\partial y}{\\partial c_i} = \\frac{1}{3}\n",
        "$$\n",
        "\n",
        "Hence, with the input being $\\mathbf{x}=[0,1,2]$, our gradients are $\\partial y/\\partial \\mathbf{x}=[4/3,2,8/3]$. The previous code cell should have printed the same result."
      ]
    },
    {
      "cell_type": "markdown",
      "metadata": {
        "id": "1RWnUX4VuUMp"
      },
      "source": [
        "### GPU support\n",
        "\n",
        "A crucial feature of PyTorch is the support of GPUs, short for Graphics Processing Unit. A GPU can perform many thousands of small operations in parallel, making it very well suitable for performing large matrix operations in neural networks. When comparing GPUs to CPUs, we can list the following main differences (credit: [Kevin Krewell, 2009](https://blogs.nvidia.com/blog/2009/12/16/whats-the-difference-between-a-cpu-and-a-gpu/))\n",
        "\n",
        "<center style=\"width: 100%\"><img src=\"https://github.com/phlippe/uvadlc_notebooks/blob/master/docs/tutorial_notebooks/tutorial2/comparison_CPU_GPU.png?raw=1\" width=\"700px\"></center>\n",
        "\n",
        "CPUs and GPUs have both different advantages and disadvantages, which is why many computers contain both components and use them for different tasks. In case you are not familiar with GPUs, you can read up more details in this [NVIDIA blog post](https://blogs.nvidia.com/blog/2009/12/16/whats-the-difference-between-a-cpu-and-a-gpu/) or [here](https://www.intel.com/content/www/us/en/products/docs/processors/what-is-a-gpu.html).\n",
        "\n",
        "GPUs can accelerate the training of your network up to a factor of $100$ which is essential for large neural networks. PyTorch implements a lot of functionality for supporting GPUs (mostly those of NVIDIA due to the libraries [CUDA](https://developer.nvidia.com/cuda-zone) and [cuDNN](https://developer.nvidia.com/cudnn)). First, let's check whether you have a GPU available:"
      ]
    },
    {
      "cell_type": "code",
      "execution_count": null,
      "metadata": {
        "id": "Ubgepy_quUMq",
        "outputId": "f8f3d089-cabd-4714-d8a2-096f529f0e14",
        "colab": {
          "base_uri": "https://localhost:8080/"
        }
      },
      "outputs": [
        {
          "output_type": "stream",
          "name": "stdout",
          "text": [
            "Is the GPU available? True\n"
          ]
        }
      ],
      "source": [
        "gpu_avail = torch.cuda.is_available()\n",
        "print(f\"Is the GPU available? {gpu_avail}\")"
      ]
    },
    {
      "cell_type": "markdown",
      "metadata": {
        "id": "JHd3nTGKuUMq"
      },
      "source": [
        "If you have a GPU on your computer but the command above returns False, make sure you have the correct CUDA-version installed. On Google Colab, make sure that you have selected a GPU in your runtime setup (in the menu, check under `Runtime -> Change runtime type`).\n",
        "\n",
        "By default, all tensors you create are stored on the CPU. We can push a tensor to the GPU by using the function `.to(...)`, or `.cuda()`. However, it is often a good practice to define a `device` object in your code which points to the GPU if you have one, and otherwise to the CPU. Then, you can write your code with respect to this device object, and it allows you to run the same code on both a CPU-only system, and one with a GPU. Let's try it below. We can specify the device as follows:"
      ]
    },
    {
      "cell_type": "code",
      "execution_count": null,
      "metadata": {
        "id": "idhgpaA0uUMq",
        "outputId": "e06bc589-5da2-4b46-bd1d-560f3b7bf707",
        "colab": {
          "base_uri": "https://localhost:8080/"
        }
      },
      "outputs": [
        {
          "output_type": "stream",
          "name": "stdout",
          "text": [
            "Device cuda\n"
          ]
        }
      ],
      "source": [
        "device = torch.device(\"cuda\") if torch.cuda.is_available() else torch.device(\"cpu\")\n",
        "print(\"Device\", device)"
      ]
    },
    {
      "cell_type": "markdown",
      "metadata": {
        "id": "PiF-d7ZHuUMq"
      },
      "source": [
        "Now let's create a tensor and push it to the device:"
      ]
    },
    {
      "cell_type": "code",
      "execution_count": null,
      "metadata": {
        "id": "ZQMqLr_HuUMr",
        "outputId": "68b80160-5b2a-4d54-c773-e616bb3238d2",
        "colab": {
          "base_uri": "https://localhost:8080/"
        }
      },
      "outputs": [
        {
          "output_type": "stream",
          "name": "stdout",
          "text": [
            "X tensor([[0., 0., 0.],\n",
            "        [0., 0., 0.]], device='cuda:0')\n"
          ]
        }
      ],
      "source": [
        "x = torch.zeros(2, 3)\n",
        "x = x.to(device)\n",
        "print(\"X\", x)"
      ]
    },
    {
      "cell_type": "markdown",
      "metadata": {
        "id": "KmpkErysuUMr"
      },
      "source": [
        "In case you have a GPU, you should now see the attribute `device='cuda:0'` being printed next to your tensor. The zero next to cuda indicates that this is the zero-th GPU device on your computer. PyTorch also supports multi-GPU systems, but this you will only need once you have very big networks to train (if interested, see the [PyTorch documentation](https://pytorch.org/docs/stable/distributed.html#distributed-basics)). We can also compare the runtime of a large matrix multiplication on the CPU with a operation on the GPU:"
      ]
    },
    {
      "cell_type": "code",
      "execution_count": null,
      "metadata": {
        "id": "rLDIZv8YuUMr"
      },
      "outputs": [],
      "source": [
        "x = torch.randn(10000, 10000)\n",
        "\n",
        "## CPU version\n",
        "start_time_cpu = time.time()\n",
        "_ = torch.matmul(x, x)\n",
        "end_time_cpu = time.time()\n",
        "print(f\"CPU time: {(end_time_cpu - start_time_cpu):6.5f}s\")\n",
        "\n",
        "## GPU version\n",
        "x = x.to(device)\n",
        "_ = torch.matmul(x, x)  # First operation to 'burn in' GPU\n",
        "# CUDA is asynchronous, so we need to use different timing functions\n",
        "start_gpu = torch.cuda.Event(enable_timing=True)\n",
        "end_gpu = torch.cuda.Event(enable_timing=True)\n",
        "\n",
        "start_gpu.record()\n",
        "_ = torch.matmul(x, x)\n",
        "end_gpu.record()\n",
        "torch.cuda.synchronize()  # Waits for everything to finish running on the GPU\n",
        "print(f\"GPU time: {0.001 * start_gpu.elapsed_time(end_gpu):6.5f}s\")  # Milliseconds to seconds"
      ]
    },
    {
      "cell_type": "code",
      "source": [
        "# ❓ 1. How many times is GPU faster for 5000x5000 matrices?\n",
        "# 2. Check for 10000x10000 programmatically"
      ],
      "metadata": {
        "id": "ESwCEspC8_Ol"
      },
      "execution_count": null,
      "outputs": []
    },
    {
      "cell_type": "markdown",
      "metadata": {
        "id": "bIR5UZRluUMs"
      },
      "source": [
        "Depending on the size of the operation and the CPU/GPU in your system, the speedup of this operation can be >50x. As `matmul` operations are very common in neural networks, we can already see the great benefit of training a NN on a GPU. The time estimate can be relatively noisy here because we haven't run it for multiple times. Feel free to extend this, but it also takes longer to run.\n",
        "\n",
        "When generating random numbers, the seed between CPU and GPU is not synchronized. Hence, we need to set the seed on the GPU separately to ensure a reproducible code. Note that due to different GPU architectures, running the same code on different GPUs does not guarantee the same random numbers. Still, we don't want that our code gives us a different output every time we run it on the exact same hardware. Hence, we also set the seed on the GPU:"
      ]
    },
    {
      "cell_type": "code",
      "execution_count": null,
      "metadata": {
        "id": "G40mSN5LuUMs"
      },
      "outputs": [],
      "source": [
        "# GPU operations have a separate seed we also want to set\n",
        "if torch.cuda.is_available():\n",
        "    torch.cuda.manual_seed(42)\n",
        "    torch.cuda.manual_seed_all(42)\n",
        "\n",
        "# Additionally, some operations on a GPU are implemented stochastic for efficiency\n",
        "# We want to ensure that all operations are deterministic on GPU (if used) for reproducibility\n",
        "torch.backends.cudnn.deterministic = True\n",
        "torch.backends.cudnn.benchmark = False"
      ]
    },
    {
      "cell_type": "markdown",
      "metadata": {
        "id": "KMU1HCA2uUMs"
      },
      "source": [
        "## Learning by example: Continuous XOR\n",
        "\n",
        "If we want to build a neural network in PyTorch, we could specify all our parameters (weight matrices, bias vectors) using `Tensors` (with `requires_grad=True`), ask PyTorch to calculate the gradients and then adjust the parameters. But things can quickly get cumbersome if we have a lot of parameters. In PyTorch, there is a package called `torch.nn` that makes building neural networks more convenient.\n",
        "\n",
        "We will introduce the libraries and all additional parts you might need to train a neural network in PyTorch, using a simple example classifier on a simple yet well known example: XOR. Given two binary inputs $x_1$ and $x_2$, the label to predict is $1$ if either $x_1$ or $x_2$ is $1$ while the other is $0$, or the label is $0$ in all other cases. The example became famous by the fact that a single neuron, i.e. a linear classifier, cannot learn this simple function.    \n",
        "Idealized (binary) version of XOR:\n",
        "\n",
        "| Input x1 | Input x2 | Output |\n",
        "|---------|---------|--------|\n",
        "|   0     |   0     |   0    |\n",
        "|   0     |   1     |   1    |\n",
        "|   1     |   0     |   1    |\n",
        "|   1     |   1     |   0    |\n",
        "\n",
        "Hence, we will learn how to build a small neural network that can learn this function.\n",
        "To make it a little bit more interesting, we move the XOR into continuous space and introduce some gaussian noise on the binary inputs. Our desired separation of an XOR dataset could look as follows:\n",
        "\n",
        "<center style=\"width: 100%\"><img src=\"https://github.com/phlippe/uvadlc_notebooks/blob/master/docs/tutorial_notebooks/tutorial2/continuous_xor.svg?raw=1\" width=\"350px\"></center>"
      ]
    },
    {
      "cell_type": "markdown",
      "metadata": {
        "id": "BrbSPmaNuUMs"
      },
      "source": [
        "### The model\n",
        "\n",
        "The package `torch.nn` defines a series of useful classes like linear networks layers, activation functions, loss functions etc. A full list can be found [here](https://pytorch.org/docs/stable/nn.html). In case you need a certain network layer, check the documentation of the package first before writing the layer yourself as the package likely contains the code for it already. We import it below:"
      ]
    },
    {
      "cell_type": "code",
      "execution_count": null,
      "metadata": {
        "id": "ZFundNeMuUMs"
      },
      "outputs": [],
      "source": [
        "import torch.nn as nn"
      ]
    },
    {
      "cell_type": "markdown",
      "metadata": {
        "id": "PE_CY2DvuUMs"
      },
      "source": [
        "Additionally to `torch.nn`, there is also `torch.nn.functional`. It contains functions that are used in network layers. This is in contrast to `torch.nn` which defines them as `nn.Modules` (more on it below), and `torch.nn` actually uses a lot of functionalities from `torch.nn.functional`. Hence, the functional package is useful in many situations, and so we import it as well here."
      ]
    },
    {
      "cell_type": "code",
      "execution_count": null,
      "metadata": {
        "id": "-g_a437MuUMs"
      },
      "outputs": [],
      "source": [
        "import torch.nn.functional as F"
      ]
    },
    {
      "cell_type": "markdown",
      "metadata": {
        "id": "YorIn1aEuUMt"
      },
      "source": [
        "#### nn.Module\n",
        "\n",
        "In PyTorch, a neural network is built up out of modules. Modules can contain other modules, and a neural network is considered to be a module itself as well. The basic template of a module is as follows:"
      ]
    },
    {
      "cell_type": "code",
      "execution_count": null,
      "metadata": {
        "id": "WAzWH1xLuUMt"
      },
      "outputs": [],
      "source": [
        "class MyModule(nn.Module):\n",
        "\n",
        "    def __init__(self):\n",
        "        super().__init__()\n",
        "        # Some init for my module\n",
        "\n",
        "    def forward(self, x):\n",
        "        # Function for performing the calculation of the module.\n",
        "        pass"
      ]
    },
    {
      "cell_type": "markdown",
      "metadata": {
        "id": "VZAVNxV4uUMt"
      },
      "source": [
        "The **forward function** is where the computation of the module is taken place, and is executed when you call the module (`nn = MyModule(); nn(x)`). In the init function, we usually create the parameters of the module, using `nn.Parameter`, or defining other modules that are used in the forward function. The backward calculation is done automatically, but could be overwritten as well if wanted.\n",
        "\n",
        "#### Simple classifier\n",
        "We can now make use of the pre-defined modules in the `torch.nn` package, and define our own small neural network. We will use a minimal network with a input layer, one hidden layer with tanh as activation function, and a output layer. In other words, our networks should look something like this:\n",
        "\n",
        "<center width=\"100%\"><img src=\"https://github.com/phlippe/uvadlc_notebooks/blob/master/docs/tutorial_notebooks/tutorial2/small_neural_network.svg?raw=1\" width=\"300px\"></center>\n",
        "\n",
        "The input neurons are shown in blue, which represent the coordinates $x_1$ and $x_2$ of a data point. The hidden neurons including a tanh activation are shown in white, and the output neuron in red.\n",
        "In PyTorch, we can define this as follows:"
      ]
    },
    {
      "cell_type": "code",
      "execution_count": null,
      "metadata": {
        "id": "D2ouot7MuUMt"
      },
      "outputs": [],
      "source": [
        "class SimpleClassifier(nn.Module):\n",
        "\n",
        "    def __init__(self, num_inputs, num_hidden, num_outputs):\n",
        "        super().__init__()\n",
        "        # Initialize the modules we need to build the network\n",
        "        self.linear1 = nn.Linear(num_inputs, num_hidden)\n",
        "        self.act_fn = nn.Tanh()\n",
        "        self.linear2 = nn.Linear(num_hidden, num_outputs)\n",
        "\n",
        "    def forward(self, x):\n",
        "        # Perform the calculation of the model to determine the prediction\n",
        "        x = self.linear1(x)\n",
        "        x = self.act_fn(x)\n",
        "        x = self.linear2(x)\n",
        "        return x"
      ]
    },
    {
      "cell_type": "code",
      "source": [],
      "metadata": {
        "id": "5J6MHd1WAKBH"
      },
      "execution_count": null,
      "outputs": []
    },
    {
      "cell_type": "markdown",
      "metadata": {
        "id": "d826cwrZuUMt"
      },
      "source": [
        "For the examples in this notebook, we will use a tiny neural network with two input neurons and four hidden neurons. As we perform binary classification, we will use a single output neuron. Note that we do not apply a sigmoid on the output yet. This is because other functions, especially the loss, are more efficient and precise to calculate on the original outputs instead of the sigmoid output. We will discuss the detailed reason later."
      ]
    },
    {
      "cell_type": "code",
      "execution_count": null,
      "metadata": {
        "id": "IqHP33mNuUMt",
        "outputId": "dc7e06a6-ff0c-4227-9c29-52b82a125331",
        "colab": {
          "base_uri": "https://localhost:8080/"
        }
      },
      "outputs": [
        {
          "output_type": "stream",
          "name": "stdout",
          "text": [
            "SimpleClassifier(\n",
            "  (linear1): Linear(in_features=2, out_features=4, bias=True)\n",
            "  (act_fn): Tanh()\n",
            "  (linear2): Linear(in_features=4, out_features=1, bias=True)\n",
            ")\n"
          ]
        }
      ],
      "source": [
        "model = SimpleClassifier(num_inputs=2, num_hidden=4, num_outputs=1)\n",
        "# Printing a module shows all its submodules\n",
        "print(model)"
      ]
    },
    {
      "cell_type": "markdown",
      "metadata": {
        "id": "8ZAR4BdYuUMu"
      },
      "source": [
        "Printing the model lists all submodules it contains. The parameters of a module can be obtained by using its `parameters()` functions, or `named_parameters()` to get a name to each parameter object. For our small neural network, we have the following parameters:"
      ]
    },
    {
      "cell_type": "code",
      "execution_count": null,
      "metadata": {
        "id": "eXFXWGSBuUMu",
        "outputId": "5127b73f-a51a-4cf7-ab4d-982a2c7a0c81",
        "colab": {
          "base_uri": "https://localhost:8080/"
        }
      },
      "outputs": [
        {
          "output_type": "stream",
          "name": "stdout",
          "text": [
            "Parameter linear1.weight, shape torch.Size([4, 2])\n",
            "Parameter linear1.bias, shape torch.Size([4])\n",
            "Parameter linear2.weight, shape torch.Size([1, 4])\n",
            "Parameter linear2.bias, shape torch.Size([1])\n"
          ]
        }
      ],
      "source": [
        "for name, param in model.named_parameters():\n",
        "    print(f\"Parameter {name}, shape {param.shape}\")"
      ]
    },
    {
      "cell_type": "markdown",
      "metadata": {
        "id": "XcWZcbTYuUMu"
      },
      "source": [
        "Each linear layer has a weight matrix of the shape `[output, input]`, and a bias of the shape `[output]`. The tanh activation function does not have any parameters. Note that parameters are only registered for `nn.Module` objects that are direct object attributes, i.e. `self.a = ...`. If you define a list of modules, the parameters of those are not registered for the outer module and can cause some issues when you try to optimize your module. There are alternatives, like `nn.ModuleList`, `nn.ModuleDict` and `nn.Sequential`, that allow you to have different data structures of modules. We will use them in a few later tutorials and explain them there."
      ]
    },
    {
      "cell_type": "markdown",
      "metadata": {
        "id": "ZXWIY_lcuUMu"
      },
      "source": [
        "### The data\n",
        "\n",
        "PyTorch also provides a few functionalities to load the training and test data efficiently, summarized in the package `torch.utils.data`."
      ]
    },
    {
      "cell_type": "code",
      "execution_count": null,
      "metadata": {
        "id": "WVmEesTyuUMu"
      },
      "outputs": [],
      "source": [
        "import torch.utils.data as data"
      ]
    },
    {
      "cell_type": "markdown",
      "metadata": {
        "id": "EjJ11zuiuUMv"
      },
      "source": [
        "The data package defines two classes which are the standard interface for handling data in PyTorch: `data.Dataset`, and `data.DataLoader`. The dataset class provides an uniform interface to access the training/test data, while the data loader makes sure to efficiently load and stack the data points from the dataset into batches during training."
      ]
    },
    {
      "cell_type": "markdown",
      "metadata": {
        "id": "iivZnBd6uUMv"
      },
      "source": [
        "#### The dataset class\n",
        "\n",
        "The dataset class summarizes the basic functionality of a dataset in a natural way. To define a dataset in PyTorch, we simply specify two functions: `__getitem__`, and `__len__`. The get-item function has to return the $i$-th data point in the dataset, while the len function returns the size of the dataset. For the XOR dataset, we can define the dataset class as follows:"
      ]
    },
    {
      "cell_type": "code",
      "execution_count": null,
      "metadata": {
        "id": "4z4datAouUMv"
      },
      "outputs": [],
      "source": [
        "class XORDataset(data.Dataset):\n",
        "\n",
        "    def __init__(self, size, std=0.1):\n",
        "        \"\"\"\n",
        "        Inputs:\n",
        "            size - Number of data points we want to generate\n",
        "            std - Standard deviation of the noise (see generate_continuous_xor function)\n",
        "        \"\"\"\n",
        "        super().__init__()\n",
        "        self.size = size\n",
        "        self.std = std\n",
        "        self.generate_continuous_xor()\n",
        "\n",
        "    def generate_continuous_xor(self):\n",
        "        # Each data point in the XOR dataset has two variables, x and y, that can be either 0 or 1\n",
        "        # The label is their XOR combination, i.e. 1 if only x or only y is 1 while the other is 0.\n",
        "        # If x=y, the label is 0.\n",
        "        data = torch.randint(low=0, high=2, size=(self.size, 2), dtype=torch.float32)\n",
        "        label = (data.sum(dim=1) == 1).to(torch.long)\n",
        "        # To make it slightly more challenging, we add a bit of gaussian noise to the data points.\n",
        "        data += self.std * torch.randn(data.shape)\n",
        "\n",
        "        self.data = data\n",
        "        self.label = label\n",
        "\n",
        "    def __len__(self):\n",
        "        # Number of data point we have. Alternatively self.data.shape[0], or self.label.shape[0]\n",
        "        return self.size\n",
        "\n",
        "    def __getitem__(self, idx):\n",
        "        # Return the idx-th data point of the dataset\n",
        "        # If we have multiple things to return (data point and label), we can return them as tuple\n",
        "        data_point = self.data[idx]\n",
        "        data_label = self.label[idx]\n",
        "        return data_point, data_label"
      ]
    },
    {
      "cell_type": "markdown",
      "metadata": {
        "id": "5XLNGhwYuUMv"
      },
      "source": [
        "Let's try to create such a dataset and inspect it:"
      ]
    },
    {
      "cell_type": "code",
      "execution_count": null,
      "metadata": {
        "id": "tXgNvaKduUMv",
        "outputId": "d05616f5-a183-465b-d999-8b055e8af2d6",
        "colab": {
          "base_uri": "https://localhost:8080/"
        }
      },
      "outputs": [
        {
          "output_type": "stream",
          "name": "stdout",
          "text": [
            "Size of dataset: 200\n",
            "Data point 0: (tensor([1.1137, 0.0611]), tensor(1))\n"
          ]
        }
      ],
      "source": [
        "dataset = XORDataset(size=200)\n",
        "print(\"Size of dataset:\", len(dataset))\n",
        "print(\"Data point 0:\", dataset[0])"
      ]
    },
    {
      "cell_type": "markdown",
      "metadata": {
        "id": "NECuJ6peuUMv"
      },
      "source": [
        "To better relate to the dataset, we visualize the samples below."
      ]
    },
    {
      "cell_type": "code",
      "execution_count": null,
      "metadata": {
        "id": "c4h9xWRkuUMw"
      },
      "outputs": [],
      "source": [
        "def visualize_samples(data, label):\n",
        "    if isinstance(data, torch.Tensor):\n",
        "        data = data.cpu().numpy()\n",
        "    if isinstance(label, torch.Tensor):\n",
        "        label = label.cpu().numpy()\n",
        "    data_0 = data[label == 0]\n",
        "    data_1 = data[label == 1]\n",
        "\n",
        "    plt.figure(figsize=(4,4))\n",
        "    plt.scatter(data_0[:,0], data_0[:,1], edgecolor=\"#333\", label=\"Class 0\")\n",
        "    plt.scatter(data_1[:,0], data_1[:,1], edgecolor=\"#333\", label=\"Class 1\")\n",
        "    plt.title(\"Dataset samples\")\n",
        "    plt.ylabel(r\"$x_2$\")\n",
        "    plt.xlabel(r\"$x_1$\")\n",
        "    plt.legend()"
      ]
    },
    {
      "cell_type": "code",
      "execution_count": null,
      "metadata": {
        "id": "nttKBE4_uUMw",
        "outputId": "7c8e8682-a40e-4190-ea54-3c78801d1eaa",
        "colab": {
          "base_uri": "https://localhost:8080/",
          "height": 403
        }
      },
      "outputs": [
        {
          "output_type": "display_data",
          "data": {
            "text/plain": [
              "<Figure size 400x400 with 1 Axes>"
            ],
            "image/svg+xml": "<?xml version=\"1.0\" encoding=\"utf-8\" standalone=\"no\"?>\n<!DOCTYPE svg PUBLIC \"-//W3C//DTD SVG 1.1//EN\"\n  \"http://www.w3.org/Graphics/SVG/1.1/DTD/svg11.dtd\">\n<svg xmlns:xlink=\"http://www.w3.org/1999/xlink\" width=\"289.424844pt\" height=\"287.037813pt\" viewBox=\"0 0 289.424844 287.037813\" xmlns=\"http://www.w3.org/2000/svg\" version=\"1.1\">\n <metadata>\n  <rdf:RDF xmlns:dc=\"http://purl.org/dc/elements/1.1/\" xmlns:cc=\"http://creativecommons.org/ns#\" xmlns:rdf=\"http://www.w3.org/1999/02/22-rdf-syntax-ns#\">\n   <cc:Work>\n    <dc:type rdf:resource=\"http://purl.org/dc/dcmitype/StillImage\"/>\n    <dc:date>2023-08-30T19:58:53.125746</dc:date>\n    <dc:format>image/svg+xml</dc:format>\n    <dc:creator>\n     <cc:Agent>\n      <dc:title>Matplotlib v3.7.1, https://matplotlib.org/</dc:title>\n     </cc:Agent>\n    </dc:creator>\n   </cc:Work>\n  </rdf:RDF>\n </metadata>\n <defs>\n  <style type=\"text/css\">*{stroke-linejoin: round; stroke-linecap: butt}</style>\n </defs>\n <g id=\"figure_1\">\n  <g id=\"patch_1\">\n   <path d=\"M 0 287.037813 \nL 289.424844 287.037813 \nL 289.424844 0 \nL 0 0 \nz\n\" style=\"fill: #ffffff\"/>\n  </g>\n  <g id=\"axes_1\">\n   <g id=\"patch_2\">\n    <path d=\"M 59.024844 244.078125 \nL 282.224844 244.078125 \nL 282.224844 22.318125 \nL 59.024844 22.318125 \nz\n\" style=\"fill: #eaeaf2\"/>\n   </g>\n   <g id=\"matplotlib.axis_1\">\n    <g id=\"xtick_1\">\n     <g id=\"line2d_1\">\n      <path d=\"M 104.369399 244.078125 \nL 104.369399 22.318125 \n\" clip-path=\"url(#p093dd8ca70)\" style=\"fill: none; stroke: #ffffff; stroke-linecap: round\"/>\n     </g>\n     <g id=\"text_1\">\n      <!-- 0.0 -->\n      <g style=\"fill: #262626\" transform=\"translate(95.62268 261.936406) scale(0.11 -0.11)\">\n       <defs>\n        <path id=\"DejaVuSans-30\" d=\"M 2034 4250 \nQ 1547 4250 1301 3770 \nQ 1056 3291 1056 2328 \nQ 1056 1369 1301 889 \nQ 1547 409 2034 409 \nQ 2525 409 2770 889 \nQ 3016 1369 3016 2328 \nQ 3016 3291 2770 3770 \nQ 2525 4250 2034 4250 \nz\nM 2034 4750 \nQ 2819 4750 3233 4129 \nQ 3647 3509 3647 2328 \nQ 3647 1150 3233 529 \nQ 2819 -91 2034 -91 \nQ 1250 -91 836 529 \nQ 422 1150 422 2328 \nQ 422 3509 836 4129 \nQ 1250 4750 2034 4750 \nz\n\" transform=\"scale(0.015625)\"/>\n        <path id=\"DejaVuSans-2e\" d=\"M 684 794 \nL 1344 794 \nL 1344 0 \nL 684 0 \nL 684 794 \nz\n\" transform=\"scale(0.015625)\"/>\n       </defs>\n       <use xlink:href=\"#DejaVuSans-30\"/>\n       <use xlink:href=\"#DejaVuSans-2e\" x=\"63.623047\"/>\n       <use xlink:href=\"#DejaVuSans-30\" x=\"95.410156\"/>\n      </g>\n     </g>\n    </g>\n    <g id=\"xtick_2\">\n     <g id=\"line2d_2\">\n      <path d=\"M 171.240577 244.078125 \nL 171.240577 22.318125 \n\" clip-path=\"url(#p093dd8ca70)\" style=\"fill: none; stroke: #ffffff; stroke-linecap: round\"/>\n     </g>\n     <g id=\"text_2\">\n      <!-- 0.5 -->\n      <g style=\"fill: #262626\" transform=\"translate(162.493858 261.936406) scale(0.11 -0.11)\">\n       <defs>\n        <path id=\"DejaVuSans-35\" d=\"M 691 4666 \nL 3169 4666 \nL 3169 4134 \nL 1269 4134 \nL 1269 2991 \nQ 1406 3038 1543 3061 \nQ 1681 3084 1819 3084 \nQ 2600 3084 3056 2656 \nQ 3513 2228 3513 1497 \nQ 3513 744 3044 326 \nQ 2575 -91 1722 -91 \nQ 1428 -91 1123 -41 \nQ 819 9 494 109 \nL 494 744 \nQ 775 591 1075 516 \nQ 1375 441 1709 441 \nQ 2250 441 2565 725 \nQ 2881 1009 2881 1497 \nQ 2881 1984 2565 2268 \nQ 2250 2553 1709 2553 \nQ 1456 2553 1204 2497 \nQ 953 2441 691 2322 \nL 691 4666 \nz\n\" transform=\"scale(0.015625)\"/>\n       </defs>\n       <use xlink:href=\"#DejaVuSans-30\"/>\n       <use xlink:href=\"#DejaVuSans-2e\" x=\"63.623047\"/>\n       <use xlink:href=\"#DejaVuSans-35\" x=\"95.410156\"/>\n      </g>\n     </g>\n    </g>\n    <g id=\"xtick_3\">\n     <g id=\"line2d_3\">\n      <path d=\"M 238.111755 244.078125 \nL 238.111755 22.318125 \n\" clip-path=\"url(#p093dd8ca70)\" style=\"fill: none; stroke: #ffffff; stroke-linecap: round\"/>\n     </g>\n     <g id=\"text_3\">\n      <!-- 1.0 -->\n      <g style=\"fill: #262626\" transform=\"translate(229.365037 261.936406) scale(0.11 -0.11)\">\n       <defs>\n        <path id=\"DejaVuSans-31\" d=\"M 794 531 \nL 1825 531 \nL 1825 4091 \nL 703 3866 \nL 703 4441 \nL 1819 4666 \nL 2450 4666 \nL 2450 531 \nL 3481 531 \nL 3481 0 \nL 794 0 \nL 794 531 \nz\n\" transform=\"scale(0.015625)\"/>\n       </defs>\n       <use xlink:href=\"#DejaVuSans-31\"/>\n       <use xlink:href=\"#DejaVuSans-2e\" x=\"63.623047\"/>\n       <use xlink:href=\"#DejaVuSans-30\" x=\"95.410156\"/>\n      </g>\n     </g>\n    </g>\n    <g id=\"text_4\">\n     <!-- $x_1$ -->\n     <g style=\"fill: #262626\" transform=\"translate(164.204844 277.342188) scale(0.12 -0.12)\">\n      <defs>\n       <path id=\"DejaVuSans-Oblique-78\" d=\"M 3841 3500 \nL 2234 1784 \nL 3219 0 \nL 2559 0 \nL 1819 1388 \nL 531 0 \nL -166 0 \nL 1556 1844 \nL 641 3500 \nL 1300 3500 \nL 1972 2234 \nL 3144 3500 \nL 3841 3500 \nz\n\" transform=\"scale(0.015625)\"/>\n      </defs>\n      <use xlink:href=\"#DejaVuSans-Oblique-78\" transform=\"translate(0 0.3125)\"/>\n      <use xlink:href=\"#DejaVuSans-31\" transform=\"translate(59.179688 -16.09375) scale(0.7)\"/>\n     </g>\n    </g>\n   </g>\n   <g id=\"matplotlib.axis_2\">\n    <g id=\"ytick_1\">\n     <g id=\"line2d_4\">\n      <path d=\"M 59.024844 231.409181 \nL 282.224844 231.409181 \n\" clip-path=\"url(#p093dd8ca70)\" style=\"fill: none; stroke: #ffffff; stroke-linecap: round\"/>\n     </g>\n     <g id=\"text_5\">\n      <!-- −0.2 -->\n      <g style=\"fill: #262626\" transform=\"translate(22.81375 235.588322) scale(0.11 -0.11)\">\n       <defs>\n        <path id=\"DejaVuSans-2212\" d=\"M 678 2272 \nL 4684 2272 \nL 4684 1741 \nL 678 1741 \nL 678 2272 \nz\n\" transform=\"scale(0.015625)\"/>\n        <path id=\"DejaVuSans-32\" d=\"M 1228 531 \nL 3431 531 \nL 3431 0 \nL 469 0 \nL 469 531 \nQ 828 903 1448 1529 \nQ 2069 2156 2228 2338 \nQ 2531 2678 2651 2914 \nQ 2772 3150 2772 3378 \nQ 2772 3750 2511 3984 \nQ 2250 4219 1831 4219 \nQ 1534 4219 1204 4116 \nQ 875 4013 500 3803 \nL 500 4441 \nQ 881 4594 1212 4672 \nQ 1544 4750 1819 4750 \nQ 2544 4750 2975 4387 \nQ 3406 4025 3406 3419 \nQ 3406 3131 3298 2873 \nQ 3191 2616 2906 2266 \nQ 2828 2175 2409 1742 \nQ 1991 1309 1228 531 \nz\n\" transform=\"scale(0.015625)\"/>\n       </defs>\n       <use xlink:href=\"#DejaVuSans-2212\"/>\n       <use xlink:href=\"#DejaVuSans-30\" x=\"83.789062\"/>\n       <use xlink:href=\"#DejaVuSans-2e\" x=\"147.412109\"/>\n       <use xlink:href=\"#DejaVuSans-32\" x=\"179.199219\"/>\n      </g>\n     </g>\n    </g>\n    <g id=\"ytick_2\">\n     <g id=\"line2d_5\">\n      <path d=\"M 59.024844 203.399036 \nL 282.224844 203.399036 \n\" clip-path=\"url(#p093dd8ca70)\" style=\"fill: none; stroke: #ffffff; stroke-linecap: round\"/>\n     </g>\n     <g id=\"text_6\">\n      <!-- 0.0 -->\n      <g style=\"fill: #262626\" transform=\"translate(32.031406 207.578177) scale(0.11 -0.11)\">\n       <use xlink:href=\"#DejaVuSans-30\"/>\n       <use xlink:href=\"#DejaVuSans-2e\" x=\"63.623047\"/>\n       <use xlink:href=\"#DejaVuSans-30\" x=\"95.410156\"/>\n      </g>\n     </g>\n    </g>\n    <g id=\"ytick_3\">\n     <g id=\"line2d_6\">\n      <path d=\"M 59.024844 175.388891 \nL 282.224844 175.388891 \n\" clip-path=\"url(#p093dd8ca70)\" style=\"fill: none; stroke: #ffffff; stroke-linecap: round\"/>\n     </g>\n     <g id=\"text_7\">\n      <!-- 0.2 -->\n      <g style=\"fill: #262626\" transform=\"translate(32.031406 179.568032) scale(0.11 -0.11)\">\n       <use xlink:href=\"#DejaVuSans-30\"/>\n       <use xlink:href=\"#DejaVuSans-2e\" x=\"63.623047\"/>\n       <use xlink:href=\"#DejaVuSans-32\" x=\"95.410156\"/>\n      </g>\n     </g>\n    </g>\n    <g id=\"ytick_4\">\n     <g id=\"line2d_7\">\n      <path d=\"M 59.024844 147.378746 \nL 282.224844 147.378746 \n\" clip-path=\"url(#p093dd8ca70)\" style=\"fill: none; stroke: #ffffff; stroke-linecap: round\"/>\n     </g>\n     <g id=\"text_8\">\n      <!-- 0.4 -->\n      <g style=\"fill: #262626\" transform=\"translate(32.031406 151.557887) scale(0.11 -0.11)\">\n       <defs>\n        <path id=\"DejaVuSans-34\" d=\"M 2419 4116 \nL 825 1625 \nL 2419 1625 \nL 2419 4116 \nz\nM 2253 4666 \nL 3047 4666 \nL 3047 1625 \nL 3713 1625 \nL 3713 1100 \nL 3047 1100 \nL 3047 0 \nL 2419 0 \nL 2419 1100 \nL 313 1100 \nL 313 1709 \nL 2253 4666 \nz\n\" transform=\"scale(0.015625)\"/>\n       </defs>\n       <use xlink:href=\"#DejaVuSans-30\"/>\n       <use xlink:href=\"#DejaVuSans-2e\" x=\"63.623047\"/>\n       <use xlink:href=\"#DejaVuSans-34\" x=\"95.410156\"/>\n      </g>\n     </g>\n    </g>\n    <g id=\"ytick_5\">\n     <g id=\"line2d_8\">\n      <path d=\"M 59.024844 119.368601 \nL 282.224844 119.368601 \n\" clip-path=\"url(#p093dd8ca70)\" style=\"fill: none; stroke: #ffffff; stroke-linecap: round\"/>\n     </g>\n     <g id=\"text_9\">\n      <!-- 0.6 -->\n      <g style=\"fill: #262626\" transform=\"translate(32.031406 123.547742) scale(0.11 -0.11)\">\n       <defs>\n        <path id=\"DejaVuSans-36\" d=\"M 2113 2584 \nQ 1688 2584 1439 2293 \nQ 1191 2003 1191 1497 \nQ 1191 994 1439 701 \nQ 1688 409 2113 409 \nQ 2538 409 2786 701 \nQ 3034 994 3034 1497 \nQ 3034 2003 2786 2293 \nQ 2538 2584 2113 2584 \nz\nM 3366 4563 \nL 3366 3988 \nQ 3128 4100 2886 4159 \nQ 2644 4219 2406 4219 \nQ 1781 4219 1451 3797 \nQ 1122 3375 1075 2522 \nQ 1259 2794 1537 2939 \nQ 1816 3084 2150 3084 \nQ 2853 3084 3261 2657 \nQ 3669 2231 3669 1497 \nQ 3669 778 3244 343 \nQ 2819 -91 2113 -91 \nQ 1303 -91 875 529 \nQ 447 1150 447 2328 \nQ 447 3434 972 4092 \nQ 1497 4750 2381 4750 \nQ 2619 4750 2861 4703 \nQ 3103 4656 3366 4563 \nz\n\" transform=\"scale(0.015625)\"/>\n       </defs>\n       <use xlink:href=\"#DejaVuSans-30\"/>\n       <use xlink:href=\"#DejaVuSans-2e\" x=\"63.623047\"/>\n       <use xlink:href=\"#DejaVuSans-36\" x=\"95.410156\"/>\n      </g>\n     </g>\n    </g>\n    <g id=\"ytick_6\">\n     <g id=\"line2d_9\">\n      <path d=\"M 59.024844 91.358456 \nL 282.224844 91.358456 \n\" clip-path=\"url(#p093dd8ca70)\" style=\"fill: none; stroke: #ffffff; stroke-linecap: round\"/>\n     </g>\n     <g id=\"text_10\">\n      <!-- 0.8 -->\n      <g style=\"fill: #262626\" transform=\"translate(32.031406 95.537596) scale(0.11 -0.11)\">\n       <defs>\n        <path id=\"DejaVuSans-38\" d=\"M 2034 2216 \nQ 1584 2216 1326 1975 \nQ 1069 1734 1069 1313 \nQ 1069 891 1326 650 \nQ 1584 409 2034 409 \nQ 2484 409 2743 651 \nQ 3003 894 3003 1313 \nQ 3003 1734 2745 1975 \nQ 2488 2216 2034 2216 \nz\nM 1403 2484 \nQ 997 2584 770 2862 \nQ 544 3141 544 3541 \nQ 544 4100 942 4425 \nQ 1341 4750 2034 4750 \nQ 2731 4750 3128 4425 \nQ 3525 4100 3525 3541 \nQ 3525 3141 3298 2862 \nQ 3072 2584 2669 2484 \nQ 3125 2378 3379 2068 \nQ 3634 1759 3634 1313 \nQ 3634 634 3220 271 \nQ 2806 -91 2034 -91 \nQ 1263 -91 848 271 \nQ 434 634 434 1313 \nQ 434 1759 690 2068 \nQ 947 2378 1403 2484 \nz\nM 1172 3481 \nQ 1172 3119 1398 2916 \nQ 1625 2713 2034 2713 \nQ 2441 2713 2670 2916 \nQ 2900 3119 2900 3481 \nQ 2900 3844 2670 4047 \nQ 2441 4250 2034 4250 \nQ 1625 4250 1398 4047 \nQ 1172 3844 1172 3481 \nz\n\" transform=\"scale(0.015625)\"/>\n       </defs>\n       <use xlink:href=\"#DejaVuSans-30\"/>\n       <use xlink:href=\"#DejaVuSans-2e\" x=\"63.623047\"/>\n       <use xlink:href=\"#DejaVuSans-38\" x=\"95.410156\"/>\n      </g>\n     </g>\n    </g>\n    <g id=\"ytick_7\">\n     <g id=\"line2d_10\">\n      <path d=\"M 59.024844 63.348311 \nL 282.224844 63.348311 \n\" clip-path=\"url(#p093dd8ca70)\" style=\"fill: none; stroke: #ffffff; stroke-linecap: round\"/>\n     </g>\n     <g id=\"text_11\">\n      <!-- 1.0 -->\n      <g style=\"fill: #262626\" transform=\"translate(32.031406 67.527451) scale(0.11 -0.11)\">\n       <use xlink:href=\"#DejaVuSans-31\"/>\n       <use xlink:href=\"#DejaVuSans-2e\" x=\"63.623047\"/>\n       <use xlink:href=\"#DejaVuSans-30\" x=\"95.410156\"/>\n      </g>\n     </g>\n    </g>\n    <g id=\"ytick_8\">\n     <g id=\"line2d_11\">\n      <path d=\"M 59.024844 35.338166 \nL 282.224844 35.338166 \n\" clip-path=\"url(#p093dd8ca70)\" style=\"fill: none; stroke: #ffffff; stroke-linecap: round\"/>\n     </g>\n     <g id=\"text_12\">\n      <!-- 1.2 -->\n      <g style=\"fill: #262626\" transform=\"translate(32.031406 39.517306) scale(0.11 -0.11)\">\n       <use xlink:href=\"#DejaVuSans-31\"/>\n       <use xlink:href=\"#DejaVuSans-2e\" x=\"63.623047\"/>\n       <use xlink:href=\"#DejaVuSans-32\" x=\"95.410156\"/>\n      </g>\n     </g>\n    </g>\n    <g id=\"text_13\">\n     <!-- $x_2$ -->\n     <g style=\"fill: #262626\" transform=\"translate(16.318125 139.618125) rotate(-90) scale(0.12 -0.12)\">\n      <use xlink:href=\"#DejaVuSans-Oblique-78\" transform=\"translate(0 0.3125)\"/>\n      <use xlink:href=\"#DejaVuSans-32\" transform=\"translate(59.179688 -16.09375) scale(0.7)\"/>\n     </g>\n    </g>\n   </g>\n   <g id=\"PathCollection_1\">\n    <defs>\n     <path id=\"ma1b20321a3\" d=\"M 0 3 \nC 0.795609 3 1.55874 2.683901 2.12132 2.12132 \nC 2.683901 1.55874 3 0.795609 3 0 \nC 3 -0.795609 2.683901 -1.55874 2.12132 -2.12132 \nC 1.55874 -2.683901 0.795609 -3 0 -3 \nC -0.795609 -3 -1.55874 -2.683901 -2.12132 -2.12132 \nC -2.683901 -1.55874 -3 -0.795609 -3 0 \nC -3 0.795609 -2.683901 1.55874 -2.12132 2.12132 \nC -1.55874 2.683901 -0.795609 3 0 3 \nz\n\" style=\"stroke: #333333\"/>\n    </defs>\n    <g clip-path=\"url(#p093dd8ca70)\">\n     <use xlink:href=\"#ma1b20321a3\" x=\"259.687371\" y=\"76.585501\" style=\"fill: #4c72b0; stroke: #333333\"/>\n     <use xlink:href=\"#ma1b20321a3\" x=\"234.300916\" y=\"67.496863\" style=\"fill: #4c72b0; stroke: #333333\"/>\n     <use xlink:href=\"#ma1b20321a3\" x=\"115.42632\" y=\"204.84221\" style=\"fill: #4c72b0; stroke: #333333\"/>\n     <use xlink:href=\"#ma1b20321a3\" x=\"249.252317\" y=\"78.673488\" style=\"fill: #4c72b0; stroke: #333333\"/>\n     <use xlink:href=\"#ma1b20321a3\" x=\"229.132136\" y=\"82.321062\" style=\"fill: #4c72b0; stroke: #333333\"/>\n     <use xlink:href=\"#ma1b20321a3\" x=\"69.170298\" y=\"198.238092\" style=\"fill: #4c72b0; stroke: #333333\"/>\n     <use xlink:href=\"#ma1b20321a3\" x=\"124.209767\" y=\"208.446705\" style=\"fill: #4c72b0; stroke: #333333\"/>\n     <use xlink:href=\"#ma1b20321a3\" x=\"75.461774\" y=\"188.698146\" style=\"fill: #4c72b0; stroke: #333333\"/>\n     <use xlink:href=\"#ma1b20321a3\" x=\"222.255044\" y=\"75.583204\" style=\"fill: #4c72b0; stroke: #333333\"/>\n     <use xlink:href=\"#ma1b20321a3\" x=\"75.870154\" y=\"184.370336\" style=\"fill: #4c72b0; stroke: #333333\"/>\n     <use xlink:href=\"#ma1b20321a3\" x=\"243.621898\" y=\"78.45361\" style=\"fill: #4c72b0; stroke: #333333\"/>\n     <use xlink:href=\"#ma1b20321a3\" x=\"247.231293\" y=\"55.554271\" style=\"fill: #4c72b0; stroke: #333333\"/>\n     <use xlink:href=\"#ma1b20321a3\" x=\"228.483864\" y=\"70.322083\" style=\"fill: #4c72b0; stroke: #333333\"/>\n     <use xlink:href=\"#ma1b20321a3\" x=\"96.100485\" y=\"173.634422\" style=\"fill: #4c72b0; stroke: #333333\"/>\n     <use xlink:href=\"#ma1b20321a3\" x=\"251.061901\" y=\"61.330511\" style=\"fill: #4c72b0; stroke: #333333\"/>\n     <use xlink:href=\"#ma1b20321a3\" x=\"225.098665\" y=\"93.90447\" style=\"fill: #4c72b0; stroke: #333333\"/>\n     <use xlink:href=\"#ma1b20321a3\" x=\"249.470103\" y=\"53.175635\" style=\"fill: #4c72b0; stroke: #333333\"/>\n     <use xlink:href=\"#ma1b20321a3\" x=\"237.135744\" y=\"61.092068\" style=\"fill: #4c72b0; stroke: #333333\"/>\n     <use xlink:href=\"#ma1b20321a3\" x=\"245.649077\" y=\"87.140116\" style=\"fill: #4c72b0; stroke: #333333\"/>\n     <use xlink:href=\"#ma1b20321a3\" x=\"101.581329\" y=\"209.636071\" style=\"fill: #4c72b0; stroke: #333333\"/>\n     <use xlink:href=\"#ma1b20321a3\" x=\"240.460814\" y=\"63.418623\" style=\"fill: #4c72b0; stroke: #333333\"/>\n     <use xlink:href=\"#ma1b20321a3\" x=\"246.264091\" y=\"59.748944\" style=\"fill: #4c72b0; stroke: #333333\"/>\n     <use xlink:href=\"#ma1b20321a3\" x=\"108.586073\" y=\"196.896501\" style=\"fill: #4c72b0; stroke: #333333\"/>\n     <use xlink:href=\"#ma1b20321a3\" x=\"254.46872\" y=\"50.384824\" style=\"fill: #4c72b0; stroke: #333333\"/>\n     <use xlink:href=\"#ma1b20321a3\" x=\"263.908862\" y=\"48.77935\" style=\"fill: #4c72b0; stroke: #333333\"/>\n     <use xlink:href=\"#ma1b20321a3\" x=\"105.186297\" y=\"205.251854\" style=\"fill: #4c72b0; stroke: #333333\"/>\n     <use xlink:href=\"#ma1b20321a3\" x=\"237.533212\" y=\"65.323646\" style=\"fill: #4c72b0; stroke: #333333\"/>\n     <use xlink:href=\"#ma1b20321a3\" x=\"233.045682\" y=\"46.736941\" style=\"fill: #4c72b0; stroke: #333333\"/>\n     <use xlink:href=\"#ma1b20321a3\" x=\"97.354454\" y=\"197.175283\" style=\"fill: #4c72b0; stroke: #333333\"/>\n     <use xlink:href=\"#ma1b20321a3\" x=\"86.689425\" y=\"215.327349\" style=\"fill: #4c72b0; stroke: #333333\"/>\n     <use xlink:href=\"#ma1b20321a3\" x=\"129.379599\" y=\"217.543847\" style=\"fill: #4c72b0; stroke: #333333\"/>\n     <use xlink:href=\"#ma1b20321a3\" x=\"89.483084\" y=\"203.330278\" style=\"fill: #4c72b0; stroke: #333333\"/>\n     <use xlink:href=\"#ma1b20321a3\" x=\"234.057151\" y=\"82.598113\" style=\"fill: #4c72b0; stroke: #333333\"/>\n     <use xlink:href=\"#ma1b20321a3\" x=\"238.021851\" y=\"68.120601\" style=\"fill: #4c72b0; stroke: #333333\"/>\n     <use xlink:href=\"#ma1b20321a3\" x=\"245.002335\" y=\"64.402338\" style=\"fill: #4c72b0; stroke: #333333\"/>\n     <use xlink:href=\"#ma1b20321a3\" x=\"236.318784\" y=\"79.264912\" style=\"fill: #4c72b0; stroke: #333333\"/>\n     <use xlink:href=\"#ma1b20321a3\" x=\"237.504745\" y=\"87.022789\" style=\"fill: #4c72b0; stroke: #333333\"/>\n     <use xlink:href=\"#ma1b20321a3\" x=\"231.400051\" y=\"49.451638\" style=\"fill: #4c72b0; stroke: #333333\"/>\n     <use xlink:href=\"#ma1b20321a3\" x=\"227.639051\" y=\"60.601959\" style=\"fill: #4c72b0; stroke: #333333\"/>\n     <use xlink:href=\"#ma1b20321a3\" x=\"98.649743\" y=\"201.800986\" style=\"fill: #4c72b0; stroke: #333333\"/>\n     <use xlink:href=\"#ma1b20321a3\" x=\"83.725812\" y=\"208.971897\" style=\"fill: #4c72b0; stroke: #333333\"/>\n     <use xlink:href=\"#ma1b20321a3\" x=\"108.273785\" y=\"186.673885\" style=\"fill: #4c72b0; stroke: #333333\"/>\n     <use xlink:href=\"#ma1b20321a3\" x=\"250.713763\" y=\"49.450402\" style=\"fill: #4c72b0; stroke: #333333\"/>\n     <use xlink:href=\"#ma1b20321a3\" x=\"225.088573\" y=\"56.234023\" style=\"fill: #4c72b0; stroke: #333333\"/>\n     <use xlink:href=\"#ma1b20321a3\" x=\"243.71633\" y=\"62.424808\" style=\"fill: #4c72b0; stroke: #333333\"/>\n     <use xlink:href=\"#ma1b20321a3\" x=\"229.367811\" y=\"56.191733\" style=\"fill: #4c72b0; stroke: #333333\"/>\n     <use xlink:href=\"#ma1b20321a3\" x=\"254.83108\" y=\"48.766778\" style=\"fill: #4c72b0; stroke: #333333\"/>\n     <use xlink:href=\"#ma1b20321a3\" x=\"81.6063\" y=\"202.336732\" style=\"fill: #4c72b0; stroke: #333333\"/>\n     <use xlink:href=\"#ma1b20321a3\" x=\"74.922604\" y=\"210.799595\" style=\"fill: #4c72b0; stroke: #333333\"/>\n     <use xlink:href=\"#ma1b20321a3\" x=\"246.43411\" y=\"61.078929\" style=\"fill: #4c72b0; stroke: #333333\"/>\n     <use xlink:href=\"#ma1b20321a3\" x=\"74.90699\" y=\"209.219406\" style=\"fill: #4c72b0; stroke: #333333\"/>\n     <use xlink:href=\"#ma1b20321a3\" x=\"231.049322\" y=\"74.924673\" style=\"fill: #4c72b0; stroke: #333333\"/>\n     <use xlink:href=\"#ma1b20321a3\" x=\"102.539321\" y=\"214.86444\" style=\"fill: #4c72b0; stroke: #333333\"/>\n     <use xlink:href=\"#ma1b20321a3\" x=\"229.104841\" y=\"58.165708\" style=\"fill: #4c72b0; stroke: #333333\"/>\n     <use xlink:href=\"#ma1b20321a3\" x=\"103.865374\" y=\"198.671918\" style=\"fill: #4c72b0; stroke: #333333\"/>\n     <use xlink:href=\"#ma1b20321a3\" x=\"261.558975\" y=\"48.201974\" style=\"fill: #4c72b0; stroke: #333333\"/>\n     <use xlink:href=\"#ma1b20321a3\" x=\"105.999361\" y=\"218.577489\" style=\"fill: #4c72b0; stroke: #333333\"/>\n     <use xlink:href=\"#ma1b20321a3\" x=\"234.481267\" y=\"64.671667\" style=\"fill: #4c72b0; stroke: #333333\"/>\n     <use xlink:href=\"#ma1b20321a3\" x=\"94.538014\" y=\"172.441721\" style=\"fill: #4c72b0; stroke: #333333\"/>\n     <use xlink:href=\"#ma1b20321a3\" x=\"108.266553\" y=\"201.060041\" style=\"fill: #4c72b0; stroke: #333333\"/>\n     <use xlink:href=\"#ma1b20321a3\" x=\"97.925498\" y=\"185.742199\" style=\"fill: #4c72b0; stroke: #333333\"/>\n     <use xlink:href=\"#ma1b20321a3\" x=\"93.041157\" y=\"196.289064\" style=\"fill: #4c72b0; stroke: #333333\"/>\n     <use xlink:href=\"#ma1b20321a3\" x=\"237.99733\" y=\"36.035073\" style=\"fill: #4c72b0; stroke: #333333\"/>\n     <use xlink:href=\"#ma1b20321a3\" x=\"95.680092\" y=\"195.777641\" style=\"fill: #4c72b0; stroke: #333333\"/>\n     <use xlink:href=\"#ma1b20321a3\" x=\"229.199178\" y=\"77.796414\" style=\"fill: #4c72b0; stroke: #333333\"/>\n     <use xlink:href=\"#ma1b20321a3\" x=\"83.936545\" y=\"226.570791\" style=\"fill: #4c72b0; stroke: #333333\"/>\n     <use xlink:href=\"#ma1b20321a3\" x=\"219.401857\" y=\"68.681748\" style=\"fill: #4c72b0; stroke: #333333\"/>\n     <use xlink:href=\"#ma1b20321a3\" x=\"109.943555\" y=\"217.372628\" style=\"fill: #4c72b0; stroke: #333333\"/>\n     <use xlink:href=\"#ma1b20321a3\" x=\"120.082335\" y=\"201.014048\" style=\"fill: #4c72b0; stroke: #333333\"/>\n     <use xlink:href=\"#ma1b20321a3\" x=\"96.360429\" y=\"203.712413\" style=\"fill: #4c72b0; stroke: #333333\"/>\n     <use xlink:href=\"#ma1b20321a3\" x=\"138.929164\" y=\"205.069528\" style=\"fill: #4c72b0; stroke: #333333\"/>\n     <use xlink:href=\"#ma1b20321a3\" x=\"89.895625\" y=\"225.692284\" style=\"fill: #4c72b0; stroke: #333333\"/>\n     <use xlink:href=\"#ma1b20321a3\" x=\"92.119104\" y=\"222.072759\" style=\"fill: #4c72b0; stroke: #333333\"/>\n     <use xlink:href=\"#ma1b20321a3\" x=\"79.409879\" y=\"192.46346\" style=\"fill: #4c72b0; stroke: #333333\"/>\n     <use xlink:href=\"#ma1b20321a3\" x=\"241.900114\" y=\"70.646715\" style=\"fill: #4c72b0; stroke: #333333\"/>\n     <use xlink:href=\"#ma1b20321a3\" x=\"101.483691\" y=\"190.801225\" style=\"fill: #4c72b0; stroke: #333333\"/>\n     <use xlink:href=\"#ma1b20321a3\" x=\"215.301296\" y=\"47.476211\" style=\"fill: #4c72b0; stroke: #333333\"/>\n     <use xlink:href=\"#ma1b20321a3\" x=\"106.757097\" y=\"204.798249\" style=\"fill: #4c72b0; stroke: #333333\"/>\n     <use xlink:href=\"#ma1b20321a3\" x=\"89.908503\" y=\"233.998125\" style=\"fill: #4c72b0; stroke: #333333\"/>\n     <use xlink:href=\"#ma1b20321a3\" x=\"93.566585\" y=\"232.534035\" style=\"fill: #4c72b0; stroke: #333333\"/>\n     <use xlink:href=\"#ma1b20321a3\" x=\"226.114781\" y=\"65.740696\" style=\"fill: #4c72b0; stroke: #333333\"/>\n     <use xlink:href=\"#ma1b20321a3\" x=\"75.50841\" y=\"205.226255\" style=\"fill: #4c72b0; stroke: #333333\"/>\n     <use xlink:href=\"#ma1b20321a3\" x=\"225.709526\" y=\"56.749809\" style=\"fill: #4c72b0; stroke: #333333\"/>\n     <use xlink:href=\"#ma1b20321a3\" x=\"226.682571\" y=\"46.50364\" style=\"fill: #4c72b0; stroke: #333333\"/>\n     <use xlink:href=\"#ma1b20321a3\" x=\"100.864494\" y=\"206.320876\" style=\"fill: #4c72b0; stroke: #333333\"/>\n     <use xlink:href=\"#ma1b20321a3\" x=\"106.935819\" y=\"185.302496\" style=\"fill: #4c72b0; stroke: #333333\"/>\n     <use xlink:href=\"#ma1b20321a3\" x=\"87.80632\" y=\"198.798312\" style=\"fill: #4c72b0; stroke: #333333\"/>\n     <use xlink:href=\"#ma1b20321a3\" x=\"226.844938\" y=\"54.536189\" style=\"fill: #4c72b0; stroke: #333333\"/>\n     <use xlink:href=\"#ma1b20321a3\" x=\"241.460843\" y=\"62.476129\" style=\"fill: #4c72b0; stroke: #333333\"/>\n     <use xlink:href=\"#ma1b20321a3\" x=\"242.629984\" y=\"32.398125\" style=\"fill: #4c72b0; stroke: #333333\"/>\n     <use xlink:href=\"#ma1b20321a3\" x=\"111.482046\" y=\"202.021292\" style=\"fill: #4c72b0; stroke: #333333\"/>\n     <use xlink:href=\"#ma1b20321a3\" x=\"242.83071\" y=\"69.39408\" style=\"fill: #4c72b0; stroke: #333333\"/>\n     <use xlink:href=\"#ma1b20321a3\" x=\"220.783251\" y=\"47.52603\" style=\"fill: #4c72b0; stroke: #333333\"/>\n     <use xlink:href=\"#ma1b20321a3\" x=\"239.358285\" y=\"111.447423\" style=\"fill: #4c72b0; stroke: #333333\"/>\n     <use xlink:href=\"#ma1b20321a3\" x=\"89.753192\" y=\"204.380871\" style=\"fill: #4c72b0; stroke: #333333\"/>\n     <use xlink:href=\"#ma1b20321a3\" x=\"95.178447\" y=\"203.021649\" style=\"fill: #4c72b0; stroke: #333333\"/>\n     <use xlink:href=\"#ma1b20321a3\" x=\"120.304188\" y=\"203.395607\" style=\"fill: #4c72b0; stroke: #333333\"/>\n     <use xlink:href=\"#ma1b20321a3\" x=\"240.423714\" y=\"49.050599\" style=\"fill: #4c72b0; stroke: #333333\"/>\n     <use xlink:href=\"#ma1b20321a3\" x=\"235.046363\" y=\"45.881872\" style=\"fill: #4c72b0; stroke: #333333\"/>\n     <use xlink:href=\"#ma1b20321a3\" x=\"104.861665\" y=\"210.998303\" style=\"fill: #4c72b0; stroke: #333333\"/>\n     <use xlink:href=\"#ma1b20321a3\" x=\"248.814864\" y=\"55.632523\" style=\"fill: #4c72b0; stroke: #333333\"/>\n     <use xlink:href=\"#ma1b20321a3\" x=\"223.45765\" y=\"75.168992\" style=\"fill: #4c72b0; stroke: #333333\"/>\n     <use xlink:href=\"#ma1b20321a3\" x=\"91.912502\" y=\"188.793108\" style=\"fill: #4c72b0; stroke: #333333\"/>\n     <use xlink:href=\"#ma1b20321a3\" x=\"109.259131\" y=\"223.601796\" style=\"fill: #4c72b0; stroke: #333333\"/>\n     <use xlink:href=\"#ma1b20321a3\" x=\"95.671611\" y=\"207.071561\" style=\"fill: #4c72b0; stroke: #333333\"/>\n     <use xlink:href=\"#ma1b20321a3\" x=\"75.362363\" y=\"193.849449\" style=\"fill: #4c72b0; stroke: #333333\"/>\n    </g>\n   </g>\n   <g id=\"PathCollection_2\">\n    <defs>\n     <path id=\"m8aadb09063\" d=\"M 0 3 \nC 0.795609 3 1.55874 2.683901 2.12132 2.12132 \nC 2.683901 1.55874 3 0.795609 3 0 \nC 3 -0.795609 2.683901 -1.55874 2.12132 -2.12132 \nC 1.55874 -2.683901 0.795609 -3 0 -3 \nC -0.795609 -3 -1.55874 -2.683901 -2.12132 -2.12132 \nC -2.683901 -1.55874 -3 -0.795609 -3 0 \nC -3 0.795609 -2.683901 1.55874 -2.12132 2.12132 \nC -1.55874 2.683901 -0.795609 3 0 3 \nz\n\" style=\"stroke: #333333\"/>\n    </defs>\n    <g clip-path=\"url(#p093dd8ca70)\">\n     <use xlink:href=\"#m8aadb09063\" x=\"253.313004\" y=\"194.834993\" style=\"fill: #dd8452; stroke: #333333\"/>\n     <use xlink:href=\"#m8aadb09063\" x=\"113.837893\" y=\"61.565899\" style=\"fill: #dd8452; stroke: #333333\"/>\n     <use xlink:href=\"#m8aadb09063\" x=\"242.428906\" y=\"208.629998\" style=\"fill: #dd8452; stroke: #333333\"/>\n     <use xlink:href=\"#m8aadb09063\" x=\"96.301632\" y=\"68.135844\" style=\"fill: #dd8452; stroke: #333333\"/>\n     <use xlink:href=\"#m8aadb09063\" x=\"92.338337\" y=\"64.614244\" style=\"fill: #dd8452; stroke: #333333\"/>\n     <use xlink:href=\"#m8aadb09063\" x=\"238.024729\" y=\"182.801554\" style=\"fill: #dd8452; stroke: #333333\"/>\n     <use xlink:href=\"#m8aadb09063\" x=\"240.7561\" y=\"194.109963\" style=\"fill: #dd8452; stroke: #333333\"/>\n     <use xlink:href=\"#m8aadb09063\" x=\"95.128777\" y=\"63.823828\" style=\"fill: #dd8452; stroke: #333333\"/>\n     <use xlink:href=\"#m8aadb09063\" x=\"241.489462\" y=\"197.882818\" style=\"fill: #dd8452; stroke: #333333\"/>\n     <use xlink:href=\"#m8aadb09063\" x=\"214.99013\" y=\"199.973383\" style=\"fill: #dd8452; stroke: #333333\"/>\n     <use xlink:href=\"#m8aadb09063\" x=\"105.878765\" y=\"91.511317\" style=\"fill: #dd8452; stroke: #333333\"/>\n     <use xlink:href=\"#m8aadb09063\" x=\"251.59004\" y=\"206.130308\" style=\"fill: #dd8452; stroke: #333333\"/>\n     <use xlink:href=\"#m8aadb09063\" x=\"253.976087\" y=\"222.543777\" style=\"fill: #dd8452; stroke: #333333\"/>\n     <use xlink:href=\"#m8aadb09063\" x=\"245.279303\" y=\"201.663288\" style=\"fill: #dd8452; stroke: #333333\"/>\n     <use xlink:href=\"#m8aadb09063\" x=\"247.493242\" y=\"188.617895\" style=\"fill: #dd8452; stroke: #333333\"/>\n     <use xlink:href=\"#m8aadb09063\" x=\"249.362789\" y=\"197.252238\" style=\"fill: #dd8452; stroke: #333333\"/>\n     <use xlink:href=\"#m8aadb09063\" x=\"104.457142\" y=\"92.268451\" style=\"fill: #dd8452; stroke: #333333\"/>\n     <use xlink:href=\"#m8aadb09063\" x=\"125.976158\" y=\"65.96519\" style=\"fill: #dd8452; stroke: #333333\"/>\n     <use xlink:href=\"#m8aadb09063\" x=\"105.450473\" y=\"40.219061\" style=\"fill: #dd8452; stroke: #333333\"/>\n     <use xlink:href=\"#m8aadb09063\" x=\"228.672291\" y=\"199.309335\" style=\"fill: #dd8452; stroke: #333333\"/>\n     <use xlink:href=\"#m8aadb09063\" x=\"100.047779\" y=\"45.648187\" style=\"fill: #dd8452; stroke: #333333\"/>\n     <use xlink:href=\"#m8aadb09063\" x=\"241.648863\" y=\"220.915989\" style=\"fill: #dd8452; stroke: #333333\"/>\n     <use xlink:href=\"#m8aadb09063\" x=\"115.105243\" y=\"52.091156\" style=\"fill: #dd8452; stroke: #333333\"/>\n     <use xlink:href=\"#m8aadb09063\" x=\"272.079389\" y=\"212.691156\" style=\"fill: #dd8452; stroke: #333333\"/>\n     <use xlink:href=\"#m8aadb09063\" x=\"239.202869\" y=\"220.79261\" style=\"fill: #dd8452; stroke: #333333\"/>\n     <use xlink:href=\"#m8aadb09063\" x=\"92.448085\" y=\"55.844754\" style=\"fill: #dd8452; stroke: #333333\"/>\n     <use xlink:href=\"#m8aadb09063\" x=\"236.75108\" y=\"209.326591\" style=\"fill: #dd8452; stroke: #333333\"/>\n     <use xlink:href=\"#m8aadb09063\" x=\"250.403825\" y=\"186.019982\" style=\"fill: #dd8452; stroke: #333333\"/>\n     <use xlink:href=\"#m8aadb09063\" x=\"110.487182\" y=\"112.180683\" style=\"fill: #dd8452; stroke: #333333\"/>\n     <use xlink:href=\"#m8aadb09063\" x=\"84.692425\" y=\"65.611749\" style=\"fill: #dd8452; stroke: #333333\"/>\n     <use xlink:href=\"#m8aadb09063\" x=\"251.192334\" y=\"199.946361\" style=\"fill: #dd8452; stroke: #333333\"/>\n     <use xlink:href=\"#m8aadb09063\" x=\"94.506959\" y=\"61.532742\" style=\"fill: #dd8452; stroke: #333333\"/>\n     <use xlink:href=\"#m8aadb09063\" x=\"104.158568\" y=\"52.250529\" style=\"fill: #dd8452; stroke: #333333\"/>\n     <use xlink:href=\"#m8aadb09063\" x=\"103.039353\" y=\"48.6537\" style=\"fill: #dd8452; stroke: #333333\"/>\n     <use xlink:href=\"#m8aadb09063\" x=\"115.701958\" y=\"82.316179\" style=\"fill: #dd8452; stroke: #333333\"/>\n     <use xlink:href=\"#m8aadb09063\" x=\"99.665153\" y=\"86.765155\" style=\"fill: #dd8452; stroke: #333333\"/>\n     <use xlink:href=\"#m8aadb09063\" x=\"100.7075\" y=\"65.569602\" style=\"fill: #dd8452; stroke: #333333\"/>\n     <use xlink:href=\"#m8aadb09063\" x=\"249.830423\" y=\"194.091515\" style=\"fill: #dd8452; stroke: #333333\"/>\n     <use xlink:href=\"#m8aadb09063\" x=\"81.373159\" y=\"58.988104\" style=\"fill: #dd8452; stroke: #333333\"/>\n     <use xlink:href=\"#m8aadb09063\" x=\"237.952434\" y=\"215.532892\" style=\"fill: #dd8452; stroke: #333333\"/>\n     <use xlink:href=\"#m8aadb09063\" x=\"212.670328\" y=\"195.114281\" style=\"fill: #dd8452; stroke: #333333\"/>\n     <use xlink:href=\"#m8aadb09063\" x=\"97.883522\" y=\"82.379905\" style=\"fill: #dd8452; stroke: #333333\"/>\n     <use xlink:href=\"#m8aadb09063\" x=\"124.184873\" y=\"71.098925\" style=\"fill: #dd8452; stroke: #333333\"/>\n     <use xlink:href=\"#m8aadb09063\" x=\"117.02822\" y=\"50.703388\" style=\"fill: #dd8452; stroke: #333333\"/>\n     <use xlink:href=\"#m8aadb09063\" x=\"233.487783\" y=\"191.765721\" style=\"fill: #dd8452; stroke: #333333\"/>\n     <use xlink:href=\"#m8aadb09063\" x=\"252.465967\" y=\"203.002409\" style=\"fill: #dd8452; stroke: #333333\"/>\n     <use xlink:href=\"#m8aadb09063\" x=\"104.224994\" y=\"49.815279\" style=\"fill: #dd8452; stroke: #333333\"/>\n     <use xlink:href=\"#m8aadb09063\" x=\"96.066333\" y=\"85.546445\" style=\"fill: #dd8452; stroke: #333333\"/>\n     <use xlink:href=\"#m8aadb09063\" x=\"126.92934\" y=\"75.689103\" style=\"fill: #dd8452; stroke: #333333\"/>\n     <use xlink:href=\"#m8aadb09063\" x=\"255.810543\" y=\"191.171258\" style=\"fill: #dd8452; stroke: #333333\"/>\n     <use xlink:href=\"#m8aadb09063\" x=\"119.122977\" y=\"69.628032\" style=\"fill: #dd8452; stroke: #333333\"/>\n     <use xlink:href=\"#m8aadb09063\" x=\"241.673495\" y=\"199.855808\" style=\"fill: #dd8452; stroke: #333333\"/>\n     <use xlink:href=\"#m8aadb09063\" x=\"80.840586\" y=\"42.344028\" style=\"fill: #dd8452; stroke: #333333\"/>\n     <use xlink:href=\"#m8aadb09063\" x=\"207.916967\" y=\"176.715113\" style=\"fill: #dd8452; stroke: #333333\"/>\n     <use xlink:href=\"#m8aadb09063\" x=\"115.334375\" y=\"78.166726\" style=\"fill: #dd8452; stroke: #333333\"/>\n     <use xlink:href=\"#m8aadb09063\" x=\"114.317313\" y=\"64.41405\" style=\"fill: #dd8452; stroke: #333333\"/>\n     <use xlink:href=\"#m8aadb09063\" x=\"93.917617\" y=\"77.677543\" style=\"fill: #dd8452; stroke: #333333\"/>\n     <use xlink:href=\"#m8aadb09063\" x=\"93.638124\" y=\"45.531453\" style=\"fill: #dd8452; stroke: #333333\"/>\n     <use xlink:href=\"#m8aadb09063\" x=\"231.4515\" y=\"185.79624\" style=\"fill: #dd8452; stroke: #333333\"/>\n     <use xlink:href=\"#m8aadb09063\" x=\"215.530673\" y=\"203.979795\" style=\"fill: #dd8452; stroke: #333333\"/>\n     <use xlink:href=\"#m8aadb09063\" x=\"89.422159\" y=\"57.367687\" style=\"fill: #dd8452; stroke: #333333\"/>\n     <use xlink:href=\"#m8aadb09063\" x=\"89.750673\" y=\"84.53398\" style=\"fill: #dd8452; stroke: #333333\"/>\n     <use xlink:href=\"#m8aadb09063\" x=\"98.460345\" y=\"62.636488\" style=\"fill: #dd8452; stroke: #333333\"/>\n     <use xlink:href=\"#m8aadb09063\" x=\"82.659158\" y=\"44.599586\" style=\"fill: #dd8452; stroke: #333333\"/>\n     <use xlink:href=\"#m8aadb09063\" x=\"232.353319\" y=\"184.164537\" style=\"fill: #dd8452; stroke: #333333\"/>\n     <use xlink:href=\"#m8aadb09063\" x=\"122.088576\" y=\"70.973894\" style=\"fill: #dd8452; stroke: #333333\"/>\n     <use xlink:href=\"#m8aadb09063\" x=\"106.01522\" y=\"49.113039\" style=\"fill: #dd8452; stroke: #333333\"/>\n     <use xlink:href=\"#m8aadb09063\" x=\"105.466215\" y=\"58.186844\" style=\"fill: #dd8452; stroke: #333333\"/>\n     <use xlink:href=\"#m8aadb09063\" x=\"243.198395\" y=\"203.386906\" style=\"fill: #dd8452; stroke: #333333\"/>\n     <use xlink:href=\"#m8aadb09063\" x=\"107.340842\" y=\"65.971993\" style=\"fill: #dd8452; stroke: #333333\"/>\n     <use xlink:href=\"#m8aadb09063\" x=\"97.468714\" y=\"56.354346\" style=\"fill: #dd8452; stroke: #333333\"/>\n     <use xlink:href=\"#m8aadb09063\" x=\"251.730198\" y=\"205.648477\" style=\"fill: #dd8452; stroke: #333333\"/>\n     <use xlink:href=\"#m8aadb09063\" x=\"96.508241\" y=\"43.493369\" style=\"fill: #dd8452; stroke: #333333\"/>\n     <use xlink:href=\"#m8aadb09063\" x=\"241.456666\" y=\"203.404199\" style=\"fill: #dd8452; stroke: #333333\"/>\n     <use xlink:href=\"#m8aadb09063\" x=\"83.809431\" y=\"50.570009\" style=\"fill: #dd8452; stroke: #333333\"/>\n     <use xlink:href=\"#m8aadb09063\" x=\"107.762782\" y=\"51.682637\" style=\"fill: #dd8452; stroke: #333333\"/>\n     <use xlink:href=\"#m8aadb09063\" x=\"249.90145\" y=\"215.862692\" style=\"fill: #dd8452; stroke: #333333\"/>\n     <use xlink:href=\"#m8aadb09063\" x=\"108.401896\" y=\"76.221066\" style=\"fill: #dd8452; stroke: #333333\"/>\n     <use xlink:href=\"#m8aadb09063\" x=\"240.166835\" y=\"188.134792\" style=\"fill: #dd8452; stroke: #333333\"/>\n     <use xlink:href=\"#m8aadb09063\" x=\"100.896525\" y=\"88.009009\" style=\"fill: #dd8452; stroke: #333333\"/>\n     <use xlink:href=\"#m8aadb09063\" x=\"90.860629\" y=\"67.144632\" style=\"fill: #dd8452; stroke: #333333\"/>\n     <use xlink:href=\"#m8aadb09063\" x=\"112.782796\" y=\"59.443102\" style=\"fill: #dd8452; stroke: #333333\"/>\n     <use xlink:href=\"#m8aadb09063\" x=\"239.25368\" y=\"210.195507\" style=\"fill: #dd8452; stroke: #333333\"/>\n     <use xlink:href=\"#m8aadb09063\" x=\"111.589421\" y=\"76.368979\" style=\"fill: #dd8452; stroke: #333333\"/>\n     <use xlink:href=\"#m8aadb09063\" x=\"100.706473\" y=\"72.911448\" style=\"fill: #dd8452; stroke: #333333\"/>\n     <use xlink:href=\"#m8aadb09063\" x=\"99.22673\" y=\"76.216267\" style=\"fill: #dd8452; stroke: #333333\"/>\n     <use xlink:href=\"#m8aadb09063\" x=\"246.309306\" y=\"198.24289\" style=\"fill: #dd8452; stroke: #333333\"/>\n     <use xlink:href=\"#m8aadb09063\" x=\"111.82935\" y=\"67.952312\" style=\"fill: #dd8452; stroke: #333333\"/>\n     <use xlink:href=\"#m8aadb09063\" x=\"242.800864\" y=\"198.214571\" style=\"fill: #dd8452; stroke: #333333\"/>\n     <use xlink:href=\"#m8aadb09063\" x=\"102.007745\" y=\"95.59282\" style=\"fill: #dd8452; stroke: #333333\"/>\n     <use xlink:href=\"#m8aadb09063\" x=\"106.088159\" y=\"55.938064\" style=\"fill: #dd8452; stroke: #333333\"/>\n     <use xlink:href=\"#m8aadb09063\" x=\"124.08669\" y=\"71.939695\" style=\"fill: #dd8452; stroke: #333333\"/>\n     <use xlink:href=\"#m8aadb09063\" x=\"237.657625\" y=\"185.670372\" style=\"fill: #dd8452; stroke: #333333\"/>\n     <use xlink:href=\"#m8aadb09063\" x=\"110.699514\" y=\"55.247878\" style=\"fill: #dd8452; stroke: #333333\"/>\n    </g>\n   </g>\n   <g id=\"patch_3\">\n    <path d=\"M 59.024844 244.078125 \nL 59.024844 22.318125 \n\" style=\"fill: none; stroke: #ffffff; stroke-width: 1.25; stroke-linejoin: miter; stroke-linecap: square\"/>\n   </g>\n   <g id=\"patch_4\">\n    <path d=\"M 282.224844 244.078125 \nL 282.224844 22.318125 \n\" style=\"fill: none; stroke: #ffffff; stroke-width: 1.25; stroke-linejoin: miter; stroke-linecap: square\"/>\n   </g>\n   <g id=\"patch_5\">\n    <path d=\"M 59.024844 244.078125 \nL 282.224844 244.078125 \n\" style=\"fill: none; stroke: #ffffff; stroke-width: 1.25; stroke-linejoin: miter; stroke-linecap: square\"/>\n   </g>\n   <g id=\"patch_6\">\n    <path d=\"M 59.024844 22.318125 \nL 282.224844 22.318125 \n\" style=\"fill: none; stroke: #ffffff; stroke-width: 1.25; stroke-linejoin: miter; stroke-linecap: square\"/>\n   </g>\n   <g id=\"text_14\">\n    <!-- Dataset samples -->\n    <g style=\"fill: #262626\" transform=\"translate(120.282031 16.318125) scale(0.12 -0.12)\">\n     <defs>\n      <path id=\"DejaVuSans-44\" d=\"M 1259 4147 \nL 1259 519 \nL 2022 519 \nQ 2988 519 3436 956 \nQ 3884 1394 3884 2338 \nQ 3884 3275 3436 3711 \nQ 2988 4147 2022 4147 \nL 1259 4147 \nz\nM 628 4666 \nL 1925 4666 \nQ 3281 4666 3915 4102 \nQ 4550 3538 4550 2338 \nQ 4550 1131 3912 565 \nQ 3275 0 1925 0 \nL 628 0 \nL 628 4666 \nz\n\" transform=\"scale(0.015625)\"/>\n      <path id=\"DejaVuSans-61\" d=\"M 2194 1759 \nQ 1497 1759 1228 1600 \nQ 959 1441 959 1056 \nQ 959 750 1161 570 \nQ 1363 391 1709 391 \nQ 2188 391 2477 730 \nQ 2766 1069 2766 1631 \nL 2766 1759 \nL 2194 1759 \nz\nM 3341 1997 \nL 3341 0 \nL 2766 0 \nL 2766 531 \nQ 2569 213 2275 61 \nQ 1981 -91 1556 -91 \nQ 1019 -91 701 211 \nQ 384 513 384 1019 \nQ 384 1609 779 1909 \nQ 1175 2209 1959 2209 \nL 2766 2209 \nL 2766 2266 \nQ 2766 2663 2505 2880 \nQ 2244 3097 1772 3097 \nQ 1472 3097 1187 3025 \nQ 903 2953 641 2809 \nL 641 3341 \nQ 956 3463 1253 3523 \nQ 1550 3584 1831 3584 \nQ 2591 3584 2966 3190 \nQ 3341 2797 3341 1997 \nz\n\" transform=\"scale(0.015625)\"/>\n      <path id=\"DejaVuSans-74\" d=\"M 1172 4494 \nL 1172 3500 \nL 2356 3500 \nL 2356 3053 \nL 1172 3053 \nL 1172 1153 \nQ 1172 725 1289 603 \nQ 1406 481 1766 481 \nL 2356 481 \nL 2356 0 \nL 1766 0 \nQ 1100 0 847 248 \nQ 594 497 594 1153 \nL 594 3053 \nL 172 3053 \nL 172 3500 \nL 594 3500 \nL 594 4494 \nL 1172 4494 \nz\n\" transform=\"scale(0.015625)\"/>\n      <path id=\"DejaVuSans-73\" d=\"M 2834 3397 \nL 2834 2853 \nQ 2591 2978 2328 3040 \nQ 2066 3103 1784 3103 \nQ 1356 3103 1142 2972 \nQ 928 2841 928 2578 \nQ 928 2378 1081 2264 \nQ 1234 2150 1697 2047 \nL 1894 2003 \nQ 2506 1872 2764 1633 \nQ 3022 1394 3022 966 \nQ 3022 478 2636 193 \nQ 2250 -91 1575 -91 \nQ 1294 -91 989 -36 \nQ 684 19 347 128 \nL 347 722 \nQ 666 556 975 473 \nQ 1284 391 1588 391 \nQ 1994 391 2212 530 \nQ 2431 669 2431 922 \nQ 2431 1156 2273 1281 \nQ 2116 1406 1581 1522 \nL 1381 1569 \nQ 847 1681 609 1914 \nQ 372 2147 372 2553 \nQ 372 3047 722 3315 \nQ 1072 3584 1716 3584 \nQ 2034 3584 2315 3537 \nQ 2597 3491 2834 3397 \nz\n\" transform=\"scale(0.015625)\"/>\n      <path id=\"DejaVuSans-65\" d=\"M 3597 1894 \nL 3597 1613 \nL 953 1613 \nQ 991 1019 1311 708 \nQ 1631 397 2203 397 \nQ 2534 397 2845 478 \nQ 3156 559 3463 722 \nL 3463 178 \nQ 3153 47 2828 -22 \nQ 2503 -91 2169 -91 \nQ 1331 -91 842 396 \nQ 353 884 353 1716 \nQ 353 2575 817 3079 \nQ 1281 3584 2069 3584 \nQ 2775 3584 3186 3129 \nQ 3597 2675 3597 1894 \nz\nM 3022 2063 \nQ 3016 2534 2758 2815 \nQ 2500 3097 2075 3097 \nQ 1594 3097 1305 2825 \nQ 1016 2553 972 2059 \nL 3022 2063 \nz\n\" transform=\"scale(0.015625)\"/>\n      <path id=\"DejaVuSans-20\" transform=\"scale(0.015625)\"/>\n      <path id=\"DejaVuSans-6d\" d=\"M 3328 2828 \nQ 3544 3216 3844 3400 \nQ 4144 3584 4550 3584 \nQ 5097 3584 5394 3201 \nQ 5691 2819 5691 2113 \nL 5691 0 \nL 5113 0 \nL 5113 2094 \nQ 5113 2597 4934 2840 \nQ 4756 3084 4391 3084 \nQ 3944 3084 3684 2787 \nQ 3425 2491 3425 1978 \nL 3425 0 \nL 2847 0 \nL 2847 2094 \nQ 2847 2600 2669 2842 \nQ 2491 3084 2119 3084 \nQ 1678 3084 1418 2786 \nQ 1159 2488 1159 1978 \nL 1159 0 \nL 581 0 \nL 581 3500 \nL 1159 3500 \nL 1159 2956 \nQ 1356 3278 1631 3431 \nQ 1906 3584 2284 3584 \nQ 2666 3584 2933 3390 \nQ 3200 3197 3328 2828 \nz\n\" transform=\"scale(0.015625)\"/>\n      <path id=\"DejaVuSans-70\" d=\"M 1159 525 \nL 1159 -1331 \nL 581 -1331 \nL 581 3500 \nL 1159 3500 \nL 1159 2969 \nQ 1341 3281 1617 3432 \nQ 1894 3584 2278 3584 \nQ 2916 3584 3314 3078 \nQ 3713 2572 3713 1747 \nQ 3713 922 3314 415 \nQ 2916 -91 2278 -91 \nQ 1894 -91 1617 61 \nQ 1341 213 1159 525 \nz\nM 3116 1747 \nQ 3116 2381 2855 2742 \nQ 2594 3103 2138 3103 \nQ 1681 3103 1420 2742 \nQ 1159 2381 1159 1747 \nQ 1159 1113 1420 752 \nQ 1681 391 2138 391 \nQ 2594 391 2855 752 \nQ 3116 1113 3116 1747 \nz\n\" transform=\"scale(0.015625)\"/>\n      <path id=\"DejaVuSans-6c\" d=\"M 603 4863 \nL 1178 4863 \nL 1178 0 \nL 603 0 \nL 603 4863 \nz\n\" transform=\"scale(0.015625)\"/>\n     </defs>\n     <use xlink:href=\"#DejaVuSans-44\"/>\n     <use xlink:href=\"#DejaVuSans-61\" x=\"77.001953\"/>\n     <use xlink:href=\"#DejaVuSans-74\" x=\"138.28125\"/>\n     <use xlink:href=\"#DejaVuSans-61\" x=\"177.490234\"/>\n     <use xlink:href=\"#DejaVuSans-73\" x=\"238.769531\"/>\n     <use xlink:href=\"#DejaVuSans-65\" x=\"290.869141\"/>\n     <use xlink:href=\"#DejaVuSans-74\" x=\"352.392578\"/>\n     <use xlink:href=\"#DejaVuSans-20\" x=\"391.601562\"/>\n     <use xlink:href=\"#DejaVuSans-73\" x=\"423.388672\"/>\n     <use xlink:href=\"#DejaVuSans-61\" x=\"475.488281\"/>\n     <use xlink:href=\"#DejaVuSans-6d\" x=\"536.767578\"/>\n     <use xlink:href=\"#DejaVuSans-70\" x=\"634.179688\"/>\n     <use xlink:href=\"#DejaVuSans-6c\" x=\"697.65625\"/>\n     <use xlink:href=\"#DejaVuSans-65\" x=\"725.439453\"/>\n     <use xlink:href=\"#DejaVuSans-73\" x=\"786.962891\"/>\n    </g>\n   </g>\n   <g id=\"legend_1\">\n    <g id=\"patch_7\">\n     <path d=\"M 199.891562 150.994063 \nL 274.524844 150.994063 \nQ 276.724844 150.994063 276.724844 148.794063 \nL 276.724844 117.602188 \nQ 276.724844 115.402188 274.524844 115.402188 \nL 199.891562 115.402188 \nQ 197.691562 115.402188 197.691562 117.602188 \nL 197.691562 148.794063 \nQ 197.691562 150.994063 199.891562 150.994063 \nz\n\" style=\"fill: #eaeaf2; opacity: 0.8; stroke: #cccccc; stroke-linejoin: miter\"/>\n    </g>\n    <g id=\"PathCollection_3\">\n     <g>\n      <use xlink:href=\"#ma1b20321a3\" x=\"213.091562\" y=\"125.272969\" style=\"fill: #4c72b0; stroke: #333333\"/>\n     </g>\n    </g>\n    <g id=\"text_15\">\n     <!-- Class 0 -->\n     <g style=\"fill: #262626\" transform=\"translate(232.891562 128.160469) scale(0.11 -0.11)\">\n      <defs>\n       <path id=\"DejaVuSans-43\" d=\"M 4122 4306 \nL 4122 3641 \nQ 3803 3938 3442 4084 \nQ 3081 4231 2675 4231 \nQ 1875 4231 1450 3742 \nQ 1025 3253 1025 2328 \nQ 1025 1406 1450 917 \nQ 1875 428 2675 428 \nQ 3081 428 3442 575 \nQ 3803 722 4122 1019 \nL 4122 359 \nQ 3791 134 3420 21 \nQ 3050 -91 2638 -91 \nQ 1578 -91 968 557 \nQ 359 1206 359 2328 \nQ 359 3453 968 4101 \nQ 1578 4750 2638 4750 \nQ 3056 4750 3426 4639 \nQ 3797 4528 4122 4306 \nz\n\" transform=\"scale(0.015625)\"/>\n      </defs>\n      <use xlink:href=\"#DejaVuSans-43\"/>\n      <use xlink:href=\"#DejaVuSans-6c\" x=\"69.824219\"/>\n      <use xlink:href=\"#DejaVuSans-61\" x=\"97.607422\"/>\n      <use xlink:href=\"#DejaVuSans-73\" x=\"158.886719\"/>\n      <use xlink:href=\"#DejaVuSans-73\" x=\"210.986328\"/>\n      <use xlink:href=\"#DejaVuSans-20\" x=\"263.085938\"/>\n      <use xlink:href=\"#DejaVuSans-30\" x=\"294.873047\"/>\n     </g>\n    </g>\n    <g id=\"PathCollection_4\">\n     <g>\n      <use xlink:href=\"#m8aadb09063\" x=\"213.091562\" y=\"141.418906\" style=\"fill: #dd8452; stroke: #333333\"/>\n     </g>\n    </g>\n    <g id=\"text_16\">\n     <!-- Class 1 -->\n     <g style=\"fill: #262626\" transform=\"translate(232.891562 144.306406) scale(0.11 -0.11)\">\n      <use xlink:href=\"#DejaVuSans-43\"/>\n      <use xlink:href=\"#DejaVuSans-6c\" x=\"69.824219\"/>\n      <use xlink:href=\"#DejaVuSans-61\" x=\"97.607422\"/>\n      <use xlink:href=\"#DejaVuSans-73\" x=\"158.886719\"/>\n      <use xlink:href=\"#DejaVuSans-73\" x=\"210.986328\"/>\n      <use xlink:href=\"#DejaVuSans-20\" x=\"263.085938\"/>\n      <use xlink:href=\"#DejaVuSans-31\" x=\"294.873047\"/>\n     </g>\n    </g>\n   </g>\n  </g>\n </g>\n <defs>\n  <clipPath id=\"p093dd8ca70\">\n   <rect x=\"59.024844\" y=\"22.318125\" width=\"223.2\" height=\"221.76\"/>\n  </clipPath>\n </defs>\n</svg>\n",
            "application/pdf": "[encoded data removed]"
          },
          "metadata": {}
        }
      ],
      "source": [
        "visualize_samples(dataset.data, dataset.label)\n",
        "plt.show()"
      ]
    },
    {
      "cell_type": "markdown",
      "metadata": {
        "id": "QCVncAO9uUMw"
      },
      "source": [
        "#### The data loader class\n",
        "\n",
        "The class `torch.utils.data.DataLoader` represents a Python iterable over a dataset with support for automatic batching, multi-process data loading and many more features. The data loader communicates with the dataset using the function `__getitem__`, and stacks its outputs as tensors over the first dimension to form a batch.\n",
        "In contrast to the dataset class, we usually don't have to define our own data loader class, but can just create an object of it with the dataset as input. Additionally, we can configure our data loader with the following input arguments (only a selection, see full list [here](https://pytorch.org/docs/stable/data.html#torch.utils.data.DataLoader)):\n",
        "\n",
        "* `batch_size`: Number of samples to stack per batch\n",
        "* `shuffle`: If True, the data is returned in a random order. This is important during training for introducing stochasticity.\n",
        "* `num_workers`: Number of subprocesses to use for data loading. The default, 0, means that the data will be loaded in the main process which can slow down training for datasets where loading a data point takes a considerable amount of time (e.g. large images). More workers are recommended for those, but can cause issues on Windows computers. For tiny datasets as ours, 0 workers are usually faster.\n",
        "* `pin_memory`: If True, the data loader will copy Tensors into CUDA pinned memory before returning them. This can save some time for large data points on GPUs. Usually a good practice to use for a training set, but not necessarily for validation and test to save memory on the GPU.\n",
        "* `drop_last`: If True, the last batch is dropped in case it is smaller than the specified batch size. This occurs when the dataset size is not a multiple of the batch size. Only potentially helpful during training to keep a consistent batch size.\n",
        "\n",
        "Let's create a simple data loader below:"
      ]
    },
    {
      "cell_type": "code",
      "execution_count": null,
      "metadata": {
        "id": "8AfNnaguuUMx"
      },
      "outputs": [],
      "source": [
        "data_loader = data.DataLoader(dataset, batch_size=8, shuffle=True)"
      ]
    },
    {
      "cell_type": "code",
      "execution_count": null,
      "metadata": {
        "id": "LzKEsqObuUMx",
        "outputId": "e8debff9-c4cd-48b6-d027-d6131a28f1a2",
        "colab": {
          "base_uri": "https://localhost:8080/"
        }
      },
      "outputs": [
        {
          "output_type": "stream",
          "name": "stdout",
          "text": [
            "Data inputs torch.Size([8, 2]) \n",
            " tensor([[ 1.0682e+00,  1.0557e+00],\n",
            "        [ 1.0978e+00,  2.4653e-02],\n",
            "        [ 1.0536e+00,  1.2394e-02],\n",
            "        [ 1.0380e+00,  8.6614e-05],\n",
            "        [ 9.2942e-01,  2.9202e-02],\n",
            "        [ 9.4982e-01,  1.0992e+00],\n",
            "        [ 1.1018e+00, -1.6062e-02],\n",
            "        [-8.9957e-02,  9.9096e-01]])\n",
            "Data labels torch.Size([8]) \n",
            " tensor([0, 1, 1, 1, 1, 0, 1, 1])\n"
          ]
        }
      ],
      "source": [
        "# next(iter(...)) catches the first batch of the data loader\n",
        "# If shuffle is True, this will return a different batch every time we run this cell\n",
        "# For iterating over the whole dataset, we can simple use \"for batch in data_loader: ...\"\n",
        "data_inputs, data_labels = next(iter(data_loader))\n",
        "\n",
        "# The shape of the outputs are [batch_size, d_1,...,d_N] where d_1,...,d_N are the\n",
        "# dimensions of the data point returned from the dataset class\n",
        "print(\"Data inputs\", data_inputs.shape, \"\\n\", data_inputs)\n",
        "print(\"Data labels\", data_labels.shape, \"\\n\", data_labels)"
      ]
    },
    {
      "cell_type": "markdown",
      "metadata": {
        "id": "WLMOBZ-SuUMx"
      },
      "source": [
        "### Optimization\n",
        "\n",
        "After defining the model and the dataset, it is time to prepare the optimization of the model. During training, we will perform the following steps:\n",
        "\n",
        "1. Get a batch from the data loader\n",
        "2. Obtain the predictions from the model for the batch\n",
        "3. Calculate the loss based on the difference between predictions and labels\n",
        "4. Backpropagation: calculate the gradients for every parameter with respect to the loss\n",
        "5. Update the parameters of the model in the direction of the gradients\n",
        "\n",
        "We have seen how we can do step 1, 2 and 4 in PyTorch. Now, we will look at step 3 and 5."
      ]
    },
    {
      "cell_type": "markdown",
      "metadata": {
        "id": "Z-zyy7cguUMx"
      },
      "source": [
        "#### Loss modules\n",
        "\n",
        "We can calculate the loss for a batch by simply performing a few tensor operations as those are automatically added to the computation graph. For instance, for binary classification, we can use Binary Cross Entropy (BCE) which is defined as follows:\n",
        "\n",
        "$$\\mathcal{L}_{BCE} = -\\sum_i \\left[ y_i \\log x_i + (1 - y_i) \\log (1 - x_i) \\right]$$\n",
        "\n",
        "where $y$ are our labels, and $x$ our predictions, both in the range of $[0,1]$. However, PyTorch already provides a list of predefined loss functions which we can use (see [here](https://pytorch.org/docs/stable/nn.html#loss-functions) for a full list). For instance, for BCE, PyTorch has two modules: `nn.BCELoss()`, `nn.BCEWithLogitsLoss()`. While `nn.BCELoss` expects the inputs $x$ to be in the range $[0,1]$, i.e. the output of a sigmoid, `nn.BCEWithLogitsLoss` combines a sigmoid layer and the BCE loss in a single class."
      ]
    },
    {
      "cell_type": "code",
      "execution_count": null,
      "metadata": {
        "id": "0VYjusI7uUMx"
      },
      "outputs": [],
      "source": [
        "loss_module = nn.BCEWithLogitsLoss()"
      ]
    },
    {
      "cell_type": "markdown",
      "metadata": {
        "id": "ariYFZjEuUMx"
      },
      "source": [
        "#### Stochastic Gradient Descent\n",
        "\n",
        "For updating the parameters, PyTorch provides the package `torch.optim` that has most popular optimizers implemented. We will discuss the specific optimizers and their differences later in the course, but will for now use the simplest of them: `torch.optim.SGD`. Stochastic Gradient Descent updates parameters by multiplying the gradients with a small constant, called learning rate, and subtracting those from the parameters (hence minimizing the loss). Therefore, we slowly move towards the direction of minimizing the loss. A good default value of the learning rate for a small network as ours is 0.1."
      ]
    },
    {
      "cell_type": "code",
      "execution_count": null,
      "metadata": {
        "id": "utw51dPluUMy"
      },
      "outputs": [],
      "source": [
        "# Input to the optimizer are the parameters of the model: model.parameters()\n",
        "optimizer = torch.optim.SGD(model.parameters(), lr=0.1)"
      ]
    },
    {
      "cell_type": "markdown",
      "metadata": {
        "id": "qzKvu-o6uUMy"
      },
      "source": [
        "The optimizer provides two useful functions: `optimizer.step()`, and `optimizer.zero_grad()`. The step function updates the parameters based on the gradients as explained above. The function `optimizer.zero_grad()` sets the gradients of all parameters to zero. While this function seems less relevant at first, it is a crucial pre-step before performing backpropagation. If we call the `backward` function on the loss while the parameter gradients are non-zero from the previous batch, the new gradients would actually be added to the previous ones instead of overwriting them. This is done because a parameter might occur multiple times in a computation graph, and we need to sum the gradients in this case instead of replacing them. Hence, remember to call `optimizer.zero_grad()` before calculating the gradients of a batch."
      ]
    },
    {
      "cell_type": "markdown",
      "metadata": {
        "id": "X1XBL9isuUMy"
      },
      "source": [
        "### Training\n",
        "\n",
        "Finally, we are ready to train our model. As a first step, we create a slightly larger dataset and specify a data loader with a larger batch size."
      ]
    },
    {
      "cell_type": "code",
      "execution_count": null,
      "metadata": {
        "id": "oGxiWiVvuUMy"
      },
      "outputs": [],
      "source": [
        "train_dataset = XORDataset(size=2500)\n",
        "train_data_loader = data.DataLoader(train_dataset, batch_size=128, shuffle=True)"
      ]
    },
    {
      "cell_type": "markdown",
      "metadata": {
        "id": "H37LGq8DuUMz"
      },
      "source": [
        "Now, we can write a small training function. Remember our five steps: load a batch, obtain the predictions, calculate the loss, backpropagate, and update. Additionally, we have to push all data and model parameters to the device of our choice (GPU if available). For the tiny neural network we have, communicating the data to the GPU actually takes much more time than we could save from running the operation on GPU. For large networks, the communication time is significantly smaller than the actual runtime making a GPU crucial in these cases. Still, to practice, we will push the data to GPU here."
      ]
    },
    {
      "cell_type": "code",
      "execution_count": null,
      "metadata": {
        "id": "aMAiaYW1uUMz",
        "outputId": "2e055019-20cc-4dd5-8caf-ba9af069553e",
        "colab": {
          "base_uri": "https://localhost:8080/"
        }
      },
      "outputs": [
        {
          "output_type": "execute_result",
          "data": {
            "text/plain": [
              "SimpleClassifier(\n",
              "  (linear1): Linear(in_features=2, out_features=4, bias=True)\n",
              "  (act_fn): Tanh()\n",
              "  (linear2): Linear(in_features=4, out_features=1, bias=True)\n",
              ")"
            ]
          },
          "metadata": {},
          "execution_count": 54
        }
      ],
      "source": [
        "# Push model to device. Has to be only done once\n",
        "model.to(device)"
      ]
    },
    {
      "cell_type": "markdown",
      "metadata": {
        "id": "YgaX-rdjuUMz"
      },
      "source": [
        "In addition, we set our model to training mode. This is done by calling `model.train()`. There exist certain modules that need to perform a different forward step during training than during testing (e.g. BatchNorm and Dropout), and we can switch between them using `model.train()` and `model.eval()`."
      ]
    },
    {
      "cell_type": "code",
      "execution_count": null,
      "metadata": {
        "id": "oxDhhnRNuUM0"
      },
      "outputs": [],
      "source": [
        "def train_model(model, optimizer, data_loader, loss_module, num_epochs=100):\n",
        "    # Set model to train mode\n",
        "    model.train()\n",
        "\n",
        "    # Training loop\n",
        "    for epoch in tqdm(range(num_epochs)):\n",
        "        for data_inputs, data_labels in data_loader:\n",
        "\n",
        "            ## Step 1: Move input data to device (only strictly necessary if we use GPU)\n",
        "            data_inputs = data_inputs.to(device)\n",
        "            data_labels = data_labels.to(device)\n",
        "\n",
        "            ## Step 2: Run the model on the input data\n",
        "            preds = model(data_inputs)\n",
        "            preds = preds.squeeze(dim=1) # Output is [Batch size, 1], but we want [Batch size]\n",
        "\n",
        "            ## Step 3: Calculate the loss\n",
        "            loss = loss_module(preds, data_labels.float())\n",
        "\n",
        "            ## Step 4: Perform backpropagation\n",
        "            # Before calculating the gradients, we need to ensure that they are all zero.\n",
        "            # The gradients would not be overwritten, but actually added to the existing ones.\n",
        "            # Now they will be overwritten.\n",
        "            optimizer.zero_grad()\n",
        "            # Perform backpropagation\n",
        "            loss.backward()\n",
        "\n",
        "            ## Step 5: Update the parameters\n",
        "            optimizer.step()"
      ]
    },
    {
      "cell_type": "code",
      "execution_count": null,
      "metadata": {
        "id": "FqKVdb31uUM0",
        "outputId": "6df454ef-fa6c-476a-d86b-dca24a570d76",
        "colab": {
          "referenced_widgets": [
            "6f4ca5b8d4b24c3d845038ba47fe1320",
            "6d6d10f36d184fccb4dc2032049e802c",
            "85b2e44ca12743c9bdc365c2cdad8dab",
            "ae0fbb5d7baf4d87bf9062324c152a66",
            "02976b0d9e104a6fa0bf2ba46c993c2e",
            "6adf902a26124c8cb9086b8ea577a294",
            "ed7d2f74fcc74dc9ae4d8505b722597b",
            "42bf2ca8082547d3830c99499c650fa0",
            "4f3ffa9cf4974f268d82b6f9ffda9dcf",
            "432f35d242684fec9d6a251c550e2e50",
            "9be36f35fc594e14843eda8622a3194e"
          ],
          "base_uri": "https://localhost:8080/",
          "height": 49
        }
      },
      "outputs": [
        {
          "output_type": "display_data",
          "data": {
            "text/plain": [
              "  0%|          | 0/100 [00:00<?, ?it/s]"
            ],
            "application/vnd.jupyter.widget-view+json": {
              "version_major": 2,
              "version_minor": 0,
              "model_id": "6f4ca5b8d4b24c3d845038ba47fe1320"
            }
          },
          "metadata": {}
        }
      ],
      "source": [
        "train_model(model, optimizer, train_data_loader, loss_module)"
      ]
    },
    {
      "cell_type": "markdown",
      "metadata": {
        "id": "mDlmESe1uUM1"
      },
      "source": [
        "#### Saving a model\n",
        "\n",
        "After finish training a model, we save the model to disk so that we can load the same weights at a later time. For this, we extract the so-called `state_dict` from the model which contains all learnable parameters. For our simple model, the state dict contains the following entries:"
      ]
    },
    {
      "cell_type": "code",
      "execution_count": null,
      "metadata": {
        "id": "pJIWkfK8uUM1",
        "outputId": "c6ab4e50-eff7-43be-faad-c801af2962f9",
        "colab": {
          "base_uri": "https://localhost:8080/"
        }
      },
      "outputs": [
        {
          "output_type": "stream",
          "name": "stdout",
          "text": [
            "OrderedDict([('linear1.weight', tensor([[-3.0122,  3.0540],\n",
            "        [-0.6110, -0.5258],\n",
            "        [ 0.0913,  0.7880],\n",
            "        [-3.2389,  3.1864]], device='cuda:0')), ('linear1.bias', tensor([-1.5066,  1.6636,  0.8417,  1.6295], device='cuda:0')), ('linear2.weight', tensor([[ 4.6619,  1.6606,  0.8596, -4.7067]], device='cuda:0')), ('linear2.bias', tensor([2.3500], device='cuda:0'))])\n"
          ]
        }
      ],
      "source": [
        "state_dict = model.state_dict()\n",
        "print(state_dict)"
      ]
    },
    {
      "cell_type": "markdown",
      "metadata": {
        "id": "m1ERoHNvuUM1"
      },
      "source": [
        "To save the state dictionary, we can use `torch.save`:"
      ]
    },
    {
      "cell_type": "code",
      "execution_count": null,
      "metadata": {
        "id": "Y9ZOEKlWuUM1"
      },
      "outputs": [],
      "source": [
        "# torch.save(object, filename). For the filename, any extension can be used\n",
        "torch.save(state_dict, \"our_model.tar\")"
      ]
    },
    {
      "cell_type": "markdown",
      "metadata": {
        "id": "Y3gIxvUSuUM1"
      },
      "source": [
        "To load a model from a state dict, we use the function `torch.load` to load the state dict from the disk, and the module function `load_state_dict` to overwrite our parameters with the new values:"
      ]
    },
    {
      "cell_type": "code",
      "execution_count": null,
      "metadata": {
        "id": "0DAStDnMuUM2",
        "outputId": "0e619430-6eca-4acf-891c-b1baf5b3e34d",
        "colab": {
          "base_uri": "https://localhost:8080/"
        }
      },
      "outputs": [
        {
          "output_type": "stream",
          "name": "stdout",
          "text": [
            "Original model\n",
            " OrderedDict([('linear1.weight', tensor([[-3.0122,  3.0540],\n",
            "        [-0.6110, -0.5258],\n",
            "        [ 0.0913,  0.7880],\n",
            "        [-3.2389,  3.1864]], device='cuda:0')), ('linear1.bias', tensor([-1.5066,  1.6636,  0.8417,  1.6295], device='cuda:0')), ('linear2.weight', tensor([[ 4.6619,  1.6606,  0.8596, -4.7067]], device='cuda:0')), ('linear2.bias', tensor([2.3500], device='cuda:0'))])\n",
            "\n",
            "Loaded model\n",
            " OrderedDict([('linear1.weight', tensor([[-3.0122,  3.0540],\n",
            "        [-0.6110, -0.5258],\n",
            "        [ 0.0913,  0.7880],\n",
            "        [-3.2389,  3.1864]])), ('linear1.bias', tensor([-1.5066,  1.6636,  0.8417,  1.6295])), ('linear2.weight', tensor([[ 4.6619,  1.6606,  0.8596, -4.7067]])), ('linear2.bias', tensor([2.3500]))])\n"
          ]
        }
      ],
      "source": [
        "# Load state dict from the disk (make sure it is the same name as above)\n",
        "state_dict = torch.load(\"our_model.tar\")\n",
        "\n",
        "# Create a new model and load the state\n",
        "new_model = SimpleClassifier(num_inputs=2, num_hidden=4, num_outputs=1)\n",
        "new_model.load_state_dict(state_dict)\n",
        "\n",
        "# Verify that the parameters are the same\n",
        "print(\"Original model\\n\", model.state_dict())\n",
        "print(\"\\nLoaded model\\n\", new_model.state_dict())"
      ]
    },
    {
      "cell_type": "markdown",
      "metadata": {
        "id": "0s-UUGpwuUM2"
      },
      "source": [
        "A detailed tutorial on saving and loading models in PyTorch can be found [here](https://pytorch.org/tutorials/beginner/saving_loading_models.html)."
      ]
    },
    {
      "cell_type": "markdown",
      "metadata": {
        "id": "bS0BJUbBuUM2"
      },
      "source": [
        "### Evaluation\n",
        "\n",
        "Once we have trained a model, it is time to evaluate it on a held-out test set. As our dataset consist of randomly generated data points, we need to first create a test set with a corresponding data loader."
      ]
    },
    {
      "cell_type": "code",
      "execution_count": null,
      "metadata": {
        "id": "hqvkfdDcuUM2"
      },
      "outputs": [],
      "source": [
        "test_dataset = XORDataset(size=500)\n",
        "# drop_last -> Don't drop the last batch although it is smaller than 128\n",
        "test_data_loader = data.DataLoader(test_dataset, batch_size=128, shuffle=False, drop_last=False)"
      ]
    },
    {
      "cell_type": "markdown",
      "metadata": {
        "id": "WoSMCnAtuUM3"
      },
      "source": [
        "As metric, we will use accuracy which is calculated as follows:\n",
        "\n",
        "$$acc = \\frac{\\#\\text{correct predictions}}{\\#\\text{all predictions}} = \\frac{TP+TN}{TP+TN+FP+FN}$$\n",
        "\n",
        "where TP are the true positives, TN true negatives, FP false positives, and FN the fale negatives.\n",
        "\n",
        "When evaluating the model, we don't need to keep track of the computation graph as we don't intend to calculate the gradients. This reduces the required memory and speed up the model. In PyTorch, we can deactivate the computation graph using `with torch.no_grad(): ...`. Remember to additionally set the model to eval mode."
      ]
    },
    {
      "cell_type": "code",
      "execution_count": null,
      "metadata": {
        "id": "qd2fGwChuUM3"
      },
      "outputs": [],
      "source": [
        "def eval_model(model, data_loader):\n",
        "    model.eval() # Set model to eval mode\n",
        "    true_preds, num_preds = 0., 0.\n",
        "\n",
        "    with torch.no_grad(): # Deactivate gradients for the following code - evaluate only, no training\n",
        "        for data_inputs, data_labels in data_loader:\n",
        "\n",
        "            # Determine prediction of model on dev set\n",
        "            data_inputs, data_labels = data_inputs.to(device), data_labels.to(device)\n",
        "            preds = model(data_inputs)\n",
        "            preds = preds.squeeze(dim=1)\n",
        "            preds = torch.sigmoid(preds) # Sigmoid to map predictions between 0 and 1\n",
        "            pred_labels = (preds >= 0.5).long() # Binarize predictions to 0 and 1\n",
        "\n",
        "            # Keep records of predictions for the accuracy metric (true_preds=TP+TN, num_preds=TP+TN+FP+FN)\n",
        "            true_preds += (pred_labels == data_labels).sum()\n",
        "            num_preds += data_labels.shape[0]\n",
        "\n",
        "    acc = true_preds / num_preds\n",
        "    print(f\"Accuracy of the model: {100.0*acc:4.2f}%\")"
      ]
    },
    {
      "cell_type": "code",
      "execution_count": null,
      "metadata": {
        "id": "E6Ny_3e1uUM3",
        "outputId": "345f9d42-2d16-4fb9-d0c0-731ed7ea6d29",
        "colab": {
          "base_uri": "https://localhost:8080/"
        }
      },
      "outputs": [
        {
          "output_type": "stream",
          "name": "stdout",
          "text": [
            "Accuracy of the model: 100.00%\n"
          ]
        }
      ],
      "source": [
        "eval_model(model, test_data_loader)"
      ]
    },
    {
      "cell_type": "markdown",
      "metadata": {
        "id": "oC-xIq2AuUM3"
      },
      "source": [
        "If we trained our model correctly, we should see a score close to 100% accuracy. However, this is only possible because of our simple task, and unfortunately, we usually don't get such high scores on test sets of more complex tasks."
      ]
    },
    {
      "cell_type": "markdown",
      "metadata": {
        "id": "4EN0y6DKuUM3"
      },
      "source": [
        "#### Visualizing classification boundaries\n",
        "\n",
        "To visualize what our model has learned, we can perform a prediction for every data point in a range of $[-0.5, 1.5]$, and visualize the predicted class as in the sample figure at the beginning of this section. This shows where the model has created decision boundaries, and which points would be classified as $0$, and which as $1$. We therefore get a background image out of blue (class 0) and orange (class 1). The spots where the model is uncertain we will see a blurry overlap. The specific code is less relevant compared to the output figure which should hopefully show us a clear separation of classes:"
      ]
    },
    {
      "cell_type": "code",
      "execution_count": null,
      "metadata": {
        "id": "D6HaoF4suUM4",
        "outputId": "ecd7274c-63da-4c3d-e890-132b515f71c3",
        "colab": {
          "base_uri": "https://localhost:8080/",
          "height": 403
        }
      },
      "outputs": [
        {
          "output_type": "display_data",
          "data": {
            "text/plain": [
              "<Figure size 2000x2000 with 1 Axes>"
            ],
            "image/svg+xml": "<?xml version=\"1.0\" encoding=\"utf-8\" standalone=\"no\"?>\n<!DOCTYPE svg PUBLIC \"-//W3C//DTD SVG 1.1//EN\"\n  \"http://www.w3.org/Graphics/SVG/1.1/DTD/svg11.dtd\">\n<svg xmlns:xlink=\"http://www.w3.org/1999/xlink\" width=\"303.730313pt\" height=\"287.037813pt\" viewBox=\"0 0 303.730313 287.037813\" xmlns=\"http://www.w3.org/2000/svg\" version=\"1.1\">\n <metadata>\n  <rdf:RDF xmlns:dc=\"http://purl.org/dc/elements/1.1/\" xmlns:cc=\"http://creativecommons.org/ns#\" xmlns:rdf=\"http://www.w3.org/1999/02/22-rdf-syntax-ns#\">\n   <cc:Work>\n    <dc:type rdf:resource=\"http://purl.org/dc/dcmitype/StillImage\"/>\n    <dc:date>2023-08-30T20:08:51.607483</dc:date>\n    <dc:format>image/svg+xml</dc:format>\n    <dc:creator>\n     <cc:Agent>\n      <dc:title>Matplotlib v3.7.1, https://matplotlib.org/</dc:title>\n     </cc:Agent>\n    </dc:creator>\n   </cc:Work>\n  </rdf:RDF>\n </metadata>\n <defs>\n  <style type=\"text/css\">*{stroke-linejoin: round; stroke-linecap: butt}</style>\n </defs>\n <g id=\"figure_1\">\n  <g id=\"patch_1\">\n   <path d=\"M 0 287.037813 \nL 303.730313 287.037813 \nL 303.730313 0 \nL 0 0 \nz\n\" style=\"fill: #ffffff\"/>\n  </g>\n  <g id=\"axes_1\">\n   <g id=\"patch_2\">\n    <path d=\"M 66.023594 244.078125 \nL 287.783594 244.078125 \nL 287.783594 22.318125 \nL 66.023594 22.318125 \nz\n\" style=\"fill: #eaeaf2\"/>\n   </g>\n   <g clip-path=\"url(#p60da2a4bde)\">\n    <image xlink:href=\"data:image/png;base64,\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\" id=\"image46f3871a49\" transform=\"scale(1 -1) translate(0 -221.904)\" x=\"66.023594\" y=\"-22.174125\" width=\"221.904\" height=\"221.904\"/>\n   </g>\n   <g id=\"matplotlib.axis_1\">\n    <g id=\"xtick_1\">\n     <g id=\"text_1\">\n      <!-- −0.5 -->\n      <g style=\"fill: #262626\" transform=\"translate(52.668047 261.936406) scale(0.11 -0.11)\">\n       <defs>\n        <path id=\"DejaVuSans-2212\" d=\"M 678 2272 \nL 4684 2272 \nL 4684 1741 \nL 678 1741 \nL 678 2272 \nz\n\" transform=\"scale(0.015625)\"/>\n        <path id=\"DejaVuSans-30\" d=\"M 2034 4250 \nQ 1547 4250 1301 3770 \nQ 1056 3291 1056 2328 \nQ 1056 1369 1301 889 \nQ 1547 409 2034 409 \nQ 2525 409 2770 889 \nQ 3016 1369 3016 2328 \nQ 3016 3291 2770 3770 \nQ 2525 4250 2034 4250 \nz\nM 2034 4750 \nQ 2819 4750 3233 4129 \nQ 3647 3509 3647 2328 \nQ 3647 1150 3233 529 \nQ 2819 -91 2034 -91 \nQ 1250 -91 836 529 \nQ 422 1150 422 2328 \nQ 422 3509 836 4129 \nQ 1250 4750 2034 4750 \nz\n\" transform=\"scale(0.015625)\"/>\n        <path id=\"DejaVuSans-2e\" d=\"M 684 794 \nL 1344 794 \nL 1344 0 \nL 684 0 \nL 684 794 \nz\n\" transform=\"scale(0.015625)\"/>\n        <path id=\"DejaVuSans-35\" d=\"M 691 4666 \nL 3169 4666 \nL 3169 4134 \nL 1269 4134 \nL 1269 2991 \nQ 1406 3038 1543 3061 \nQ 1681 3084 1819 3084 \nQ 2600 3084 3056 2656 \nQ 3513 2228 3513 1497 \nQ 3513 744 3044 326 \nQ 2575 -91 1722 -91 \nQ 1428 -91 1123 -41 \nQ 819 9 494 109 \nL 494 744 \nQ 775 591 1075 516 \nQ 1375 441 1709 441 \nQ 2250 441 2565 725 \nQ 2881 1009 2881 1497 \nQ 2881 1984 2565 2268 \nQ 2250 2553 1709 2553 \nQ 1456 2553 1204 2497 \nQ 953 2441 691 2322 \nL 691 4666 \nz\n\" transform=\"scale(0.015625)\"/>\n       </defs>\n       <use xlink:href=\"#DejaVuSans-2212\"/>\n       <use xlink:href=\"#DejaVuSans-30\" x=\"83.789062\"/>\n       <use xlink:href=\"#DejaVuSans-2e\" x=\"147.412109\"/>\n       <use xlink:href=\"#DejaVuSans-35\" x=\"179.199219\"/>\n      </g>\n     </g>\n    </g>\n    <g id=\"xtick_2\">\n     <g id=\"text_2\">\n      <!-- 0.0 -->\n      <g style=\"fill: #262626\" transform=\"translate(112.716875 261.936406) scale(0.11 -0.11)\">\n       <use xlink:href=\"#DejaVuSans-30\"/>\n       <use xlink:href=\"#DejaVuSans-2e\" x=\"63.623047\"/>\n       <use xlink:href=\"#DejaVuSans-30\" x=\"95.410156\"/>\n      </g>\n     </g>\n    </g>\n    <g id=\"xtick_3\">\n     <g id=\"text_3\">\n      <!-- 0.5 -->\n      <g style=\"fill: #262626\" transform=\"translate(168.156875 261.936406) scale(0.11 -0.11)\">\n       <use xlink:href=\"#DejaVuSans-30\"/>\n       <use xlink:href=\"#DejaVuSans-2e\" x=\"63.623047\"/>\n       <use xlink:href=\"#DejaVuSans-35\" x=\"95.410156\"/>\n      </g>\n     </g>\n    </g>\n    <g id=\"xtick_4\">\n     <g id=\"text_4\">\n      <!-- 1.0 -->\n      <g style=\"fill: #262626\" transform=\"translate(223.596875 261.936406) scale(0.11 -0.11)\">\n       <defs>\n        <path id=\"DejaVuSans-31\" d=\"M 794 531 \nL 1825 531 \nL 1825 4091 \nL 703 3866 \nL 703 4441 \nL 1819 4666 \nL 2450 4666 \nL 2450 531 \nL 3481 531 \nL 3481 0 \nL 794 0 \nL 794 531 \nz\n\" transform=\"scale(0.015625)\"/>\n       </defs>\n       <use xlink:href=\"#DejaVuSans-31\"/>\n       <use xlink:href=\"#DejaVuSans-2e\" x=\"63.623047\"/>\n       <use xlink:href=\"#DejaVuSans-30\" x=\"95.410156\"/>\n      </g>\n     </g>\n    </g>\n    <g id=\"xtick_5\">\n     <g id=\"text_5\">\n      <!-- 1.5 -->\n      <g style=\"fill: #262626\" transform=\"translate(279.036875 261.936406) scale(0.11 -0.11)\">\n       <use xlink:href=\"#DejaVuSans-31\"/>\n       <use xlink:href=\"#DejaVuSans-2e\" x=\"63.623047\"/>\n       <use xlink:href=\"#DejaVuSans-35\" x=\"95.410156\"/>\n      </g>\n     </g>\n    </g>\n    <g id=\"text_6\">\n     <!-- $x_1$ -->\n     <g style=\"fill: #262626\" transform=\"translate(170.483594 277.342188) scale(0.12 -0.12)\">\n      <defs>\n       <path id=\"DejaVuSans-Oblique-78\" d=\"M 3841 3500 \nL 2234 1784 \nL 3219 0 \nL 2559 0 \nL 1819 1388 \nL 531 0 \nL -166 0 \nL 1556 1844 \nL 641 3500 \nL 1300 3500 \nL 1972 2234 \nL 3144 3500 \nL 3841 3500 \nz\n\" transform=\"scale(0.015625)\"/>\n      </defs>\n      <use xlink:href=\"#DejaVuSans-Oblique-78\" transform=\"translate(0 0.3125)\"/>\n      <use xlink:href=\"#DejaVuSans-31\" transform=\"translate(59.179688 -16.09375) scale(0.7)\"/>\n     </g>\n    </g>\n   </g>\n   <g id=\"matplotlib.axis_2\">\n    <g id=\"ytick_1\">\n     <g id=\"text_7\">\n      <!-- −0.50 -->\n      <g style=\"fill: #262626\" transform=\"translate(22.81375 248.257266) scale(0.11 -0.11)\">\n       <use xlink:href=\"#DejaVuSans-2212\"/>\n       <use xlink:href=\"#DejaVuSans-30\" x=\"83.789062\"/>\n       <use xlink:href=\"#DejaVuSans-2e\" x=\"147.412109\"/>\n       <use xlink:href=\"#DejaVuSans-35\" x=\"179.199219\"/>\n       <use xlink:href=\"#DejaVuSans-30\" x=\"242.822266\"/>\n      </g>\n     </g>\n    </g>\n    <g id=\"ytick_2\">\n     <g id=\"text_8\">\n      <!-- −0.25 -->\n      <g style=\"fill: #262626\" transform=\"translate(22.81375 220.537266) scale(0.11 -0.11)\">\n       <defs>\n        <path id=\"DejaVuSans-32\" d=\"M 1228 531 \nL 3431 531 \nL 3431 0 \nL 469 0 \nL 469 531 \nQ 828 903 1448 1529 \nQ 2069 2156 2228 2338 \nQ 2531 2678 2651 2914 \nQ 2772 3150 2772 3378 \nQ 2772 3750 2511 3984 \nQ 2250 4219 1831 4219 \nQ 1534 4219 1204 4116 \nQ 875 4013 500 3803 \nL 500 4441 \nQ 881 4594 1212 4672 \nQ 1544 4750 1819 4750 \nQ 2544 4750 2975 4387 \nQ 3406 4025 3406 3419 \nQ 3406 3131 3298 2873 \nQ 3191 2616 2906 2266 \nQ 2828 2175 2409 1742 \nQ 1991 1309 1228 531 \nz\n\" transform=\"scale(0.015625)\"/>\n       </defs>\n       <use xlink:href=\"#DejaVuSans-2212\"/>\n       <use xlink:href=\"#DejaVuSans-30\" x=\"83.789062\"/>\n       <use xlink:href=\"#DejaVuSans-2e\" x=\"147.412109\"/>\n       <use xlink:href=\"#DejaVuSans-32\" x=\"179.199219\"/>\n       <use xlink:href=\"#DejaVuSans-35\" x=\"242.822266\"/>\n      </g>\n     </g>\n    </g>\n    <g id=\"ytick_3\">\n     <g id=\"text_9\">\n      <!-- 0.00 -->\n      <g style=\"fill: #262626\" transform=\"translate(32.031406 192.817266) scale(0.11 -0.11)\">\n       <use xlink:href=\"#DejaVuSans-30\"/>\n       <use xlink:href=\"#DejaVuSans-2e\" x=\"63.623047\"/>\n       <use xlink:href=\"#DejaVuSans-30\" x=\"95.410156\"/>\n       <use xlink:href=\"#DejaVuSans-30\" x=\"159.033203\"/>\n      </g>\n     </g>\n    </g>\n    <g id=\"ytick_4\">\n     <g id=\"text_10\">\n      <!-- 0.25 -->\n      <g style=\"fill: #262626\" transform=\"translate(32.031406 165.097266) scale(0.11 -0.11)\">\n       <use xlink:href=\"#DejaVuSans-30\"/>\n       <use xlink:href=\"#DejaVuSans-2e\" x=\"63.623047\"/>\n       <use xlink:href=\"#DejaVuSans-32\" x=\"95.410156\"/>\n       <use xlink:href=\"#DejaVuSans-35\" x=\"159.033203\"/>\n      </g>\n     </g>\n    </g>\n    <g id=\"ytick_5\">\n     <g id=\"text_11\">\n      <!-- 0.50 -->\n      <g style=\"fill: #262626\" transform=\"translate(32.031406 137.377266) scale(0.11 -0.11)\">\n       <use xlink:href=\"#DejaVuSans-30\"/>\n       <use xlink:href=\"#DejaVuSans-2e\" x=\"63.623047\"/>\n       <use xlink:href=\"#DejaVuSans-35\" x=\"95.410156\"/>\n       <use xlink:href=\"#DejaVuSans-30\" x=\"159.033203\"/>\n      </g>\n     </g>\n    </g>\n    <g id=\"ytick_6\">\n     <g id=\"text_12\">\n      <!-- 0.75 -->\n      <g style=\"fill: #262626\" transform=\"translate(32.031406 109.657266) scale(0.11 -0.11)\">\n       <defs>\n        <path id=\"DejaVuSans-37\" d=\"M 525 4666 \nL 3525 4666 \nL 3525 4397 \nL 1831 0 \nL 1172 0 \nL 2766 4134 \nL 525 4134 \nL 525 4666 \nz\n\" transform=\"scale(0.015625)\"/>\n       </defs>\n       <use xlink:href=\"#DejaVuSans-30\"/>\n       <use xlink:href=\"#DejaVuSans-2e\" x=\"63.623047\"/>\n       <use xlink:href=\"#DejaVuSans-37\" x=\"95.410156\"/>\n       <use xlink:href=\"#DejaVuSans-35\" x=\"159.033203\"/>\n      </g>\n     </g>\n    </g>\n    <g id=\"ytick_7\">\n     <g id=\"text_13\">\n      <!-- 1.00 -->\n      <g style=\"fill: #262626\" transform=\"translate(32.031406 81.937266) scale(0.11 -0.11)\">\n       <use xlink:href=\"#DejaVuSans-31\"/>\n       <use xlink:href=\"#DejaVuSans-2e\" x=\"63.623047\"/>\n       <use xlink:href=\"#DejaVuSans-30\" x=\"95.410156\"/>\n       <use xlink:href=\"#DejaVuSans-30\" x=\"159.033203\"/>\n      </g>\n     </g>\n    </g>\n    <g id=\"ytick_8\">\n     <g id=\"text_14\">\n      <!-- 1.25 -->\n      <g style=\"fill: #262626\" transform=\"translate(32.031406 54.217266) scale(0.11 -0.11)\">\n       <use xlink:href=\"#DejaVuSans-31\"/>\n       <use xlink:href=\"#DejaVuSans-2e\" x=\"63.623047\"/>\n       <use xlink:href=\"#DejaVuSans-32\" x=\"95.410156\"/>\n       <use xlink:href=\"#DejaVuSans-35\" x=\"159.033203\"/>\n      </g>\n     </g>\n    </g>\n    <g id=\"ytick_9\">\n     <g id=\"text_15\">\n      <!-- 1.50 -->\n      <g style=\"fill: #262626\" transform=\"translate(32.031406 26.497266) scale(0.11 -0.11)\">\n       <use xlink:href=\"#DejaVuSans-31\"/>\n       <use xlink:href=\"#DejaVuSans-2e\" x=\"63.623047\"/>\n       <use xlink:href=\"#DejaVuSans-35\" x=\"95.410156\"/>\n       <use xlink:href=\"#DejaVuSans-30\" x=\"159.033203\"/>\n      </g>\n     </g>\n    </g>\n    <g id=\"text_16\">\n     <!-- $x_2$ -->\n     <g style=\"fill: #262626\" transform=\"translate(16.318125 139.618125) rotate(-90) scale(0.12 -0.12)\">\n      <use xlink:href=\"#DejaVuSans-Oblique-78\" transform=\"translate(0 0.3125)\"/>\n      <use xlink:href=\"#DejaVuSans-32\" transform=\"translate(59.179688 -16.09375) scale(0.7)\"/>\n     </g>\n    </g>\n   </g>\n   <g id=\"PathCollection_1\">\n    <defs>\n     <path id=\"mf31333b7cc\" d=\"M 0 3 \nC 0.795609 3 1.55874 2.683901 2.12132 2.12132 \nC 2.683901 1.55874 3 0.795609 3 0 \nC 3 -0.795609 2.683901 -1.55874 2.12132 -2.12132 \nC 1.55874 -2.683901 0.795609 -3 0 -3 \nC -0.795609 -3 -1.55874 -2.683901 -2.12132 -2.12132 \nC -2.683901 -1.55874 -3 -0.795609 -3 0 \nC -3 0.795609 -2.683901 1.55874 -2.12132 2.12132 \nC -1.55874 2.683901 -0.795609 3 0 3 \nz\n\" style=\"stroke: #333333\"/>\n    </defs>\n    <g clip-path=\"url(#p60da2a4bde)\">\n     <use xlink:href=\"#mf31333b7cc\" x=\"250.231003\" y=\"88.238182\" style=\"fill: #4c72b0; stroke: #333333\"/>\n     <use xlink:href=\"#mf31333b7cc\" x=\"229.184192\" y=\"81.042588\" style=\"fill: #4c72b0; stroke: #333333\"/>\n     <use xlink:href=\"#mf31333b7cc\" x=\"130.630408\" y=\"189.780705\" style=\"fill: #4c72b0; stroke: #333333\"/>\n     <use xlink:href=\"#mf31333b7cc\" x=\"241.579752\" y=\"89.891269\" style=\"fill: #4c72b0; stroke: #333333\"/>\n     <use xlink:href=\"#mf31333b7cc\" x=\"224.89898\" y=\"92.779102\" style=\"fill: #4c72b0; stroke: #333333\"/>\n     <use xlink:href=\"#mf31333b7cc\" x=\"92.281542\" y=\"184.552137\" style=\"fill: #4c72b0; stroke: #333333\"/>\n     <use xlink:href=\"#mf31333b7cc\" x=\"137.912384\" y=\"192.634431\" style=\"fill: #4c72b0; stroke: #333333\"/>\n     <use xlink:href=\"#mf31333b7cc\" x=\"97.497533\" y=\"176.999237\" style=\"fill: #4c72b0; stroke: #333333\"/>\n     <use xlink:href=\"#mf31333b7cc\" x=\"219.197481\" y=\"87.444651\" style=\"fill: #4c72b0; stroke: #333333\"/>\n     <use xlink:href=\"#mf31333b7cc\" x=\"97.836103\" y=\"173.572853\" style=\"fill: #4c72b0; stroke: #333333\"/>\n     <use xlink:href=\"#mf31333b7cc\" x=\"236.911815\" y=\"89.717189\" style=\"fill: #4c72b0; stroke: #333333\"/>\n     <use xlink:href=\"#mf31333b7cc\" x=\"239.904208\" y=\"71.587482\" style=\"fill: #4c72b0; stroke: #333333\"/>\n     <use xlink:href=\"#mf31333b7cc\" x=\"224.361526\" y=\"83.279352\" style=\"fill: #4c72b0; stroke: #333333\"/>\n     <use xlink:href=\"#mf31333b7cc\" x=\"114.608194\" y=\"165.073089\" style=\"fill: #4c72b0; stroke: #333333\"/>\n     <use xlink:href=\"#mf31333b7cc\" x=\"243.08\" y=\"76.160606\" style=\"fill: #4c72b0; stroke: #333333\"/>\n     <use xlink:href=\"#mf31333b7cc\" x=\"221.555004\" y=\"101.949838\" style=\"fill: #4c72b0; stroke: #333333\"/>\n     <use xlink:href=\"#mf31333b7cc\" x=\"241.760309\" y=\"69.704284\" style=\"fill: #4c72b0; stroke: #333333\"/>\n     <use xlink:href=\"#mf31333b7cc\" x=\"231.534425\" y=\"75.971828\" style=\"fill: #4c72b0; stroke: #333333\"/>\n     <use xlink:href=\"#mf31333b7cc\" x=\"238.592461\" y=\"96.59441\" style=\"fill: #4c72b0; stroke: #333333\"/>\n     <use xlink:href=\"#mf31333b7cc\" x=\"119.152125\" y=\"193.576067\" style=\"fill: #4c72b0; stroke: #333333\"/>\n     <use xlink:href=\"#mf31333b7cc\" x=\"234.291097\" y=\"77.813792\" style=\"fill: #4c72b0; stroke: #333333\"/>\n     <use xlink:href=\"#mf31333b7cc\" x=\"239.102342\" y=\"74.908459\" style=\"fill: #4c72b0; stroke: #333333\"/>\n     <use xlink:href=\"#mf31333b7cc\" x=\"124.959456\" y=\"183.489983\" style=\"fill: #4c72b0; stroke: #333333\"/>\n     <use xlink:href=\"#mf31333b7cc\" x=\"245.904446\" y=\"67.494762\" style=\"fill: #4c72b0; stroke: #333333\"/>\n     <use xlink:href=\"#mf31333b7cc\" x=\"253.730859\" y=\"66.223687\" style=\"fill: #4c72b0; stroke: #333333\"/>\n     <use xlink:href=\"#mf31333b7cc\" x=\"122.140849\" y=\"190.105025\" style=\"fill: #4c72b0; stroke: #333333\"/>\n     <use xlink:href=\"#mf31333b7cc\" x=\"231.863948\" y=\"79.322024\" style=\"fill: #4c72b0; stroke: #333333\"/>\n     <use xlink:href=\"#mf31333b7cc\" x=\"228.143532\" y=\"64.606685\" style=\"fill: #4c72b0; stroke: #333333\"/>\n     <use xlink:href=\"#mf31333b7cc\" x=\"115.647807\" y=\"183.710698\" style=\"fill: #4c72b0; stroke: #333333\"/>\n     <use xlink:href=\"#mf31333b7cc\" x=\"106.805892\" y=\"198.081927\" style=\"fill: #4c72b0; stroke: #333333\"/>\n     <use xlink:href=\"#mf31333b7cc\" x=\"142.198468\" y=\"199.836758\" style=\"fill: #4c72b0; stroke: #333333\"/>\n     <use xlink:href=\"#mf31333b7cc\" x=\"109.121994\" y=\"188.583688\" style=\"fill: #4c72b0; stroke: #333333\"/>\n     <use xlink:href=\"#mf31333b7cc\" x=\"228.982097\" y=\"92.998447\" style=\"fill: #4c72b0; stroke: #333333\"/>\n     <use xlink:href=\"#mf31333b7cc\" x=\"232.269058\" y=\"81.53641\" style=\"fill: #4c72b0; stroke: #333333\"/>\n     <use xlink:href=\"#mf31333b7cc\" x=\"238.056276\" y=\"78.592612\" style=\"fill: #4c72b0; stroke: #333333\"/>\n     <use xlink:href=\"#mf31333b7cc\" x=\"230.857119\" y=\"90.359507\" style=\"fill: #4c72b0; stroke: #333333\"/>\n     <use xlink:href=\"#mf31333b7cc\" x=\"231.840348\" y=\"96.501521\" style=\"fill: #4c72b0; stroke: #333333\"/>\n     <use xlink:href=\"#mf31333b7cc\" x=\"226.77921\" y=\"66.755946\" style=\"fill: #4c72b0; stroke: #333333\"/>\n     <use xlink:href=\"#mf31333b7cc\" x=\"223.661128\" y=\"75.583803\" style=\"fill: #4c72b0; stroke: #333333\"/>\n     <use xlink:href=\"#mf31333b7cc\" x=\"116.721675\" y=\"187.372928\" style=\"fill: #4c72b0; stroke: #333333\"/>\n     <use xlink:href=\"#mf31333b7cc\" x=\"104.348889\" y=\"193.050232\" style=\"fill: #4c72b0; stroke: #333333\"/>\n     <use xlink:href=\"#mf31333b7cc\" x=\"124.700551\" y=\"175.396603\" style=\"fill: #4c72b0; stroke: #333333\"/>\n     <use xlink:href=\"#mf31333b7cc\" x=\"242.791373\" y=\"66.754968\" style=\"fill: #4c72b0; stroke: #333333\"/>\n     <use xlink:href=\"#mf31333b7cc\" x=\"221.546637\" y=\"72.125649\" style=\"fill: #4c72b0; stroke: #333333\"/>\n     <use xlink:href=\"#mf31333b7cc\" x=\"236.990105\" y=\"77.026975\" style=\"fill: #4c72b0; stroke: #333333\"/>\n     <use xlink:href=\"#mf31333b7cc\" x=\"225.094368\" y=\"72.092168\" style=\"fill: #4c72b0; stroke: #333333\"/>\n     <use xlink:href=\"#mf31333b7cc\" x=\"246.204863\" y=\"66.213734\" style=\"fill: #4c72b0; stroke: #333333\"/>\n     <use xlink:href=\"#mf31333b7cc\" x=\"102.591693\" y=\"187.797085\" style=\"fill: #4c72b0; stroke: #333333\"/>\n     <use xlink:href=\"#mf31333b7cc\" x=\"97.05053\" y=\"194.497245\" style=\"fill: #4c72b0; stroke: #333333\"/>\n     <use xlink:href=\"#mf31333b7cc\" x=\"239.243298\" y=\"75.961426\" style=\"fill: #4c72b0; stroke: #333333\"/>\n     <use xlink:href=\"#mf31333b7cc\" x=\"97.037585\" y=\"193.246188\" style=\"fill: #4c72b0; stroke: #333333\"/>\n     <use xlink:href=\"#mf31333b7cc\" x=\"226.488436\" y=\"86.923283\" style=\"fill: #4c72b0; stroke: #333333\"/>\n     <use xlink:href=\"#mf31333b7cc\" x=\"119.946355\" y=\"197.715436\" style=\"fill: #4c72b0; stroke: #333333\"/>\n     <use xlink:href=\"#mf31333b7cc\" x=\"224.876351\" y=\"73.65499\" style=\"fill: #4c72b0; stroke: #333333\"/>\n     <use xlink:href=\"#mf31333b7cc\" x=\"121.045729\" y=\"184.895603\" style=\"fill: #4c72b0; stroke: #333333\"/>\n     <use xlink:href=\"#mf31333b7cc\" x=\"251.782669\" y=\"65.766571\" style=\"fill: #4c72b0; stroke: #333333\"/>\n     <use xlink:href=\"#mf31333b7cc\" x=\"122.814924\" y=\"200.655106\" style=\"fill: #4c72b0; stroke: #333333\"/>\n     <use xlink:href=\"#mf31333b7cc\" x=\"229.333713\" y=\"78.805844\" style=\"fill: #4c72b0; stroke: #333333\"/>\n     <use xlink:href=\"#mf31333b7cc\" x=\"113.312817\" y=\"164.128812\" style=\"fill: #4c72b0; stroke: #333333\"/>\n     <use xlink:href=\"#mf31333b7cc\" x=\"124.694555\" y=\"186.786312\" style=\"fill: #4c72b0; stroke: #333333\"/>\n     <use xlink:href=\"#mf31333b7cc\" x=\"116.121234\" y=\"174.658975\" style=\"fill: #4c72b0; stroke: #333333\"/>\n     <use xlink:href=\"#mf31333b7cc\" x=\"112.071838\" y=\"183.009067\" style=\"fill: #4c72b0; stroke: #333333\"/>\n     <use xlink:href=\"#mf31333b7cc\" x=\"232.248729\" y=\"56.133876\" style=\"fill: #4c72b0; stroke: #333333\"/>\n     <use xlink:href=\"#mf31333b7cc\" x=\"114.259665\" y=\"182.604166\" style=\"fill: #4c72b0; stroke: #333333\"/>\n     <use xlink:href=\"#mf31333b7cc\" x=\"224.954562\" y=\"89.196879\" style=\"fill: #4c72b0; stroke: #333333\"/>\n     <use xlink:href=\"#mf31333b7cc\" x=\"104.523599\" y=\"206.983508\" style=\"fill: #4c72b0; stroke: #333333\"/>\n     <use xlink:href=\"#mf31333b7cc\" x=\"216.832027\" y=\"81.980677\" style=\"fill: #4c72b0; stroke: #333333\"/>\n     <use xlink:href=\"#mf31333b7cc\" x=\"126.084885\" y=\"199.701201\" style=\"fill: #4c72b0; stroke: #333333\"/>\n     <use xlink:href=\"#mf31333b7cc\" x=\"134.490509\" y=\"186.749899\" style=\"fill: #4c72b0; stroke: #333333\"/>\n     <use xlink:href=\"#mf31333b7cc\" x=\"114.823703\" y=\"188.88623\" style=\"fill: #4c72b0; stroke: #333333\"/>\n     <use xlink:href=\"#mf31333b7cc\" x=\"150.1156\" y=\"189.960676\" style=\"fill: #4c72b0; stroke: #333333\"/>\n     <use xlink:href=\"#mf31333b7cc\" x=\"109.464014\" y=\"206.287982\" style=\"fill: #4c72b0; stroke: #333333\"/>\n     <use xlink:href=\"#mf31333b7cc\" x=\"111.307404\" y=\"203.422357\" style=\"fill: #4c72b0; stroke: #333333\"/>\n     <use xlink:href=\"#mf31333b7cc\" x=\"100.770736\" y=\"179.980286\" style=\"fill: #4c72b0; stroke: #333333\"/>\n     <use xlink:href=\"#mf31333b7cc\" x=\"235.484358\" y=\"83.536368\" style=\"fill: #4c72b0; stroke: #333333\"/>\n     <use xlink:href=\"#mf31333b7cc\" x=\"119.071178\" y=\"178.664272\" style=\"fill: #4c72b0; stroke: #333333\"/>\n     <use xlink:href=\"#mf31333b7cc\" x=\"213.432429\" y=\"65.191975\" style=\"fill: #4c72b0; stroke: #333333\"/>\n     <use xlink:href=\"#mf31333b7cc\" x=\"123.443131\" y=\"189.7459\" style=\"fill: #4c72b0; stroke: #333333\"/>\n     <use xlink:href=\"#mf31333b7cc\" x=\"109.47469\" y=\"212.863826\" style=\"fill: #4c72b0; stroke: #333333\"/>\n     <use xlink:href=\"#mf31333b7cc\" x=\"112.507448\" y=\"211.704686\" style=\"fill: #4c72b0; stroke: #333333\"/>\n     <use xlink:href=\"#mf31333b7cc\" x=\"222.397422\" y=\"79.652208\" style=\"fill: #4c72b0; stroke: #333333\"/>\n     <use xlink:href=\"#mf31333b7cc\" x=\"97.536197\" y=\"190.084758\" style=\"fill: #4c72b0; stroke: #333333\"/>\n     <use xlink:href=\"#mf31333b7cc\" x=\"222.061442\" y=\"72.534004\" style=\"fill: #4c72b0; stroke: #333333\"/>\n     <use xlink:href=\"#mf31333b7cc\" x=\"222.868152\" y=\"64.421978\" style=\"fill: #4c72b0; stroke: #333333\"/>\n     <use xlink:href=\"#mf31333b7cc\" x=\"118.557828\" y=\"190.951384\" style=\"fill: #4c72b0; stroke: #333333\"/>\n     <use xlink:href=\"#mf31333b7cc\" x=\"123.591301\" y=\"174.310856\" style=\"fill: #4c72b0; stroke: #333333\"/>\n     <use xlink:href=\"#mf31333b7cc\" x=\"107.731861\" y=\"184.995671\" style=\"fill: #4c72b0; stroke: #333333\"/>\n     <use xlink:href=\"#mf31333b7cc\" x=\"223.002763\" y=\"70.781453\" style=\"fill: #4c72b0; stroke: #333333\"/>\n     <use xlink:href=\"#mf31333b7cc\" x=\"235.120178\" y=\"77.067607\" style=\"fill: #4c72b0; stroke: #333333\"/>\n     <use xlink:href=\"#mf31333b7cc\" x=\"236.089461\" y=\"53.254456\" style=\"fill: #4c72b0; stroke: #333333\"/>\n     <use xlink:href=\"#mf31333b7cc\" x=\"127.360381\" y=\"187.547347\" style=\"fill: #4c72b0; stroke: #333333\"/>\n     <use xlink:href=\"#mf31333b7cc\" x=\"236.255875\" y=\"82.54464\" style=\"fill: #4c72b0; stroke: #333333\"/>\n     <use xlink:href=\"#mf31333b7cc\" x=\"217.977281\" y=\"65.231417\" style=\"fill: #4c72b0; stroke: #333333\"/>\n     <use xlink:href=\"#mf31333b7cc\" x=\"233.377037\" y=\"115.838824\" style=\"fill: #4c72b0; stroke: #333333\"/>\n     <use xlink:href=\"#mf31333b7cc\" x=\"109.345929\" y=\"189.415456\" style=\"fill: #4c72b0; stroke: #333333\"/>\n     <use xlink:href=\"#mf31333b7cc\" x=\"113.843773\" y=\"188.339343\" style=\"fill: #4c72b0; stroke: #333333\"/>\n     <use xlink:href=\"#mf31333b7cc\" x=\"134.674437\" y=\"188.63541\" style=\"fill: #4c72b0; stroke: #333333\"/>\n     <use xlink:href=\"#mf31333b7cc\" x=\"234.260338\" y=\"66.438439\" style=\"fill: #4c72b0; stroke: #333333\"/>\n     <use xlink:href=\"#mf31333b7cc\" x=\"229.80221\" y=\"63.929716\" style=\"fill: #4c72b0; stroke: #333333\"/>\n     <use xlink:href=\"#mf31333b7cc\" x=\"121.87171\" y=\"194.654564\" style=\"fill: #4c72b0; stroke: #333333\"/>\n     <use xlink:href=\"#mf31333b7cc\" x=\"241.217078\" y=\"71.649434\" style=\"fill: #4c72b0; stroke: #333333\"/>\n     <use xlink:href=\"#mf31333b7cc\" x=\"220.194509\" y=\"87.116714\" style=\"fill: #4c72b0; stroke: #333333\"/>\n     <use xlink:href=\"#mf31333b7cc\" x=\"111.136119\" y=\"177.07442\" style=\"fill: #4c72b0; stroke: #333333\"/>\n     <use xlink:href=\"#mf31333b7cc\" x=\"125.517459\" y=\"204.632916\" style=\"fill: #4c72b0; stroke: #333333\"/>\n     <use xlink:href=\"#mf31333b7cc\" x=\"114.252634\" y=\"191.545711\" style=\"fill: #4c72b0; stroke: #333333\"/>\n     <use xlink:href=\"#mf31333b7cc\" x=\"97.415116\" y=\"181.077591\" style=\"fill: #4c72b0; stroke: #333333\"/>\n    </g>\n   </g>\n   <g id=\"PathCollection_2\">\n    <defs>\n     <path id=\"ma4a5dffefb\" d=\"M 0 3 \nC 0.795609 3 1.55874 2.683901 2.12132 2.12132 \nC 2.683901 1.55874 3 0.795609 3 0 \nC 3 -0.795609 2.683901 -1.55874 2.12132 -2.12132 \nC 1.55874 -2.683901 0.795609 -3 0 -3 \nC -0.795609 -3 -1.55874 -2.683901 -2.12132 -2.12132 \nC -2.683901 -1.55874 -3 -0.795609 -3 0 \nC -3 0.795609 -2.683901 1.55874 -2.12132 2.12132 \nC -1.55874 2.683901 -0.795609 3 0 3 \nz\n\" style=\"stroke: #333333\"/>\n    </defs>\n    <g clip-path=\"url(#p60da2a4bde)\">\n     <use xlink:href=\"#ma4a5dffefb\" x=\"244.946291\" y=\"181.85786\" style=\"fill: #dd8452; stroke: #333333\"/>\n     <use xlink:href=\"#ma4a5dffefb\" x=\"129.313513\" y=\"76.346966\" style=\"fill: #dd8452; stroke: #333333\"/>\n     <use xlink:href=\"#ma4a5dffefb\" x=\"235.922757\" y=\"192.779547\" style=\"fill: #dd8452; stroke: #333333\"/>\n     <use xlink:href=\"#ma4a5dffefb\" x=\"114.774957\" y=\"81.548478\" style=\"fill: #dd8452; stroke: #333333\"/>\n     <use xlink:href=\"#ma4a5dffefb\" x=\"111.489161\" y=\"78.760381\" style=\"fill: #dd8452; stroke: #333333\"/>\n     <use xlink:href=\"#ma4a5dffefb\" x=\"232.271444\" y=\"172.330828\" style=\"fill: #dd8452; stroke: #333333\"/>\n     <use xlink:href=\"#ma4a5dffefb\" x=\"234.535906\" y=\"181.283844\" style=\"fill: #dd8452; stroke: #333333\"/>\n     <use xlink:href=\"#ma4a5dffefb\" x=\"113.802594\" y=\"78.134598\" style=\"fill: #dd8452; stroke: #333333\"/>\n     <use xlink:href=\"#ma4a5dffefb\" x=\"235.143904\" y=\"184.270862\" style=\"fill: #dd8452; stroke: #333333\"/>\n     <use xlink:href=\"#ma4a5dffefb\" x=\"213.174455\" y=\"185.92599\" style=\"fill: #dd8452; stroke: #333333\"/>\n     <use xlink:href=\"#ma4a5dffefb\" x=\"122.714944\" y=\"100.055147\" style=\"fill: #dd8452; stroke: #333333\"/>\n     <use xlink:href=\"#ma4a5dffefb\" x=\"243.517857\" y=\"190.800509\" style=\"fill: #dd8452; stroke: #333333\"/>\n     <use xlink:href=\"#ma4a5dffefb\" x=\"245.496025\" y=\"203.795268\" style=\"fill: #dd8452; stroke: #333333\"/>\n     <use xlink:href=\"#ma4a5dffefb\" x=\"238.285897\" y=\"187.26391\" style=\"fill: #dd8452; stroke: #333333\"/>\n     <use xlink:href=\"#ma4a5dffefb\" x=\"240.121378\" y=\"176.935701\" style=\"fill: #dd8452; stroke: #333333\"/>\n     <use xlink:href=\"#ma4a5dffefb\" x=\"241.671339\" y=\"183.771624\" style=\"fill: #dd8452; stroke: #333333\"/>\n     <use xlink:href=\"#ma4a5dffefb\" x=\"121.536337\" y=\"100.65458\" style=\"fill: #dd8452; stroke: #333333\"/>\n     <use xlink:href=\"#ma4a5dffefb\" x=\"139.376823\" y=\"79.829942\" style=\"fill: #dd8452; stroke: #333333\"/>\n     <use xlink:href=\"#ma4a5dffefb\" x=\"122.359866\" y=\"59.446394\" style=\"fill: #dd8452; stroke: #333333\"/>\n     <use xlink:href=\"#ma4a5dffefb\" x=\"224.517742\" y=\"185.400255\" style=\"fill: #dd8452; stroke: #333333\"/>\n     <use xlink:href=\"#ma4a5dffefb\" x=\"117.880726\" y=\"63.744705\" style=\"fill: #dd8452; stroke: #333333\"/>\n     <use xlink:href=\"#ma4a5dffefb\" x=\"235.276057\" y=\"202.506527\" style=\"fill: #dd8452; stroke: #333333\"/>\n     <use xlink:href=\"#ma4a5dffefb\" x=\"130.364217\" y=\"68.845687\" style=\"fill: #dd8452; stroke: #333333\"/>\n     <use xlink:href=\"#ma4a5dffefb\" x=\"260.504689\" y=\"195.994819\" style=\"fill: #dd8452; stroke: #333333\"/>\n     <use xlink:href=\"#ma4a5dffefb\" x=\"233.248189\" y=\"202.408846\" style=\"fill: #dd8452; stroke: #333333\"/>\n     <use xlink:href=\"#ma4a5dffefb\" x=\"111.580148\" y=\"71.81746\" style=\"fill: #dd8452; stroke: #333333\"/>\n     <use xlink:href=\"#ma4a5dffefb\" x=\"231.215516\" y=\"193.331048\" style=\"fill: #dd8452; stroke: #333333\"/>\n     <use xlink:href=\"#ma4a5dffefb\" x=\"242.534416\" y=\"174.878899\" style=\"fill: #dd8452; stroke: #333333\"/>\n     <use xlink:href=\"#ma4a5dffefb\" x=\"126.535583\" y=\"116.419356\" style=\"fill: #dd8452; stroke: #333333\"/>\n     <use xlink:href=\"#ma4a5dffefb\" x=\"105.150266\" y=\"79.550119\" style=\"fill: #dd8452; stroke: #333333\"/>\n     <use xlink:href=\"#ma4a5dffefb\" x=\"243.188135\" y=\"185.904596\" style=\"fill: #dd8452; stroke: #333333\"/>\n     <use xlink:href=\"#ma4a5dffefb\" x=\"113.287071\" y=\"76.320715\" style=\"fill: #dd8452; stroke: #333333\"/>\n     <use xlink:href=\"#ma4a5dffefb\" x=\"121.288803\" y=\"68.971866\" style=\"fill: #dd8452; stroke: #333333\"/>\n     <use xlink:href=\"#ma4a5dffefb\" x=\"120.36091\" y=\"66.124209\" style=\"fill: #dd8452; stroke: #333333\"/>\n     <use xlink:href=\"#ma4a5dffefb\" x=\"130.858928\" y=\"92.775235\" style=\"fill: #dd8452; stroke: #333333\"/>\n     <use xlink:href=\"#ma4a5dffefb\" x=\"117.563507\" y=\"96.297548\" style=\"fill: #dd8452; stroke: #333333\"/>\n     <use xlink:href=\"#ma4a5dffefb\" x=\"118.427672\" y=\"79.51675\" style=\"fill: #dd8452; stroke: #333333\"/>\n     <use xlink:href=\"#ma4a5dffefb\" x=\"242.059034\" y=\"181.269238\" style=\"fill: #dd8452; stroke: #333333\"/>\n     <use xlink:href=\"#ma4a5dffefb\" x=\"102.398406\" y=\"74.306092\" style=\"fill: #dd8452; stroke: #333333\"/>\n     <use xlink:href=\"#ma4a5dffefb\" x=\"232.211507\" y=\"198.244658\" style=\"fill: #dd8452; stroke: #333333\"/>\n     <use xlink:href=\"#ma4a5dffefb\" x=\"211.251207\" y=\"182.078976\" style=\"fill: #dd8452; stroke: #333333\"/>\n     <use xlink:href=\"#ma4a5dffefb\" x=\"116.086434\" y=\"92.825688\" style=\"fill: #dd8452; stroke: #333333\"/>\n     <use xlink:href=\"#ma4a5dffefb\" x=\"137.891746\" y=\"83.894389\" style=\"fill: #dd8452; stroke: #333333\"/>\n     <use xlink:href=\"#ma4a5dffefb\" x=\"131.958474\" y=\"67.746974\" style=\"fill: #dd8452; stroke: #333333\"/>\n     <use xlink:href=\"#ma4a5dffefb\" x=\"228.510058\" y=\"179.427877\" style=\"fill: #dd8452; stroke: #333333\"/>\n     <use xlink:href=\"#ma4a5dffefb\" x=\"244.244049\" y=\"188.32411\" style=\"fill: #dd8452; stroke: #333333\"/>\n     <use xlink:href=\"#ma4a5dffefb\" x=\"121.343874\" y=\"67.043846\" style=\"fill: #dd8452; stroke: #333333\"/>\n     <use xlink:href=\"#ma4a5dffefb\" x=\"114.579881\" y=\"95.332679\" style=\"fill: #dd8452; stroke: #333333\"/>\n     <use xlink:href=\"#ma4a5dffefb\" x=\"140.167065\" y=\"87.528492\" style=\"fill: #dd8452; stroke: #333333\"/>\n     <use xlink:href=\"#ma4a5dffefb\" x=\"247.016893\" y=\"178.957233\" style=\"fill: #dd8452; stroke: #333333\"/>\n     <use xlink:href=\"#ma4a5dffefb\" x=\"133.695147\" y=\"82.729863\" style=\"fill: #dd8452; stroke: #333333\"/>\n     <use xlink:href=\"#ma4a5dffefb\" x=\"235.296478\" y=\"185.832905\" style=\"fill: #dd8452; stroke: #333333\"/>\n     <use xlink:href=\"#ma4a5dffefb\" x=\"101.956873\" y=\"61.128758\" style=\"fill: #dd8452; stroke: #333333\"/>\n     <use xlink:href=\"#ma4a5dffefb\" x=\"207.310402\" y=\"167.512112\" style=\"fill: #dd8452; stroke: #333333\"/>\n     <use xlink:href=\"#ma4a5dffefb\" x=\"130.554181\" y=\"89.490059\" style=\"fill: #dd8452; stroke: #333333\"/>\n     <use xlink:href=\"#ma4a5dffefb\" x=\"129.710979\" y=\"78.601885\" style=\"fill: #dd8452; stroke: #333333\"/>\n     <use xlink:href=\"#ma4a5dffefb\" x=\"112.798473\" y=\"89.102767\" style=\"fill: #dd8452; stroke: #333333\"/>\n     <use xlink:href=\"#ma4a5dffefb\" x=\"112.566758\" y=\"63.652285\" style=\"fill: #dd8452; stroke: #333333\"/>\n     <use xlink:href=\"#ma4a5dffefb\" x=\"226.821865\" y=\"174.70176\" style=\"fill: #dd8452; stroke: #333333\"/>\n     <use xlink:href=\"#ma4a5dffefb\" x=\"213.622596\" y=\"189.097919\" style=\"fill: #dd8452; stroke: #333333\"/>\n     <use xlink:href=\"#ma4a5dffefb\" x=\"109.071484\" y=\"73.023186\" style=\"fill: #dd8452; stroke: #333333\"/>\n     <use xlink:href=\"#ma4a5dffefb\" x=\"109.34384\" y=\"94.531098\" style=\"fill: #dd8452; stroke: #333333\"/>\n     <use xlink:href=\"#ma4a5dffefb\" x=\"116.564652\" y=\"77.194566\" style=\"fill: #dd8452; stroke: #333333\"/>\n     <use xlink:href=\"#ma4a5dffefb\" x=\"103.464572\" y=\"62.914513\" style=\"fill: #dd8452; stroke: #333333\"/>\n     <use xlink:href=\"#ma4a5dffefb\" x=\"227.569523\" y=\"173.409919\" style=\"fill: #dd8452; stroke: #333333\"/>\n     <use xlink:href=\"#ma4a5dffefb\" x=\"136.153797\" y=\"83.795399\" style=\"fill: #dd8452; stroke: #333333\"/>\n     <use xlink:href=\"#ma4a5dffefb\" x=\"122.828072\" y=\"66.487874\" style=\"fill: #dd8452; stroke: #333333\"/>\n     <use xlink:href=\"#ma4a5dffefb\" x=\"122.372916\" y=\"73.671724\" style=\"fill: #dd8452; stroke: #333333\"/>\n     <use xlink:href=\"#ma4a5dffefb\" x=\"236.560707\" y=\"188.628521\" style=\"fill: #dd8452; stroke: #333333\"/>\n     <use xlink:href=\"#ma4a5dffefb\" x=\"123.927088\" y=\"79.835329\" style=\"fill: #dd8452; stroke: #333333\"/>\n     <use xlink:href=\"#ma4a5dffefb\" x=\"115.742534\" y=\"72.220911\" style=\"fill: #dd8452; stroke: #333333\"/>\n     <use xlink:href=\"#ma4a5dffefb\" x=\"243.634055\" y=\"190.419037\" style=\"fill: #dd8452; stroke: #333333\"/>\n     <use xlink:href=\"#ma4a5dffefb\" x=\"114.946247\" y=\"62.038706\" style=\"fill: #dd8452; stroke: #333333\"/>\n     <use xlink:href=\"#ma4a5dffefb\" x=\"235.116715\" y=\"188.642213\" style=\"fill: #dd8452; stroke: #333333\"/>\n     <use xlink:href=\"#ma4a5dffefb\" x=\"104.418214\" y=\"67.641376\" style=\"fill: #dd8452; stroke: #333333\"/>\n     <use xlink:href=\"#ma4a5dffefb\" x=\"124.276901\" y=\"68.522258\" style=\"fill: #dd8452; stroke: #333333\"/>\n     <use xlink:href=\"#ma4a5dffefb\" x=\"242.11792\" y=\"198.505765\" style=\"fill: #dd8452; stroke: #333333\"/>\n     <use xlink:href=\"#ma4a5dffefb\" x=\"124.806762\" y=\"87.949655\" style=\"fill: #dd8452; stroke: #333333\"/>\n     <use xlink:href=\"#ma4a5dffefb\" x=\"234.047371\" y=\"176.553222\" style=\"fill: #dd8452; stroke: #333333\"/>\n     <use xlink:href=\"#ma4a5dffefb\" x=\"118.584384\" y=\"97.282324\" style=\"fill: #dd8452; stroke: #333333\"/>\n     <use xlink:href=\"#ma4a5dffefb\" x=\"110.264057\" y=\"80.763723\" style=\"fill: #dd8452; stroke: #333333\"/>\n     <use xlink:href=\"#ma4a5dffefb\" x=\"128.438777\" y=\"74.66632\" style=\"fill: #dd8452; stroke: #333333\"/>\n     <use xlink:href=\"#ma4a5dffefb\" x=\"233.290314\" y=\"194.01898\" style=\"fill: #dd8452; stroke: #333333\"/>\n     <use xlink:href=\"#ma4a5dffefb\" x=\"127.449402\" y=\"88.066759\" style=\"fill: #dd8452; stroke: #333333\"/>\n     <use xlink:href=\"#ma4a5dffefb\" x=\"118.42682\" y=\"85.329386\" style=\"fill: #dd8452; stroke: #333333\"/>\n     <use xlink:href=\"#ma4a5dffefb\" x=\"117.200029\" y=\"87.945855\" style=\"fill: #dd8452; stroke: #333333\"/>\n     <use xlink:href=\"#ma4a5dffefb\" x=\"239.139828\" y=\"184.555936\" style=\"fill: #dd8452; stroke: #333333\"/>\n     <use xlink:href=\"#ma4a5dffefb\" x=\"127.648316\" y=\"81.403173\" style=\"fill: #dd8452; stroke: #333333\"/>\n     <use xlink:href=\"#ma4a5dffefb\" x=\"236.231131\" y=\"184.533516\" style=\"fill: #dd8452; stroke: #333333\"/>\n     <use xlink:href=\"#ma4a5dffefb\" x=\"119.505648\" y=\"103.286527\" style=\"fill: #dd8452; stroke: #333333\"/>\n     <use xlink:href=\"#ma4a5dffefb\" x=\"122.888543\" y=\"71.891335\" style=\"fill: #dd8452; stroke: #333333\"/>\n     <use xlink:href=\"#ma4a5dffefb\" x=\"137.810347\" y=\"84.560037\" style=\"fill: #dd8452; stroke: #333333\"/>\n     <use xlink:href=\"#ma4a5dffefb\" x=\"231.967094\" y=\"174.602108\" style=\"fill: #dd8452; stroke: #333333\"/>\n     <use xlink:href=\"#ma4a5dffefb\" x=\"126.711618\" y=\"71.344906\" style=\"fill: #dd8452; stroke: #333333\"/>\n    </g>\n   </g>\n   <g id=\"patch_3\">\n    <path d=\"M 66.023594 244.078125 \nL 66.023594 22.318125 \n\" style=\"fill: none; stroke: #ffffff; stroke-width: 1.25; stroke-linejoin: miter; stroke-linecap: square\"/>\n   </g>\n   <g id=\"patch_4\">\n    <path d=\"M 287.783594 244.078125 \nL 287.783594 22.318125 \n\" style=\"fill: none; stroke: #ffffff; stroke-width: 1.25; stroke-linejoin: miter; stroke-linecap: square\"/>\n   </g>\n   <g id=\"patch_5\">\n    <path d=\"M 66.023594 244.078125 \nL 287.783594 244.078125 \n\" style=\"fill: none; stroke: #ffffff; stroke-width: 1.25; stroke-linejoin: miter; stroke-linecap: square\"/>\n   </g>\n   <g id=\"patch_6\">\n    <path d=\"M 66.023594 22.318125 \nL 287.783594 22.318125 \n\" style=\"fill: none; stroke: #ffffff; stroke-width: 1.25; stroke-linejoin: miter; stroke-linecap: square\"/>\n   </g>\n   <g id=\"text_17\">\n    <!-- Dataset samples -->\n    <g style=\"fill: #262626\" transform=\"translate(126.560781 16.318125) scale(0.12 -0.12)\">\n     <defs>\n      <path id=\"DejaVuSans-44\" d=\"M 1259 4147 \nL 1259 519 \nL 2022 519 \nQ 2988 519 3436 956 \nQ 3884 1394 3884 2338 \nQ 3884 3275 3436 3711 \nQ 2988 4147 2022 4147 \nL 1259 4147 \nz\nM 628 4666 \nL 1925 4666 \nQ 3281 4666 3915 4102 \nQ 4550 3538 4550 2338 \nQ 4550 1131 3912 565 \nQ 3275 0 1925 0 \nL 628 0 \nL 628 4666 \nz\n\" transform=\"scale(0.015625)\"/>\n      <path id=\"DejaVuSans-61\" d=\"M 2194 1759 \nQ 1497 1759 1228 1600 \nQ 959 1441 959 1056 \nQ 959 750 1161 570 \nQ 1363 391 1709 391 \nQ 2188 391 2477 730 \nQ 2766 1069 2766 1631 \nL 2766 1759 \nL 2194 1759 \nz\nM 3341 1997 \nL 3341 0 \nL 2766 0 \nL 2766 531 \nQ 2569 213 2275 61 \nQ 1981 -91 1556 -91 \nQ 1019 -91 701 211 \nQ 384 513 384 1019 \nQ 384 1609 779 1909 \nQ 1175 2209 1959 2209 \nL 2766 2209 \nL 2766 2266 \nQ 2766 2663 2505 2880 \nQ 2244 3097 1772 3097 \nQ 1472 3097 1187 3025 \nQ 903 2953 641 2809 \nL 641 3341 \nQ 956 3463 1253 3523 \nQ 1550 3584 1831 3584 \nQ 2591 3584 2966 3190 \nQ 3341 2797 3341 1997 \nz\n\" transform=\"scale(0.015625)\"/>\n      <path id=\"DejaVuSans-74\" d=\"M 1172 4494 \nL 1172 3500 \nL 2356 3500 \nL 2356 3053 \nL 1172 3053 \nL 1172 1153 \nQ 1172 725 1289 603 \nQ 1406 481 1766 481 \nL 2356 481 \nL 2356 0 \nL 1766 0 \nQ 1100 0 847 248 \nQ 594 497 594 1153 \nL 594 3053 \nL 172 3053 \nL 172 3500 \nL 594 3500 \nL 594 4494 \nL 1172 4494 \nz\n\" transform=\"scale(0.015625)\"/>\n      <path id=\"DejaVuSans-73\" d=\"M 2834 3397 \nL 2834 2853 \nQ 2591 2978 2328 3040 \nQ 2066 3103 1784 3103 \nQ 1356 3103 1142 2972 \nQ 928 2841 928 2578 \nQ 928 2378 1081 2264 \nQ 1234 2150 1697 2047 \nL 1894 2003 \nQ 2506 1872 2764 1633 \nQ 3022 1394 3022 966 \nQ 3022 478 2636 193 \nQ 2250 -91 1575 -91 \nQ 1294 -91 989 -36 \nQ 684 19 347 128 \nL 347 722 \nQ 666 556 975 473 \nQ 1284 391 1588 391 \nQ 1994 391 2212 530 \nQ 2431 669 2431 922 \nQ 2431 1156 2273 1281 \nQ 2116 1406 1581 1522 \nL 1381 1569 \nQ 847 1681 609 1914 \nQ 372 2147 372 2553 \nQ 372 3047 722 3315 \nQ 1072 3584 1716 3584 \nQ 2034 3584 2315 3537 \nQ 2597 3491 2834 3397 \nz\n\" transform=\"scale(0.015625)\"/>\n      <path id=\"DejaVuSans-65\" d=\"M 3597 1894 \nL 3597 1613 \nL 953 1613 \nQ 991 1019 1311 708 \nQ 1631 397 2203 397 \nQ 2534 397 2845 478 \nQ 3156 559 3463 722 \nL 3463 178 \nQ 3153 47 2828 -22 \nQ 2503 -91 2169 -91 \nQ 1331 -91 842 396 \nQ 353 884 353 1716 \nQ 353 2575 817 3079 \nQ 1281 3584 2069 3584 \nQ 2775 3584 3186 3129 \nQ 3597 2675 3597 1894 \nz\nM 3022 2063 \nQ 3016 2534 2758 2815 \nQ 2500 3097 2075 3097 \nQ 1594 3097 1305 2825 \nQ 1016 2553 972 2059 \nL 3022 2063 \nz\n\" transform=\"scale(0.015625)\"/>\n      <path id=\"DejaVuSans-20\" transform=\"scale(0.015625)\"/>\n      <path id=\"DejaVuSans-6d\" d=\"M 3328 2828 \nQ 3544 3216 3844 3400 \nQ 4144 3584 4550 3584 \nQ 5097 3584 5394 3201 \nQ 5691 2819 5691 2113 \nL 5691 0 \nL 5113 0 \nL 5113 2094 \nQ 5113 2597 4934 2840 \nQ 4756 3084 4391 3084 \nQ 3944 3084 3684 2787 \nQ 3425 2491 3425 1978 \nL 3425 0 \nL 2847 0 \nL 2847 2094 \nQ 2847 2600 2669 2842 \nQ 2491 3084 2119 3084 \nQ 1678 3084 1418 2786 \nQ 1159 2488 1159 1978 \nL 1159 0 \nL 581 0 \nL 581 3500 \nL 1159 3500 \nL 1159 2956 \nQ 1356 3278 1631 3431 \nQ 1906 3584 2284 3584 \nQ 2666 3584 2933 3390 \nQ 3200 3197 3328 2828 \nz\n\" transform=\"scale(0.015625)\"/>\n      <path id=\"DejaVuSans-70\" d=\"M 1159 525 \nL 1159 -1331 \nL 581 -1331 \nL 581 3500 \nL 1159 3500 \nL 1159 2969 \nQ 1341 3281 1617 3432 \nQ 1894 3584 2278 3584 \nQ 2916 3584 3314 3078 \nQ 3713 2572 3713 1747 \nQ 3713 922 3314 415 \nQ 2916 -91 2278 -91 \nQ 1894 -91 1617 61 \nQ 1341 213 1159 525 \nz\nM 3116 1747 \nQ 3116 2381 2855 2742 \nQ 2594 3103 2138 3103 \nQ 1681 3103 1420 2742 \nQ 1159 2381 1159 1747 \nQ 1159 1113 1420 752 \nQ 1681 391 2138 391 \nQ 2594 391 2855 752 \nQ 3116 1113 3116 1747 \nz\n\" transform=\"scale(0.015625)\"/>\n      <path id=\"DejaVuSans-6c\" d=\"M 603 4863 \nL 1178 4863 \nL 1178 0 \nL 603 0 \nL 603 4863 \nz\n\" transform=\"scale(0.015625)\"/>\n     </defs>\n     <use xlink:href=\"#DejaVuSans-44\"/>\n     <use xlink:href=\"#DejaVuSans-61\" x=\"77.001953\"/>\n     <use xlink:href=\"#DejaVuSans-74\" x=\"138.28125\"/>\n     <use xlink:href=\"#DejaVuSans-61\" x=\"177.490234\"/>\n     <use xlink:href=\"#DejaVuSans-73\" x=\"238.769531\"/>\n     <use xlink:href=\"#DejaVuSans-65\" x=\"290.869141\"/>\n     <use xlink:href=\"#DejaVuSans-74\" x=\"352.392578\"/>\n     <use xlink:href=\"#DejaVuSans-20\" x=\"391.601562\"/>\n     <use xlink:href=\"#DejaVuSans-73\" x=\"423.388672\"/>\n     <use xlink:href=\"#DejaVuSans-61\" x=\"475.488281\"/>\n     <use xlink:href=\"#DejaVuSans-6d\" x=\"536.767578\"/>\n     <use xlink:href=\"#DejaVuSans-70\" x=\"634.179688\"/>\n     <use xlink:href=\"#DejaVuSans-6c\" x=\"697.65625\"/>\n     <use xlink:href=\"#DejaVuSans-65\" x=\"725.439453\"/>\n     <use xlink:href=\"#DejaVuSans-73\" x=\"786.962891\"/>\n    </g>\n   </g>\n   <g id=\"legend_1\">\n    <g id=\"patch_7\">\n     <path d=\"M 139.586953 238.578125 \nL 214.220234 238.578125 \nQ 216.420234 238.578125 216.420234 236.378125 \nL 216.420234 205.18625 \nQ 216.420234 202.98625 214.220234 202.98625 \nL 139.586953 202.98625 \nQ 137.386953 202.98625 137.386953 205.18625 \nL 137.386953 236.378125 \nQ 137.386953 238.578125 139.586953 238.578125 \nz\n\" style=\"fill: #eaeaf2; opacity: 0.8; stroke: #cccccc; stroke-linejoin: miter\"/>\n    </g>\n    <g id=\"PathCollection_3\">\n     <g>\n      <use xlink:href=\"#mf31333b7cc\" x=\"152.786953\" y=\"212.857031\" style=\"fill: #4c72b0; stroke: #333333\"/>\n     </g>\n    </g>\n    <g id=\"text_18\">\n     <!-- Class 0 -->\n     <g style=\"fill: #262626\" transform=\"translate(172.586953 215.744531) scale(0.11 -0.11)\">\n      <defs>\n       <path id=\"DejaVuSans-43\" d=\"M 4122 4306 \nL 4122 3641 \nQ 3803 3938 3442 4084 \nQ 3081 4231 2675 4231 \nQ 1875 4231 1450 3742 \nQ 1025 3253 1025 2328 \nQ 1025 1406 1450 917 \nQ 1875 428 2675 428 \nQ 3081 428 3442 575 \nQ 3803 722 4122 1019 \nL 4122 359 \nQ 3791 134 3420 21 \nQ 3050 -91 2638 -91 \nQ 1578 -91 968 557 \nQ 359 1206 359 2328 \nQ 359 3453 968 4101 \nQ 1578 4750 2638 4750 \nQ 3056 4750 3426 4639 \nQ 3797 4528 4122 4306 \nz\n\" transform=\"scale(0.015625)\"/>\n      </defs>\n      <use xlink:href=\"#DejaVuSans-43\"/>\n      <use xlink:href=\"#DejaVuSans-6c\" x=\"69.824219\"/>\n      <use xlink:href=\"#DejaVuSans-61\" x=\"97.607422\"/>\n      <use xlink:href=\"#DejaVuSans-73\" x=\"158.886719\"/>\n      <use xlink:href=\"#DejaVuSans-73\" x=\"210.986328\"/>\n      <use xlink:href=\"#DejaVuSans-20\" x=\"263.085938\"/>\n      <use xlink:href=\"#DejaVuSans-30\" x=\"294.873047\"/>\n     </g>\n    </g>\n    <g id=\"PathCollection_4\">\n     <g>\n      <use xlink:href=\"#ma4a5dffefb\" x=\"152.786953\" y=\"229.002969\" style=\"fill: #dd8452; stroke: #333333\"/>\n     </g>\n    </g>\n    <g id=\"text_19\">\n     <!-- Class 1 -->\n     <g style=\"fill: #262626\" transform=\"translate(172.586953 231.890469) scale(0.11 -0.11)\">\n      <use xlink:href=\"#DejaVuSans-43\"/>\n      <use xlink:href=\"#DejaVuSans-6c\" x=\"69.824219\"/>\n      <use xlink:href=\"#DejaVuSans-61\" x=\"97.607422\"/>\n      <use xlink:href=\"#DejaVuSans-73\" x=\"158.886719\"/>\n      <use xlink:href=\"#DejaVuSans-73\" x=\"210.986328\"/>\n      <use xlink:href=\"#DejaVuSans-20\" x=\"263.085938\"/>\n      <use xlink:href=\"#DejaVuSans-31\" x=\"294.873047\"/>\n     </g>\n    </g>\n   </g>\n  </g>\n </g>\n <defs>\n  <clipPath id=\"p60da2a4bde\">\n   <rect x=\"66.023594\" y=\"22.318125\" width=\"221.76\" height=\"221.76\"/>\n  </clipPath>\n </defs>\n</svg>\n",
            "application/pdf": "[encoded data removed]"
          },
          "metadata": {}
        }
      ],
      "source": [
        "@torch.no_grad() # Decorator, same effect as \"with torch.no_grad(): ...\" over the whole function.\n",
        "def visualize_classification(model, data, label):\n",
        "    if isinstance(data, torch.Tensor):\n",
        "        data = data.cpu().numpy()\n",
        "    if isinstance(label, torch.Tensor):\n",
        "        label = label.cpu().numpy()\n",
        "    data_0 = data[label == 0]\n",
        "    data_1 = data[label == 1]\n",
        "\n",
        "    fig = plt.figure(figsize=(4,4), dpi=500)\n",
        "    plt.scatter(data_0[:,0], data_0[:,1], edgecolor=\"#333\", label=\"Class 0\")\n",
        "    plt.scatter(data_1[:,0], data_1[:,1], edgecolor=\"#333\", label=\"Class 1\")\n",
        "    plt.title(\"Dataset samples\")\n",
        "    plt.ylabel(r\"$x_2$\")\n",
        "    plt.xlabel(r\"$x_1$\")\n",
        "    plt.legend()\n",
        "\n",
        "    # Let's make use of a lot of operations we have learned above\n",
        "    model.to(device)\n",
        "    c0 = torch.Tensor(to_rgba(\"C0\")).to(device)\n",
        "    c1 = torch.Tensor(to_rgba(\"C1\")).to(device)\n",
        "    x1 = torch.arange(-0.5, 1.5, step=0.01, device=device)\n",
        "    x2 = torch.arange(-0.5, 1.5, step=0.01, device=device)\n",
        "    xx1, xx2 = torch.meshgrid(x1, x2, indexing='ij')  # Meshgrid function as in numpy\n",
        "    model_inputs = torch.stack([xx1, xx2], dim=-1)\n",
        "    preds = model(model_inputs)\n",
        "    preds = torch.sigmoid(preds)\n",
        "    output_image = (1 - preds) * c0[None,None] + preds * c1[None,None]  # Specifying \"None\" in a dimension creates a new one\n",
        "    output_image = output_image.cpu().numpy()  # Convert to numpy array. This only works for tensors on CPU, hence first push to CPU\n",
        "    plt.imshow(output_image, origin='lower', extent=(-0.5, 1.5, -0.5, 1.5))\n",
        "    plt.grid(False)\n",
        "    return fig\n",
        "\n",
        "_ = visualize_classification(model, dataset.data, dataset.label)\n",
        "plt.show()"
      ]
    },
    {
      "cell_type": "markdown",
      "metadata": {
        "id": "gDM6zKqZuUM4"
      },
      "source": [
        "The decision boundaries might not look exactly as in the figure in the preamble of this section which can be caused by running it on CPU or a different GPU architecture. Nevertheless, the result on the accuracy metric should be the approximately the same."
      ]
    },
    {
      "cell_type": "markdown",
      "metadata": {
        "id": "edhL4VW7uUM6"
      },
      "source": [
        "---\n",
        "\n",
        "[![Star our repository](https://img.shields.io/static/v1.svg?logo=star&label=⭐&message=Star%20Our%20Repository&color=yellow)](https://github.com/phlippe/uvadlc_notebooks/)  If you found this tutorial helpful, consider ⭐-ing our repository.    \n",
        "[![Ask questions](https://img.shields.io/static/v1.svg?logo=star&label=❔&message=Ask%20Questions&color=9cf)](https://github.com/phlippe/uvadlc_notebooks/issues)  For any questions, typos, or bugs that you found, please raise an issue on GitHub.\n",
        "\n",
        "---"
      ]
    }
  ],
  "metadata": {
    "kernelspec": {
      "display_name": "Python 3",
      "name": "python3"
    },
    "language_info": {
      "codemirror_mode": {
        "name": "ipython",
        "version": 3
      },
      "file_extension": ".py",
      "mimetype": "text/x-python",
      "name": "python",
      "nbconvert_exporter": "python",
      "pygments_lexer": "ipython3",
      "version": "3.10.6"
    },
    "colab": {
      "provenance": [],
      "gpuType": "T4"
    },
    "accelerator": "GPU",
    "widgets": {
      "application/vnd.jupyter.widget-state+json": {
        "6f4ca5b8d4b24c3d845038ba47fe1320": {
          "model_module": "@jupyter-widgets/controls",
          "model_name": "HBoxModel",
          "model_module_version": "1.5.0",
          "state": {
            "_dom_classes": [],
            "_model_module": "@jupyter-widgets/controls",
            "_model_module_version": "1.5.0",
            "_model_name": "HBoxModel",
            "_view_count": null,
            "_view_module": "@jupyter-widgets/controls",
            "_view_module_version": "1.5.0",
            "_view_name": "HBoxView",
            "box_style": "",
            "children": [
              "IPY_MODEL_6d6d10f36d184fccb4dc2032049e802c",
              "IPY_MODEL_85b2e44ca12743c9bdc365c2cdad8dab",
              "IPY_MODEL_ae0fbb5d7baf4d87bf9062324c152a66"
            ],
            "layout": "IPY_MODEL_02976b0d9e104a6fa0bf2ba46c993c2e"
          }
        },
        "6d6d10f36d184fccb4dc2032049e802c": {
          "model_module": "@jupyter-widgets/controls",
          "model_name": "HTMLModel",
          "model_module_version": "1.5.0",
          "state": {
            "_dom_classes": [],
            "_model_module": "@jupyter-widgets/controls",
            "_model_module_version": "1.5.0",
            "_model_name": "HTMLModel",
            "_view_count": null,
            "_view_module": "@jupyter-widgets/controls",
            "_view_module_version": "1.5.0",
            "_view_name": "HTMLView",
            "description": "",
            "description_tooltip": null,
            "layout": "IPY_MODEL_6adf902a26124c8cb9086b8ea577a294",
            "placeholder": "​",
            "style": "IPY_MODEL_ed7d2f74fcc74dc9ae4d8505b722597b",
            "value": "100%"
          }
        },
        "85b2e44ca12743c9bdc365c2cdad8dab": {
          "model_module": "@jupyter-widgets/controls",
          "model_name": "FloatProgressModel",
          "model_module_version": "1.5.0",
          "state": {
            "_dom_classes": [],
            "_model_module": "@jupyter-widgets/controls",
            "_model_module_version": "1.5.0",
            "_model_name": "FloatProgressModel",
            "_view_count": null,
            "_view_module": "@jupyter-widgets/controls",
            "_view_module_version": "1.5.0",
            "_view_name": "ProgressView",
            "bar_style": "success",
            "description": "",
            "description_tooltip": null,
            "layout": "IPY_MODEL_42bf2ca8082547d3830c99499c650fa0",
            "max": 100,
            "min": 0,
            "orientation": "horizontal",
            "style": "IPY_MODEL_4f3ffa9cf4974f268d82b6f9ffda9dcf",
            "value": 100
          }
        },
        "ae0fbb5d7baf4d87bf9062324c152a66": {
          "model_module": "@jupyter-widgets/controls",
          "model_name": "HTMLModel",
          "model_module_version": "1.5.0",
          "state": {
            "_dom_classes": [],
            "_model_module": "@jupyter-widgets/controls",
            "_model_module_version": "1.5.0",
            "_model_name": "HTMLModel",
            "_view_count": null,
            "_view_module": "@jupyter-widgets/controls",
            "_view_module_version": "1.5.0",
            "_view_name": "HTMLView",
            "description": "",
            "description_tooltip": null,
            "layout": "IPY_MODEL_432f35d242684fec9d6a251c550e2e50",
            "placeholder": "​",
            "style": "IPY_MODEL_9be36f35fc594e14843eda8622a3194e",
            "value": " 100/100 [00:05&lt;00:00, 24.36it/s]"
          }
        },
        "02976b0d9e104a6fa0bf2ba46c993c2e": {
          "model_module": "@jupyter-widgets/base",
          "model_name": "LayoutModel",
          "model_module_version": "1.2.0",
          "state": {
            "_model_module": "@jupyter-widgets/base",
            "_model_module_version": "1.2.0",
            "_model_name": "LayoutModel",
            "_view_count": null,
            "_view_module": "@jupyter-widgets/base",
            "_view_module_version": "1.2.0",
            "_view_name": "LayoutView",
            "align_content": null,
            "align_items": null,
            "align_self": null,
            "border": null,
            "bottom": null,
            "display": null,
            "flex": null,
            "flex_flow": null,
            "grid_area": null,
            "grid_auto_columns": null,
            "grid_auto_flow": null,
            "grid_auto_rows": null,
            "grid_column": null,
            "grid_gap": null,
            "grid_row": null,
            "grid_template_areas": null,
            "grid_template_columns": null,
            "grid_template_rows": null,
            "height": null,
            "justify_content": null,
            "justify_items": null,
            "left": null,
            "margin": null,
            "max_height": null,
            "max_width": null,
            "min_height": null,
            "min_width": null,
            "object_fit": null,
            "object_position": null,
            "order": null,
            "overflow": null,
            "overflow_x": null,
            "overflow_y": null,
            "padding": null,
            "right": null,
            "top": null,
            "visibility": null,
            "width": null
          }
        },
        "6adf902a26124c8cb9086b8ea577a294": {
          "model_module": "@jupyter-widgets/base",
          "model_name": "LayoutModel",
          "model_module_version": "1.2.0",
          "state": {
            "_model_module": "@jupyter-widgets/base",
            "_model_module_version": "1.2.0",
            "_model_name": "LayoutModel",
            "_view_count": null,
            "_view_module": "@jupyter-widgets/base",
            "_view_module_version": "1.2.0",
            "_view_name": "LayoutView",
            "align_content": null,
            "align_items": null,
            "align_self": null,
            "border": null,
            "bottom": null,
            "display": null,
            "flex": null,
            "flex_flow": null,
            "grid_area": null,
            "grid_auto_columns": null,
            "grid_auto_flow": null,
            "grid_auto_rows": null,
            "grid_column": null,
            "grid_gap": null,
            "grid_row": null,
            "grid_template_areas": null,
            "grid_template_columns": null,
            "grid_template_rows": null,
            "height": null,
            "justify_content": null,
            "justify_items": null,
            "left": null,
            "margin": null,
            "max_height": null,
            "max_width": null,
            "min_height": null,
            "min_width": null,
            "object_fit": null,
            "object_position": null,
            "order": null,
            "overflow": null,
            "overflow_x": null,
            "overflow_y": null,
            "padding": null,
            "right": null,
            "top": null,
            "visibility": null,
            "width": null
          }
        },
        "ed7d2f74fcc74dc9ae4d8505b722597b": {
          "model_module": "@jupyter-widgets/controls",
          "model_name": "DescriptionStyleModel",
          "model_module_version": "1.5.0",
          "state": {
            "_model_module": "@jupyter-widgets/controls",
            "_model_module_version": "1.5.0",
            "_model_name": "DescriptionStyleModel",
            "_view_count": null,
            "_view_module": "@jupyter-widgets/base",
            "_view_module_version": "1.2.0",
            "_view_name": "StyleView",
            "description_width": ""
          }
        },
        "42bf2ca8082547d3830c99499c650fa0": {
          "model_module": "@jupyter-widgets/base",
          "model_name": "LayoutModel",
          "model_module_version": "1.2.0",
          "state": {
            "_model_module": "@jupyter-widgets/base",
            "_model_module_version": "1.2.0",
            "_model_name": "LayoutModel",
            "_view_count": null,
            "_view_module": "@jupyter-widgets/base",
            "_view_module_version": "1.2.0",
            "_view_name": "LayoutView",
            "align_content": null,
            "align_items": null,
            "align_self": null,
            "border": null,
            "bottom": null,
            "display": null,
            "flex": null,
            "flex_flow": null,
            "grid_area": null,
            "grid_auto_columns": null,
            "grid_auto_flow": null,
            "grid_auto_rows": null,
            "grid_column": null,
            "grid_gap": null,
            "grid_row": null,
            "grid_template_areas": null,
            "grid_template_columns": null,
            "grid_template_rows": null,
            "height": null,
            "justify_content": null,
            "justify_items": null,
            "left": null,
            "margin": null,
            "max_height": null,
            "max_width": null,
            "min_height": null,
            "min_width": null,
            "object_fit": null,
            "object_position": null,
            "order": null,
            "overflow": null,
            "overflow_x": null,
            "overflow_y": null,
            "padding": null,
            "right": null,
            "top": null,
            "visibility": null,
            "width": null
          }
        },
        "4f3ffa9cf4974f268d82b6f9ffda9dcf": {
          "model_module": "@jupyter-widgets/controls",
          "model_name": "ProgressStyleModel",
          "model_module_version": "1.5.0",
          "state": {
            "_model_module": "@jupyter-widgets/controls",
            "_model_module_version": "1.5.0",
            "_model_name": "ProgressStyleModel",
            "_view_count": null,
            "_view_module": "@jupyter-widgets/base",
            "_view_module_version": "1.2.0",
            "_view_name": "StyleView",
            "bar_color": null,
            "description_width": ""
          }
        },
        "432f35d242684fec9d6a251c550e2e50": {
          "model_module": "@jupyter-widgets/base",
          "model_name": "LayoutModel",
          "model_module_version": "1.2.0",
          "state": {
            "_model_module": "@jupyter-widgets/base",
            "_model_module_version": "1.2.0",
            "_model_name": "LayoutModel",
            "_view_count": null,
            "_view_module": "@jupyter-widgets/base",
            "_view_module_version": "1.2.0",
            "_view_name": "LayoutView",
            "align_content": null,
            "align_items": null,
            "align_self": null,
            "border": null,
            "bottom": null,
            "display": null,
            "flex": null,
            "flex_flow": null,
            "grid_area": null,
            "grid_auto_columns": null,
            "grid_auto_flow": null,
            "grid_auto_rows": null,
            "grid_column": null,
            "grid_gap": null,
            "grid_row": null,
            "grid_template_areas": null,
            "grid_template_columns": null,
            "grid_template_rows": null,
            "height": null,
            "justify_content": null,
            "justify_items": null,
            "left": null,
            "margin": null,
            "max_height": null,
            "max_width": null,
            "min_height": null,
            "min_width": null,
            "object_fit": null,
            "object_position": null,
            "order": null,
            "overflow": null,
            "overflow_x": null,
            "overflow_y": null,
            "padding": null,
            "right": null,
            "top": null,
            "visibility": null,
            "width": null
          }
        },
        "9be36f35fc594e14843eda8622a3194e": {
          "model_module": "@jupyter-widgets/controls",
          "model_name": "DescriptionStyleModel",
          "model_module_version": "1.5.0",
          "state": {
            "_model_module": "@jupyter-widgets/controls",
            "_model_module_version": "1.5.0",
            "_model_name": "DescriptionStyleModel",
            "_view_count": null,
            "_view_module": "@jupyter-widgets/base",
            "_view_module_version": "1.2.0",
            "_view_name": "StyleView",
            "description_width": ""
          }
        }
      }
    }
  },
  "nbformat": 4,
  "nbformat_minor": 0
}